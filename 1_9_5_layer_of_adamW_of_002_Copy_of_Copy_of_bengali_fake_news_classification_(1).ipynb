{
  "cells": [
    {
      "cell_type": "markdown",
      "metadata": {
        "id": "3HE5D1Pjt-ql"
      },
      "source": [
        "# Bengali Fake News Classification\n",
        "```\n",
        "    আমি বাংলায় গান গাই\n",
        "    আমি বাংলার গান গাই।\n",
        "    আমি আমার আমিকে চিরদিন\n",
        "    এই বাংলায় খুঁজে পাই।\n",
        "    \n",
        "```"
      ]
    },
    {
      "cell_type": "code",
      "execution_count": 1,
      "metadata": {
        "colab": {
          "base_uri": "https://localhost:8080/"
        },
        "id": "VqZuKbvauBOZ",
        "outputId": "3ebf6fdd-697d-4fe3-8fd2-73d341fc3825"
      },
      "outputs": [
        {
          "output_type": "stream",
          "name": "stdout",
          "text": [
            "Drive already mounted at /content/drive; to attempt to forcibly remount, call drive.mount(\"/content/drive\", force_remount=True).\n"
          ]
        }
      ],
      "source": [
        "from google.colab import drive\n",
        "drive.mount('/content/drive')"
      ]
    },
    {
      "cell_type": "code",
      "execution_count": 2,
      "metadata": {
        "id": "TQEiJXlCt-qr"
      },
      "outputs": [],
      "source": [
        "import warnings\n",
        "warnings.filterwarnings('ignore')"
      ]
    },
    {
      "cell_type": "code",
      "execution_count": 3,
      "metadata": {
        "id": "IVfdevFBt-qt"
      },
      "outputs": [],
      "source": [
        "import pandas as pd\n",
        "auth = pd.read_csv(\"/content/drive/MyDrive/Colab Notebooks/Authentic-48K.csv\")\n",
        "fake = pd.read_csv(\"/content/drive/MyDrive/Colab Notebooks/Fake-1K.csv\")\n",
        "\n"
      ]
    },
    {
      "cell_type": "code",
      "execution_count": 4,
      "metadata": {
        "id": "_fPIqLnEhN6D"
      },
      "outputs": [],
      "source": [
        "df1=auth\n",
        "df2=fake\n",
        "df_merged = df1.merge(df2)\n"
      ]
    },
    {
      "cell_type": "code",
      "execution_count": 5,
      "metadata": {
        "colab": {
          "base_uri": "https://localhost:8080/",
          "height": 337
        },
        "id": "l_icyM6Pt-qu",
        "outputId": "43fc7406-c4c8-416d-ce58-0eea148a868b"
      },
      "outputs": [
        {
          "output_type": "execute_result",
          "data": {
            "text/plain": [
              "   articleID          domain                 date   category  \\\n",
              "0          1  jagonews24.com  2018-09-19 17:48:18  Education   \n",
              "1          2  jagonews24.com  2018-09-19 17:48:19   National   \n",
              "2          3  jagonews24.com  2018-09-19 17:48:20   National   \n",
              "3          4  jagonews24.com  2018-09-19 17:48:21      Crime   \n",
              "4          5  jagonews24.com  2018-09-19 17:48:21   National   \n",
              "\n",
              "                                            headline  \\\n",
              "0   হট্টগোল করায় বাকৃবিতে দুইজন বরখাস্ত, ৬ জনকে শোকজ   \n",
              "1    মালয়েশিয়ায় কর্মী পাঠানোর ব্যবস্থা নেয়ার সুপারিশ   \n",
              "2  প্রেমের প্রস্তাবে রাজি না হওয়ায় স্কুলছাত্রীকে ...   \n",
              "3  মেডিয়েশনই মামলাজট নিরসনের পথ : বিচারপতি আহমেদ ...   \n",
              "4         টকশোতে বক্তব্য দিতে গিয়ে জাপা নেতার মৃত্যু   \n",
              "\n",
              "                                             content  label  \n",
              "0  গত ১৭ সেপ্টেম্বর বাংলাদেশ কৃষি বিশ্ববিদ্যালয়ে ...      1  \n",
              "1  বাংলাদেশের বৃহৎ শ্রমবাজার মালয়েশিয়ায় আবার শ্রম...      1  \n",
              "2  নরসিংদীর মনোহরদীতে প্রেমের প্রস্তাবে রাজি না হ...      1  \n",
              "3  সুপ্রিম কোর্টের হাইকোর্ট বিভাগের বিচারপতি আহমে...      1  \n",
              "4  মাদারীপুর সদরের উপজেলার লেকেরপাড়ে একটি বেসরকার...      1  "
            ],
            "text/html": [
              "\n",
              "  <div id=\"df-98f6c319-a767-4f69-a2eb-115f717cf512\">\n",
              "    <div class=\"colab-df-container\">\n",
              "      <div>\n",
              "<style scoped>\n",
              "    .dataframe tbody tr th:only-of-type {\n",
              "        vertical-align: middle;\n",
              "    }\n",
              "\n",
              "    .dataframe tbody tr th {\n",
              "        vertical-align: top;\n",
              "    }\n",
              "\n",
              "    .dataframe thead th {\n",
              "        text-align: right;\n",
              "    }\n",
              "</style>\n",
              "<table border=\"1\" class=\"dataframe\">\n",
              "  <thead>\n",
              "    <tr style=\"text-align: right;\">\n",
              "      <th></th>\n",
              "      <th>articleID</th>\n",
              "      <th>domain</th>\n",
              "      <th>date</th>\n",
              "      <th>category</th>\n",
              "      <th>headline</th>\n",
              "      <th>content</th>\n",
              "      <th>label</th>\n",
              "    </tr>\n",
              "  </thead>\n",
              "  <tbody>\n",
              "    <tr>\n",
              "      <th>0</th>\n",
              "      <td>1</td>\n",
              "      <td>jagonews24.com</td>\n",
              "      <td>2018-09-19 17:48:18</td>\n",
              "      <td>Education</td>\n",
              "      <td>হট্টগোল করায় বাকৃবিতে দুইজন বরখাস্ত, ৬ জনকে শোকজ</td>\n",
              "      <td>গত ১৭ সেপ্টেম্বর বাংলাদেশ কৃষি বিশ্ববিদ্যালয়ে ...</td>\n",
              "      <td>1</td>\n",
              "    </tr>\n",
              "    <tr>\n",
              "      <th>1</th>\n",
              "      <td>2</td>\n",
              "      <td>jagonews24.com</td>\n",
              "      <td>2018-09-19 17:48:19</td>\n",
              "      <td>National</td>\n",
              "      <td>মালয়েশিয়ায় কর্মী পাঠানোর ব্যবস্থা নেয়ার সুপারিশ</td>\n",
              "      <td>বাংলাদেশের বৃহৎ শ্রমবাজার মালয়েশিয়ায় আবার শ্রম...</td>\n",
              "      <td>1</td>\n",
              "    </tr>\n",
              "    <tr>\n",
              "      <th>2</th>\n",
              "      <td>3</td>\n",
              "      <td>jagonews24.com</td>\n",
              "      <td>2018-09-19 17:48:20</td>\n",
              "      <td>National</td>\n",
              "      <td>প্রেমের প্রস্তাবে রাজি না হওয়ায় স্কুলছাত্রীকে ...</td>\n",
              "      <td>নরসিংদীর মনোহরদীতে প্রেমের প্রস্তাবে রাজি না হ...</td>\n",
              "      <td>1</td>\n",
              "    </tr>\n",
              "    <tr>\n",
              "      <th>3</th>\n",
              "      <td>4</td>\n",
              "      <td>jagonews24.com</td>\n",
              "      <td>2018-09-19 17:48:21</td>\n",
              "      <td>Crime</td>\n",
              "      <td>মেডিয়েশনই মামলাজট নিরসনের পথ : বিচারপতি আহমেদ ...</td>\n",
              "      <td>সুপ্রিম কোর্টের হাইকোর্ট বিভাগের বিচারপতি আহমে...</td>\n",
              "      <td>1</td>\n",
              "    </tr>\n",
              "    <tr>\n",
              "      <th>4</th>\n",
              "      <td>5</td>\n",
              "      <td>jagonews24.com</td>\n",
              "      <td>2018-09-19 17:48:21</td>\n",
              "      <td>National</td>\n",
              "      <td>টকশোতে বক্তব্য দিতে গিয়ে জাপা নেতার মৃত্যু</td>\n",
              "      <td>মাদারীপুর সদরের উপজেলার লেকেরপাড়ে একটি বেসরকার...</td>\n",
              "      <td>1</td>\n",
              "    </tr>\n",
              "  </tbody>\n",
              "</table>\n",
              "</div>\n",
              "      <button class=\"colab-df-convert\" onclick=\"convertToInteractive('df-98f6c319-a767-4f69-a2eb-115f717cf512')\"\n",
              "              title=\"Convert this dataframe to an interactive table.\"\n",
              "              style=\"display:none;\">\n",
              "        \n",
              "  <svg xmlns=\"http://www.w3.org/2000/svg\" height=\"24px\"viewBox=\"0 0 24 24\"\n",
              "       width=\"24px\">\n",
              "    <path d=\"M0 0h24v24H0V0z\" fill=\"none\"/>\n",
              "    <path d=\"M18.56 5.44l.94 2.06.94-2.06 2.06-.94-2.06-.94-.94-2.06-.94 2.06-2.06.94zm-11 1L8.5 8.5l.94-2.06 2.06-.94-2.06-.94L8.5 2.5l-.94 2.06-2.06.94zm10 10l.94 2.06.94-2.06 2.06-.94-2.06-.94-.94-2.06-.94 2.06-2.06.94z\"/><path d=\"M17.41 7.96l-1.37-1.37c-.4-.4-.92-.59-1.43-.59-.52 0-1.04.2-1.43.59L10.3 9.45l-7.72 7.72c-.78.78-.78 2.05 0 2.83L4 21.41c.39.39.9.59 1.41.59.51 0 1.02-.2 1.41-.59l7.78-7.78 2.81-2.81c.8-.78.8-2.07 0-2.86zM5.41 20L4 18.59l7.72-7.72 1.47 1.35L5.41 20z\"/>\n",
              "  </svg>\n",
              "      </button>\n",
              "      \n",
              "  <style>\n",
              "    .colab-df-container {\n",
              "      display:flex;\n",
              "      flex-wrap:wrap;\n",
              "      gap: 12px;\n",
              "    }\n",
              "\n",
              "    .colab-df-convert {\n",
              "      background-color: #E8F0FE;\n",
              "      border: none;\n",
              "      border-radius: 50%;\n",
              "      cursor: pointer;\n",
              "      display: none;\n",
              "      fill: #1967D2;\n",
              "      height: 32px;\n",
              "      padding: 0 0 0 0;\n",
              "      width: 32px;\n",
              "    }\n",
              "\n",
              "    .colab-df-convert:hover {\n",
              "      background-color: #E2EBFA;\n",
              "      box-shadow: 0px 1px 2px rgba(60, 64, 67, 0.3), 0px 1px 3px 1px rgba(60, 64, 67, 0.15);\n",
              "      fill: #174EA6;\n",
              "    }\n",
              "\n",
              "    [theme=dark] .colab-df-convert {\n",
              "      background-color: #3B4455;\n",
              "      fill: #D2E3FC;\n",
              "    }\n",
              "\n",
              "    [theme=dark] .colab-df-convert:hover {\n",
              "      background-color: #434B5C;\n",
              "      box-shadow: 0px 1px 3px 1px rgba(0, 0, 0, 0.15);\n",
              "      filter: drop-shadow(0px 1px 2px rgba(0, 0, 0, 0.3));\n",
              "      fill: #FFFFFF;\n",
              "    }\n",
              "  </style>\n",
              "\n",
              "      <script>\n",
              "        const buttonEl =\n",
              "          document.querySelector('#df-98f6c319-a767-4f69-a2eb-115f717cf512 button.colab-df-convert');\n",
              "        buttonEl.style.display =\n",
              "          google.colab.kernel.accessAllowed ? 'block' : 'none';\n",
              "\n",
              "        async function convertToInteractive(key) {\n",
              "          const element = document.querySelector('#df-98f6c319-a767-4f69-a2eb-115f717cf512');\n",
              "          const dataTable =\n",
              "            await google.colab.kernel.invokeFunction('convertToInteractive',\n",
              "                                                     [key], {});\n",
              "          if (!dataTable) return;\n",
              "\n",
              "          const docLinkHtml = 'Like what you see? Visit the ' +\n",
              "            '<a target=\"_blank\" href=https://colab.research.google.com/notebooks/data_table.ipynb>data table notebook</a>'\n",
              "            + ' to learn more about interactive tables.';\n",
              "          element.innerHTML = '';\n",
              "          dataTable['output_type'] = 'display_data';\n",
              "          await google.colab.output.renderOutput(dataTable, element);\n",
              "          const docLink = document.createElement('div');\n",
              "          docLink.innerHTML = docLinkHtml;\n",
              "          element.appendChild(docLink);\n",
              "        }\n",
              "      </script>\n",
              "    </div>\n",
              "  </div>\n",
              "  "
            ]
          },
          "metadata": {},
          "execution_count": 5
        }
      ],
      "source": [
        "auth.head()"
      ]
    },
    {
      "cell_type": "code",
      "execution_count": 6,
      "metadata": {
        "colab": {
          "base_uri": "https://localhost:8080/",
          "height": 337
        },
        "id": "h6qkxuuat-qv",
        "outputId": "7855efb9-1ea7-4b7a-afdf-7c2e81db6374"
      },
      "outputs": [
        {
          "output_type": "execute_result",
          "data": {
            "text/plain": [
              "   articleID                    domain                        date  \\\n",
              "0          1         channeldhaka.news   2019-03-14T13:34:14+00:00   \n",
              "1          2                 earki.com            সেম্বর ১৭, ২০১৮    \n",
              "2          3                 earki.com  ২০:৩৯, জানুয়ারি ১৪, ২০১৯    \n",
              "3          4         channeldhaka.news   2018-06-30T15:56:47+00:00   \n",
              "4          5  motikontho.wordpress.com   2013-03-05T21:55:45+00:00   \n",
              "\n",
              "        category                                           headline  \\\n",
              "0  International                           মুরগির হামলায় শেয়াল নিহত   \n",
              "1  Miscellaneous            বিটিভিতে যেবার আমি ইন্টারভিউ দিতে গেলাম   \n",
              "2  Miscellaneous  বিদেশ থেকে উন্নতমানের বিরোধীদল আমদানি করার পরা...   \n",
              "3         Sports                      অবসর নেয়ার ঘোষণা দিলেন মেসি !   \n",
              "4  Miscellaneous  মাদারফাকার নহে, ব্রাদারফাকার: সাকা | দৈনিক মতি...   \n",
              "\n",
              "                                             content  label  \n",
              "0  বাংলায় একটা প্রবাদ আছে, শেয়ালের কাছে মুরগী বর্...      0  \n",
              "1  BTV থেকে লোকজন আসছে, ইন্টারভিউ নিবে।চারজনের টি...      0  \n",
              "2  অদ্ভুত বিরোধীদলহীনতায় ভুগছে সরকার। এ এক অন্যরক...      0  \n",
              "3  রাশিয়া বিশ্বকাপ নকআউট পর্বে ফ্রান্সের সাথে ৪-৩...      0  \n",
              "4  নিজস্ব মতিবেদক‘মাদারফাকার নহে, আমি ব্রাদারফাকা...      0  "
            ],
            "text/html": [
              "\n",
              "  <div id=\"df-f3c25c5e-3cb0-405d-8cad-e2ed73ace338\">\n",
              "    <div class=\"colab-df-container\">\n",
              "      <div>\n",
              "<style scoped>\n",
              "    .dataframe tbody tr th:only-of-type {\n",
              "        vertical-align: middle;\n",
              "    }\n",
              "\n",
              "    .dataframe tbody tr th {\n",
              "        vertical-align: top;\n",
              "    }\n",
              "\n",
              "    .dataframe thead th {\n",
              "        text-align: right;\n",
              "    }\n",
              "</style>\n",
              "<table border=\"1\" class=\"dataframe\">\n",
              "  <thead>\n",
              "    <tr style=\"text-align: right;\">\n",
              "      <th></th>\n",
              "      <th>articleID</th>\n",
              "      <th>domain</th>\n",
              "      <th>date</th>\n",
              "      <th>category</th>\n",
              "      <th>headline</th>\n",
              "      <th>content</th>\n",
              "      <th>label</th>\n",
              "    </tr>\n",
              "  </thead>\n",
              "  <tbody>\n",
              "    <tr>\n",
              "      <th>0</th>\n",
              "      <td>1</td>\n",
              "      <td>channeldhaka.news</td>\n",
              "      <td>2019-03-14T13:34:14+00:00</td>\n",
              "      <td>International</td>\n",
              "      <td>মুরগির হামলায় শেয়াল নিহত</td>\n",
              "      <td>বাংলায় একটা প্রবাদ আছে, শেয়ালের কাছে মুরগী বর্...</td>\n",
              "      <td>0</td>\n",
              "    </tr>\n",
              "    <tr>\n",
              "      <th>1</th>\n",
              "      <td>2</td>\n",
              "      <td>earki.com</td>\n",
              "      <td>সেম্বর ১৭, ২০১৮</td>\n",
              "      <td>Miscellaneous</td>\n",
              "      <td>বিটিভিতে যেবার আমি ইন্টারভিউ দিতে গেলাম</td>\n",
              "      <td>BTV থেকে লোকজন আসছে, ইন্টারভিউ নিবে।চারজনের টি...</td>\n",
              "      <td>0</td>\n",
              "    </tr>\n",
              "    <tr>\n",
              "      <th>2</th>\n",
              "      <td>3</td>\n",
              "      <td>earki.com</td>\n",
              "      <td>২০:৩৯, জানুয়ারি ১৪, ২০১৯</td>\n",
              "      <td>Miscellaneous</td>\n",
              "      <td>বিদেশ থেকে উন্নতমানের বিরোধীদল আমদানি করার পরা...</td>\n",
              "      <td>অদ্ভুত বিরোধীদলহীনতায় ভুগছে সরকার। এ এক অন্যরক...</td>\n",
              "      <td>0</td>\n",
              "    </tr>\n",
              "    <tr>\n",
              "      <th>3</th>\n",
              "      <td>4</td>\n",
              "      <td>channeldhaka.news</td>\n",
              "      <td>2018-06-30T15:56:47+00:00</td>\n",
              "      <td>Sports</td>\n",
              "      <td>অবসর নেয়ার ঘোষণা দিলেন মেসি !</td>\n",
              "      <td>রাশিয়া বিশ্বকাপ নকআউট পর্বে ফ্রান্সের সাথে ৪-৩...</td>\n",
              "      <td>0</td>\n",
              "    </tr>\n",
              "    <tr>\n",
              "      <th>4</th>\n",
              "      <td>5</td>\n",
              "      <td>motikontho.wordpress.com</td>\n",
              "      <td>2013-03-05T21:55:45+00:00</td>\n",
              "      <td>Miscellaneous</td>\n",
              "      <td>মাদারফাকার নহে, ব্রাদারফাকার: সাকা | দৈনিক মতি...</td>\n",
              "      <td>নিজস্ব মতিবেদক‘মাদারফাকার নহে, আমি ব্রাদারফাকা...</td>\n",
              "      <td>0</td>\n",
              "    </tr>\n",
              "  </tbody>\n",
              "</table>\n",
              "</div>\n",
              "      <button class=\"colab-df-convert\" onclick=\"convertToInteractive('df-f3c25c5e-3cb0-405d-8cad-e2ed73ace338')\"\n",
              "              title=\"Convert this dataframe to an interactive table.\"\n",
              "              style=\"display:none;\">\n",
              "        \n",
              "  <svg xmlns=\"http://www.w3.org/2000/svg\" height=\"24px\"viewBox=\"0 0 24 24\"\n",
              "       width=\"24px\">\n",
              "    <path d=\"M0 0h24v24H0V0z\" fill=\"none\"/>\n",
              "    <path d=\"M18.56 5.44l.94 2.06.94-2.06 2.06-.94-2.06-.94-.94-2.06-.94 2.06-2.06.94zm-11 1L8.5 8.5l.94-2.06 2.06-.94-2.06-.94L8.5 2.5l-.94 2.06-2.06.94zm10 10l.94 2.06.94-2.06 2.06-.94-2.06-.94-.94-2.06-.94 2.06-2.06.94z\"/><path d=\"M17.41 7.96l-1.37-1.37c-.4-.4-.92-.59-1.43-.59-.52 0-1.04.2-1.43.59L10.3 9.45l-7.72 7.72c-.78.78-.78 2.05 0 2.83L4 21.41c.39.39.9.59 1.41.59.51 0 1.02-.2 1.41-.59l7.78-7.78 2.81-2.81c.8-.78.8-2.07 0-2.86zM5.41 20L4 18.59l7.72-7.72 1.47 1.35L5.41 20z\"/>\n",
              "  </svg>\n",
              "      </button>\n",
              "      \n",
              "  <style>\n",
              "    .colab-df-container {\n",
              "      display:flex;\n",
              "      flex-wrap:wrap;\n",
              "      gap: 12px;\n",
              "    }\n",
              "\n",
              "    .colab-df-convert {\n",
              "      background-color: #E8F0FE;\n",
              "      border: none;\n",
              "      border-radius: 50%;\n",
              "      cursor: pointer;\n",
              "      display: none;\n",
              "      fill: #1967D2;\n",
              "      height: 32px;\n",
              "      padding: 0 0 0 0;\n",
              "      width: 32px;\n",
              "    }\n",
              "\n",
              "    .colab-df-convert:hover {\n",
              "      background-color: #E2EBFA;\n",
              "      box-shadow: 0px 1px 2px rgba(60, 64, 67, 0.3), 0px 1px 3px 1px rgba(60, 64, 67, 0.15);\n",
              "      fill: #174EA6;\n",
              "    }\n",
              "\n",
              "    [theme=dark] .colab-df-convert {\n",
              "      background-color: #3B4455;\n",
              "      fill: #D2E3FC;\n",
              "    }\n",
              "\n",
              "    [theme=dark] .colab-df-convert:hover {\n",
              "      background-color: #434B5C;\n",
              "      box-shadow: 0px 1px 3px 1px rgba(0, 0, 0, 0.15);\n",
              "      filter: drop-shadow(0px 1px 2px rgba(0, 0, 0, 0.3));\n",
              "      fill: #FFFFFF;\n",
              "    }\n",
              "  </style>\n",
              "\n",
              "      <script>\n",
              "        const buttonEl =\n",
              "          document.querySelector('#df-f3c25c5e-3cb0-405d-8cad-e2ed73ace338 button.colab-df-convert');\n",
              "        buttonEl.style.display =\n",
              "          google.colab.kernel.accessAllowed ? 'block' : 'none';\n",
              "\n",
              "        async function convertToInteractive(key) {\n",
              "          const element = document.querySelector('#df-f3c25c5e-3cb0-405d-8cad-e2ed73ace338');\n",
              "          const dataTable =\n",
              "            await google.colab.kernel.invokeFunction('convertToInteractive',\n",
              "                                                     [key], {});\n",
              "          if (!dataTable) return;\n",
              "\n",
              "          const docLinkHtml = 'Like what you see? Visit the ' +\n",
              "            '<a target=\"_blank\" href=https://colab.research.google.com/notebooks/data_table.ipynb>data table notebook</a>'\n",
              "            + ' to learn more about interactive tables.';\n",
              "          element.innerHTML = '';\n",
              "          dataTable['output_type'] = 'display_data';\n",
              "          await google.colab.output.renderOutput(dataTable, element);\n",
              "          const docLink = document.createElement('div');\n",
              "          docLink.innerHTML = docLinkHtml;\n",
              "          element.appendChild(docLink);\n",
              "        }\n",
              "      </script>\n",
              "    </div>\n",
              "  </div>\n",
              "  "
            ]
          },
          "metadata": {},
          "execution_count": 6
        }
      ],
      "source": [
        "fake.head()"
      ]
    },
    {
      "cell_type": "markdown",
      "metadata": {
        "id": "0i-btN2At-qv"
      },
      "source": [
        "# EDA"
      ]
    },
    {
      "cell_type": "code",
      "execution_count": 7,
      "metadata": {
        "id": "NSF6mHNtt-qw"
      },
      "outputs": [],
      "source": [
        "import matplotlib.pyplot as plt\n",
        "\n",
        "def show_bar(column, title, top=100):\n",
        "  plt.figure(figsize=(20,5))\n",
        "  column[:top].plot(kind='bar')\n",
        "  plt.title(title)\n",
        "  plt.xlabel(\"ID\")\n",
        "  plt.ylabel(\"Count\")\n",
        "  plt.show()\n",
        "\n",
        "\n",
        "import seaborn as sns\n",
        "\n",
        "def show_dist(column):\n",
        "  plt.figure(figsize=(10,5))\n",
        "  sns.distplot(column)\n",
        "  plt.show()"
      ]
    },
    {
      "cell_type": "markdown",
      "metadata": {
        "id": "qTh24d-wt-qx"
      },
      "source": [
        "### Compare Headline Length and Content Length"
      ]
    },
    {
      "cell_type": "code",
      "execution_count": 8,
      "metadata": {
        "colab": {
          "base_uri": "https://localhost:8080/",
          "height": 704
        },
        "id": "pusLUGeot-qy",
        "outputId": "0d0a85c0-79d0-4643-840d-5c90a1a69a95"
      },
      "outputs": [
        {
          "output_type": "display_data",
          "data": {
            "text/plain": [
              "<Figure size 1440x360 with 1 Axes>"
            ],
            "image/png": "[encoded data removed]"
          },
          "metadata": {
            "needs_background": "light"
          }
        },
        {
          "output_type": "stream",
          "name": "stdout",
          "text": [
            "\n"
          ]
        },
        {
          "output_type": "display_data",
          "data": {
            "text/plain": [
              "<Figure size 1440x360 with 1 Axes>"
            ],
            "image/png": "[encoded data removed]"
          },
          "metadata": {
            "needs_background": "light"
          }
        }
      ],
      "source": [
        "auth['head_lenght'] = auth.headline.apply(lambda x : len(x.split()))\n",
        "auth['content_head_lenght'] = auth.content.apply(lambda x : len(x.split()))\n",
        "\n",
        "\n",
        "show_bar(auth.head_lenght, \"Authentic Headlines Length TOP 100\")\n",
        "print(\"\")\n",
        "show_bar(auth.content_head_lenght, \"Authentic Content Length TOP 100\")"
      ]
    },
    {
      "cell_type": "code",
      "execution_count": 9,
      "metadata": {
        "colab": {
          "base_uri": "https://localhost:8080/",
          "height": 670
        },
        "id": "l7mJsL1nt-qy",
        "outputId": "7f408a9b-cd82-4d64-cf84-2045ffe28f5a"
      },
      "outputs": [
        {
          "output_type": "display_data",
          "data": {
            "text/plain": [
              "<Figure size 720x360 with 1 Axes>"
            ],
            "image/png": "[encoded data removed]"
          },
          "metadata": {
            "needs_background": "light"
          }
        },
        {
          "output_type": "stream",
          "name": "stdout",
          "text": [
            "\n"
          ]
        },
        {
          "output_type": "display_data",
          "data": {
            "text/plain": [
              "<Figure size 720x360 with 1 Axes>"
            ],
            "image/png": "[encoded data removed]"
          },
          "metadata": {
            "needs_background": "light"
          }
        }
      ],
      "source": [
        "show_dist(auth.head_lenght)\n",
        "print(\"\")\n",
        "show_dist(auth.content_head_lenght)"
      ]
    },
    {
      "cell_type": "code",
      "execution_count": 10,
      "metadata": {
        "colab": {
          "base_uri": "https://localhost:8080/",
          "height": 704
        },
        "id": "r7Z80nBLt-qz",
        "outputId": "fd776442-b906-497b-8950-5448a2a836c7"
      },
      "outputs": [
        {
          "output_type": "display_data",
          "data": {
            "text/plain": [
              "<Figure size 1440x360 with 1 Axes>"
            ],
            "image/png": "[encoded data removed]"
          },
          "metadata": {
            "needs_background": "light"
          }
        },
        {
          "output_type": "stream",
          "name": "stdout",
          "text": [
            "\n"
          ]
        },
        {
          "output_type": "display_data",
          "data": {
            "text/plain": [
              "<Figure size 1440x360 with 1 Axes>"
            ],
            "image/png": "[encoded data removed]"
          },
          "metadata": {
            "needs_background": "light"
          }
        }
      ],
      "source": [
        "fake['head_lenght'] = fake.headline.apply(lambda x : len(x.split()))\n",
        "fake['content_head_lenght'] = fake.content.apply(lambda x : len(x.split()))\n",
        "\n",
        "show_bar(fake.head_lenght, \"Fake Headlines Length TOP 100\")\n",
        "print(\"\")\n",
        "show_bar(fake.content_head_lenght, \"Fake Content Length TOP 100\")"
      ]
    },
    {
      "cell_type": "code",
      "execution_count": 11,
      "metadata": {
        "colab": {
          "base_uri": "https://localhost:8080/",
          "height": 670
        },
        "id": "3log0lzkt-qz",
        "outputId": "ea7d088b-a365-46f5-89e6-97c94deaa303"
      },
      "outputs": [
        {
          "output_type": "display_data",
          "data": {
            "text/plain": [
              "<Figure size 720x360 with 1 Axes>"
            ],
            "image/png": "[encoded data removed]"
          },
          "metadata": {
            "needs_background": "light"
          }
        },
        {
          "output_type": "stream",
          "name": "stdout",
          "text": [
            "\n"
          ]
        },
        {
          "output_type": "display_data",
          "data": {
            "text/plain": [
              "<Figure size 720x360 with 1 Axes>"
            ],
            "image/png": "[encoded data removed]"
          },
          "metadata": {
            "needs_background": "light"
          }
        }
      ],
      "source": [
        "show_dist(fake.head_lenght)\n",
        "print(\"\")\n",
        "show_dist(fake.content_head_lenght)"
      ]
    },
    {
      "cell_type": "markdown",
      "metadata": {
        "id": "jF_rhBGft-q0"
      },
      "source": [
        "## Word Cloud"
      ]
    },
    {
      "cell_type": "code",
      "execution_count": 12,
      "metadata": {
        "colab": {
          "base_uri": "https://localhost:8080/"
        },
        "id": "5hreL6Ctt-q0",
        "outputId": "45b048de-3141-4f66-ad3e-00bb6fff7ed1"
      },
      "outputs": [
        {
          "output_type": "stream",
          "name": "stdout",
          "text": [
            "--2023-01-05 04:48:10--  https://www.easynepalityping.com/resource/font/bangla/06-nikosh-bangla-font.zip\n",
            "Resolving www.easynepalityping.com (www.easynepalityping.com)... 172.67.165.83, 104.21.11.66, 2606:4700:3035::ac43:a553, ...\n",
            "Connecting to www.easynepalityping.com (www.easynepalityping.com)|172.67.165.83|:443... connected.\n",
            "HTTP request sent, awaiting response... 200 OK\n",
            "Length: 317905 (310K) [application/zip]\n",
            "Saving to: ‘06-nikosh-bangla-font.zip.1’\n",
            "\n",
            "\r          06-nikosh   0%[                    ]       0  --.-KB/s               \r06-nikosh-bangla-fo 100%[===================>] 310.45K  --.-KB/s    in 0.06s   \n",
            "\n",
            "2023-01-05 04:48:10 (4.92 MB/s) - ‘06-nikosh-bangla-font.zip.1’ saved [317905/317905]\n",
            "\n"
          ]
        }
      ],
      "source": [
        "!wget https://www.easynepalityping.com/resource/font/bangla/06-nikosh-bangla-font.zip"
      ]
    },
    {
      "cell_type": "code",
      "execution_count": 13,
      "metadata": {
        "colab": {
          "base_uri": "https://localhost:8080/"
        },
        "id": "A8igAAzdt-q1",
        "outputId": "a32e184c-418e-49ec-f4be-5a97f059897b"
      },
      "outputs": [
        {
          "output_type": "stream",
          "name": "stdout",
          "text": [
            "Archive:  06-nikosh-bangla-font.zip\n",
            "replace Nikosh.ttf? [y]es, [n]o, [A]ll, [N]one, [r]ename: y\n",
            "  inflating: Nikosh.ttf              \n"
          ]
        }
      ],
      "source": [
        "!unzip 06-nikosh-bangla-font.zip"
      ]
    },
    {
      "cell_type": "code",
      "execution_count": 14,
      "metadata": {
        "id": "2QhgrpiJt-q1"
      },
      "outputs": [],
      "source": [
        "from wordcloud import WordCloud, STOPWORDS\n",
        "\n",
        "def plot_world(text):\n",
        "\n",
        "    wordcloud = WordCloud(width = 500, height = 500, \n",
        "                    background_color ='black', \n",
        "                    font_path=\"Nikosh.ttf\",\n",
        "                    min_font_size = 10).generate(text) \n",
        "\n",
        "    # plot the WordCloud image                        \n",
        "    plt.figure(figsize = (5, 5), facecolor = 'k', edgecolor = 'k' ) \n",
        "    plt.imshow(wordcloud) \n",
        "    plt.axis(\"off\") \n",
        "    plt.tight_layout(pad = 0) \n",
        "\n",
        "    plt.show() "
      ]
    },
    {
      "cell_type": "code",
      "execution_count": 14,
      "metadata": {
        "id": "UbUL7UGCt-q2"
      },
      "outputs": [],
      "source": []
    },
    {
      "cell_type": "code",
      "execution_count": 15,
      "metadata": {
        "colab": {
          "base_uri": "https://localhost:8080/",
          "height": 391
        },
        "id": "pPBVrdkXt-q2",
        "outputId": "210cf8a5-c7e8-4d91-f2d6-7be4eeb793a8"
      },
      "outputs": [
        {
          "output_type": "display_data",
          "data": {
            "text/plain": [
              "<Figure size 360x360 with 1 Axes>"
            ],
            "image/png": "[encoded data removed]"
          },
          "metadata": {}
        }
      ],
      "source": [
        "s= \" \".join(auth.headline[:100])\n",
        "plot_world(s)"
      ]
    },
    {
      "cell_type": "code",
      "execution_count": 16,
      "metadata": {
        "colab": {
          "base_uri": "https://localhost:8080/",
          "height": 391
        },
        "id": "6XX3OjhOt-q2",
        "outputId": "09ea332c-6570-4a73-f2c9-89b4ce22af2f"
      },
      "outputs": [
        {
          "output_type": "display_data",
          "data": {
            "text/plain": [
              "<Figure size 360x360 with 1 Axes>"
            ],
            "image/png": "[encoded data removed]"
          },
          "metadata": {}
        }
      ],
      "source": [
        "s= \" \".join(fake.headline[:100])\n",
        "plot_world(s)"
      ]
    },
    {
      "cell_type": "markdown",
      "metadata": {
        "id": "Jz0FI7Gft-q3"
      },
      "source": [
        "# Analysis Words"
      ]
    },
    {
      "cell_type": "code",
      "execution_count": 17,
      "metadata": {
        "colab": {
          "base_uri": "https://localhost:8080/"
        },
        "id": "dQ-tgfr0t-q3",
        "outputId": "46a1f1e9-aa6f-4275-e047-f5db0164b0af"
      },
      "outputs": [
        {
          "output_type": "stream",
          "name": "stdout",
          "text": [
            "Looking in indexes: https://pypi.org/simple, https://us-python.pkg.dev/colab-wheels/public/simple/\n",
            "Requirement already satisfied: bnlp_toolkit in /usr/local/lib/python3.8/dist-packages (3.2.0)\n",
            "Requirement already satisfied: sentencepiece in /usr/local/lib/python3.8/dist-packages (from bnlp_toolkit) (0.1.97)\n",
            "Requirement already satisfied: nltk in /usr/local/lib/python3.8/dist-packages (from bnlp_toolkit) (3.7)\n",
            "Requirement already satisfied: numpy in /usr/local/lib/python3.8/dist-packages (from bnlp_toolkit) (1.21.6)\n",
            "Requirement already satisfied: scipy in /usr/local/lib/python3.8/dist-packages (from bnlp_toolkit) (1.7.3)\n",
            "Requirement already satisfied: gensim==4.0.1 in /usr/local/lib/python3.8/dist-packages (from bnlp_toolkit) (4.0.1)\n",
            "Requirement already satisfied: tqdm in /usr/local/lib/python3.8/dist-packages (from bnlp_toolkit) (4.64.1)\n",
            "Requirement already satisfied: wasabi in /usr/local/lib/python3.8/dist-packages (from bnlp_toolkit) (0.10.1)\n",
            "Requirement already satisfied: sklearn-crfsuite in /usr/local/lib/python3.8/dist-packages (from bnlp_toolkit) (0.3.6)\n",
            "Requirement already satisfied: smart-open>=1.8.1 in /usr/local/lib/python3.8/dist-packages (from gensim==4.0.1->bnlp_toolkit) (6.3.0)\n",
            "Requirement already satisfied: click in /usr/local/lib/python3.8/dist-packages (from nltk->bnlp_toolkit) (7.1.2)\n",
            "Requirement already satisfied: regex>=2021.8.3 in /usr/local/lib/python3.8/dist-packages (from nltk->bnlp_toolkit) (2022.6.2)\n",
            "Requirement already satisfied: joblib in /usr/local/lib/python3.8/dist-packages (from nltk->bnlp_toolkit) (1.2.0)\n",
            "Requirement already satisfied: tabulate in /usr/local/lib/python3.8/dist-packages (from sklearn-crfsuite->bnlp_toolkit) (0.8.10)\n",
            "Requirement already satisfied: six in /usr/local/lib/python3.8/dist-packages (from sklearn-crfsuite->bnlp_toolkit) (1.15.0)\n",
            "Requirement already satisfied: python-crfsuite>=0.8.3 in /usr/local/lib/python3.8/dist-packages (from sklearn-crfsuite->bnlp_toolkit) (0.9.8)\n"
          ]
        }
      ],
      "source": [
        "!pip install bnlp_toolkit"
      ]
    },
    {
      "cell_type": "code",
      "execution_count": 18,
      "metadata": {
        "colab": {
          "base_uri": "https://localhost:8080/"
        },
        "id": "61RalbKIt-q3",
        "outputId": "f2844a31-53d7-4dbc-b615-6650b7d04b6d"
      },
      "outputs": [
        {
          "output_type": "stream",
          "name": "stdout",
          "text": [
            "['আমি', 'বাংলায়', 'গান', 'গাই', 'আমি', 'বাংলার', 'গান', 'গাই', '।', 'আমি', 'আমার', 'আমিকে', 'চিরদিন', 'এই', 'বাংলায়', 'খুঁজে', 'পাই', '।']\n"
          ]
        }
      ],
      "source": [
        "from bnlp import BasicTokenizer\n",
        "tokenizer = BasicTokenizer()\n",
        "\n",
        "s = \"\"\"আমি বাংলায় গান গাই\n",
        "    আমি বাংলার গান গাই।\n",
        "    আমি আমার আমিকে চিরদিন\n",
        "    এই বাংলায় খুঁজে পাই।\"\"\"\n",
        "\n",
        "print(tokenizer.tokenize(s))"
      ]
    },
    {
      "cell_type": "code",
      "execution_count": 19,
      "metadata": {
        "id": "tDda5Ih-t-q4"
      },
      "outputs": [],
      "source": [
        "def create_corpus(texts):\n",
        "    corpus=[]\n",
        "\n",
        "    for txt in texts:\n",
        "      tokens = tokenizer.tokenize(txt)\n",
        "      corpus.extend(tokens)\n",
        "\n",
        "    return corpus"
      ]
    },
    {
      "cell_type": "code",
      "execution_count": 20,
      "metadata": {
        "colab": {
          "base_uri": "https://localhost:8080/"
        },
        "id": "JnmTswNtt-q4",
        "outputId": "c2b744ea-900b-4cfa-d373-185c4af8aefa"
      },
      "outputs": [
        {
          "output_type": "stream",
          "name": "stdout",
          "text": [
            "Total auth tokens in 1000 7482\n",
            "Total auth tokens in 1000 10525\n"
          ]
        }
      ],
      "source": [
        "auth_corpus = create_corpus(auth.headline[:1000])\n",
        "print(\"Total auth tokens in 1000\", len(auth_corpus))\n",
        "\n",
        "fake_corpus = create_corpus(fake.headline[:1000])\n",
        "print(\"Total auth tokens in 1000\", len(fake_corpus))"
      ]
    },
    {
      "cell_type": "code",
      "execution_count": 21,
      "metadata": {
        "id": "OJlMUCwgt-q4"
      },
      "outputs": [],
      "source": [
        "from matplotlib import font_manager\n",
        "# set font\n",
        "font_manager.fontManager.addfont(\"Nikosh.ttf\")\n",
        "plt.rcParams['font.family'] = 'Nikosh'\n",
        "plt.rcParams['font.sans-serif']=['Nikosh']\n",
        "plt.rcParams['axes.unicode_minus']=False"
      ]
    },
    {
      "cell_type": "code",
      "execution_count": 22,
      "metadata": {
        "id": "qLwOceD0t-q4"
      },
      "outputs": [],
      "source": [
        "from collections import defaultdict\n",
        "from collections import  Counter\n",
        "from bnlp.corpus import stopwords\n",
        "import matplotlib.font_manager as fm\n",
        "\n",
        "def show_stop_words(corpus, length=20):\n",
        "  dic = defaultdict(int)\n",
        "\n",
        "  for word in corpus:\n",
        "      if word in stopwords:\n",
        "          dic[word]+=1\n",
        "\n",
        "  top=sorted(dic.items(), key=lambda x:x[1],reverse=True)[:length]\n",
        "  x,y=zip(*top)\n",
        "  print(x)\n",
        "  print(y)\n",
        "  plt.figure(figsize=(10,5))\n",
        "  plt.bar(x,y)\n",
        "  plt.show()"
      ]
    },
    {
      "cell_type": "code",
      "execution_count": 23,
      "metadata": {
        "colab": {
          "base_uri": "https://localhost:8080/",
          "height": 355
        },
        "id": "0AWeU39gt-q5",
        "outputId": "fca07e61-f2d7-4e5f-e177-9eab81721414"
      },
      "outputs": [
        {
          "output_type": "stream",
          "name": "stdout",
          "text": [
            "('না', 'ও', 'শুরু', 'হবে', 'করে', 'নিয়ে', 'জন্য', 'থেকে', 'দুই', 'নতুন', 'সঙ্গে', 'কোটি', 'করা', 'করতে', 'হচ্ছে', 'দিতে', 'পর', 'প্রথম', 'কাজ', 'হাজার')\n",
            "(57, 34, 23, 23, 23, 22, 21, 21, 19, 17, 17, 16, 16, 14, 14, 11, 11, 11, 11, 11)\n"
          ]
        },
        {
          "output_type": "display_data",
          "data": {
            "text/plain": [
              "<Figure size 720x360 with 1 Axes>"
            ],
            "image/png": "[encoded data removed]"
          },
          "metadata": {
            "needs_background": "light"
          }
        }
      ],
      "source": [
        "show_stop_words(auth_corpus)"
      ]
    },
    {
      "cell_type": "code",
      "execution_count": 24,
      "metadata": {
        "colab": {
          "base_uri": "https://localhost:8080/",
          "height": 355
        },
        "id": "RGjmayJdt-q5",
        "outputId": "05e33b92-6ced-4a76-e10e-faa287cc8a55"
      },
      "outputs": [
        {
          "output_type": "stream",
          "name": "stdout",
          "text": [
            "('না', 'যে', 'করে', 'ও', 'থেকে', 'নিয়ে', 'এই', 'জন্য', 'দিলেন', 'করলেন', 'এবার', 'করতে', 'কি', 'করা', 'বেশি', 'হবে', 'দুই', 'যা', 'পর', 'আমার')\n",
            "(101, 58, 53, 40, 36, 36, 36, 28, 26, 25, 25, 25, 25, 22, 20, 20, 20, 18, 17, 17)\n"
          ]
        },
        {
          "output_type": "display_data",
          "data": {
            "text/plain": [
              "<Figure size 720x360 with 1 Axes>"
            ],
            "image/png": "[encoded data removed]"
          },
          "metadata": {
            "needs_background": "light"
          }
        }
      ],
      "source": [
        "show_stop_words(fake_corpus)"
      ]
    },
    {
      "cell_type": "code",
      "execution_count": 25,
      "metadata": {
        "id": "xflzIeygt-q5"
      },
      "outputs": [],
      "source": [
        "from bnlp.corpus import stopwords, punctuations, digits\n",
        "\n",
        "def filters(corpus):\n",
        "  res = []\n",
        "  for i in corpus:\n",
        "    if i in stopwords:\n",
        "      continue\n",
        "\n",
        "    if i in punctuations + '‘' + '’':\n",
        "      continue\n",
        "\n",
        "    if i in digits:\n",
        "      continue\n",
        "\n",
        "    res.append(i)\n",
        "\n",
        "  return res"
      ]
    },
    {
      "cell_type": "code",
      "execution_count": 26,
      "metadata": {
        "id": "892sb5hqt-q6"
      },
      "outputs": [],
      "source": [
        "auth_corpus_filtered = filters(auth_corpus)\n",
        "fake_corpus_filtered = filters(fake_corpus)"
      ]
    },
    {
      "cell_type": "code",
      "execution_count": 27,
      "metadata": {
        "id": "LhdBPIqGt-q6"
      },
      "outputs": [],
      "source": [
        "def get_top_words(corpus):\n",
        "  dic = defaultdict(int)\n",
        "\n",
        "  for word in corpus:\n",
        "      dic[word] +=1\n",
        "\n",
        "  top = sorted(dic.items(), key=lambda x:x[1],reverse=True)\n",
        "  x,y=zip(*top)\n",
        "  return x, y"
      ]
    },
    {
      "cell_type": "code",
      "execution_count": 28,
      "metadata": {
        "colab": {
          "base_uri": "https://localhost:8080/"
        },
        "id": "0XW72fQ6t-q6",
        "outputId": "d604b011-f5fd-4cc8-8ab6-438aeada77a4"
      },
      "outputs": [
        {
          "output_type": "stream",
          "name": "stdout",
          "text": [
            "Top 10 words\n",
            "('১৯', 'সেপ্টেম্বর', '২০১৮', 'প্রধানমন্ত্রী', 'পাকিস্তান', 'লাখ', 'ভারত', 'আটক', 'বাংলাদেশ', 'উদ্ধার')\n",
            "(56, 52, 51, 45, 33, 25, 23, 21, 20, 20)\n"
          ]
        }
      ],
      "source": [
        "x, y = get_top_words(auth_corpus_filtered)\n",
        "\n",
        "print(\"Top 10 words\")\n",
        "print(x[:10])\n",
        "print(y[:10])"
      ]
    },
    {
      "cell_type": "code",
      "execution_count": 29,
      "metadata": {
        "colab": {
          "base_uri": "https://localhost:8080/"
        },
        "id": "DfICk4_Zt-q7",
        "outputId": "0a8232dd-be8b-4867-e75b-971fd7f08659"
      },
      "outputs": [
        {
          "output_type": "stream",
          "name": "stdout",
          "text": [
            "Top 10 words\n",
            "('দৈনিক', 'মতিকণ্ঠ', 'Bengal', 'Beats', 'এক', 'হয়ে', 'সাথে', 'দিয়ে', 'কারণে', 'শেখ')\n",
            "(151, 151, 139, 139, 41, 29, 24, 21, 20, 19)\n"
          ]
        }
      ],
      "source": [
        "x, y = get_top_words(fake_corpus_filtered)\n",
        "\n",
        "print(\"Top 10 words\")\n",
        "print(x[:10])\n",
        "print(y[:10])"
      ]
    },
    {
      "cell_type": "markdown",
      "metadata": {
        "id": "ndo6X6npt-q7"
      },
      "source": [
        "# Classify News"
      ]
    },
    {
      "cell_type": "code",
      "execution_count": 30,
      "metadata": {
        "colab": {
          "base_uri": "https://localhost:8080/"
        },
        "id": "Uir0nBDU3NJi",
        "outputId": "d995ba56-6dcb-43e2-9770-d24c754ba91f"
      },
      "outputs": [
        {
          "output_type": "stream",
          "name": "stdout",
          "text": [
            "Looking in indexes: https://pypi.org/simple, https://us-python.pkg.dev/colab-wheels/public/simple/\n",
            "Requirement already satisfied: transformers in /usr/local/lib/python3.8/dist-packages (4.25.1)\n",
            "Requirement already satisfied: regex!=2019.12.17 in /usr/local/lib/python3.8/dist-packages (from transformers) (2022.6.2)\n",
            "Requirement already satisfied: tqdm>=4.27 in /usr/local/lib/python3.8/dist-packages (from transformers) (4.64.1)\n",
            "Requirement already satisfied: huggingface-hub<1.0,>=0.10.0 in /usr/local/lib/python3.8/dist-packages (from transformers) (0.11.1)\n",
            "Requirement already satisfied: pyyaml>=5.1 in /usr/local/lib/python3.8/dist-packages (from transformers) (6.0)\n",
            "Requirement already satisfied: requests in /usr/local/lib/python3.8/dist-packages (from transformers) (2.25.1)\n",
            "Requirement already satisfied: tokenizers!=0.11.3,<0.14,>=0.11.1 in /usr/local/lib/python3.8/dist-packages (from transformers) (0.13.2)\n",
            "Requirement already satisfied: packaging>=20.0 in /usr/local/lib/python3.8/dist-packages (from transformers) (21.3)\n",
            "Requirement already satisfied: numpy>=1.17 in /usr/local/lib/python3.8/dist-packages (from transformers) (1.21.6)\n",
            "Requirement already satisfied: filelock in /usr/local/lib/python3.8/dist-packages (from transformers) (3.8.2)\n",
            "Requirement already satisfied: typing-extensions>=3.7.4.3 in /usr/local/lib/python3.8/dist-packages (from huggingface-hub<1.0,>=0.10.0->transformers) (4.4.0)\n",
            "Requirement already satisfied: pyparsing!=3.0.5,>=2.0.2 in /usr/local/lib/python3.8/dist-packages (from packaging>=20.0->transformers) (3.0.9)\n",
            "Requirement already satisfied: chardet<5,>=3.0.2 in /usr/local/lib/python3.8/dist-packages (from requests->transformers) (4.0.0)\n",
            "Requirement already satisfied: idna<3,>=2.5 in /usr/local/lib/python3.8/dist-packages (from requests->transformers) (2.10)\n",
            "Requirement already satisfied: certifi>=2017.4.17 in /usr/local/lib/python3.8/dist-packages (from requests->transformers) (2022.12.7)\n",
            "Requirement already satisfied: urllib3<1.27,>=1.21.1 in /usr/local/lib/python3.8/dist-packages (from requests->transformers) (1.24.3)\n"
          ]
        }
      ],
      "source": [
        "pip install transformers"
      ]
    },
    {
      "cell_type": "code",
      "execution_count": 31,
      "metadata": {
        "id": "o5R8tIvit-q7"
      },
      "outputs": [],
      "source": [
        "import time\n",
        "\n",
        "import numpy as np\n",
        "import pandas as pd\n",
        "import torch\n",
        "import torch.nn as nn\n",
        "from torch.optim import AdamW\n",
        "from torch.utils.data import DataLoader\n",
        "from torch.utils.data import Dataset\n",
        "from tqdm.notebook import tqdm\n",
        "from transformers import BertModel, BertTokenizer, BertForSequenceClassification"
      ]
    },
    {
      "cell_type": "markdown",
      "metadata": {
        "id": "Ygqs7j1Mt-q7"
      },
      "source": [
        "# Prepare Datasets\n",
        "- Dataset Info: Datasets contain `48678` authentic news and `1299` fake news. For this experiment, instead of all authentic news, only 5 times of fake news was used.\n",
        "- And only consider the first 100 words (including headline and content)\n",
        "\n",
        "- On datasets: Both headline and content of news were used. And manually a separator was added also `[SEP]`.\n",
        "\n",
        "> BERT model is designed in such a way that the sentence has to start with the [CLS] token and end with the [SEP] token.\n",
        "If we want to make separation of two sentences we can use [SEP] between sentences"
      ]
    },
    {
      "cell_type": "markdown",
      "metadata": {
        "id": "ZtFK-oukt-q7"
      },
      "source": [
        "### Train and Test split: \n",
        "(only 20% data used for testing)\n",
        "- Total Dataset size: 10392\n",
        "- Total train size: 8313\n",
        "- Test train size: 2079"
      ]
    },
    {
      "cell_type": "code",
      "execution_count": 32,
      "metadata": {
        "id": "S-xzwjSQt-q8"
      },
      "outputs": [],
      "source": [
        "class NewsDatasets(Dataset):\n",
        "    def __init__(self, data, max_length=100):\n",
        "        self.data = data\n",
        "        \n",
        "        self.config = {\n",
        "            \"max_length\": max_length,\n",
        "            \"padding\": \"max_length\",\n",
        "            \"return_tensors\": \"pt\",\n",
        "            \"truncation\": True,\n",
        "            \"add_special_tokens\": True\n",
        "        }\n",
        "\n",
        "    def __len__(self):\n",
        "        return len(self.data)\n",
        "\n",
        "    def __getitem__(self, idx):\n",
        "        value = self.data.iloc[idx]\n",
        "        return value['head']+\"[SEP]\"+value['con'] , value['label']"
      ]
    },
    {
      "cell_type": "code",
      "execution_count": 33,
      "metadata": {
        "colab": {
          "base_uri": "https://localhost:8080/"
        },
        "id": "bJdEQeUst-q8",
        "outputId": "5c6f465e-c016-4359-929d-3599ab31ccfe"
      },
      "outputs": [
        {
          "output_type": "execute_result",
          "data": {
            "text/plain": [
              "(12990, 48678)"
            ]
          },
          "metadata": {},
          "execution_count": 33
        }
      ],
      "source": [
        "auth = pd.read_csv(\"/content/drive/MyDrive/Colab Notebooks/Authentic-48K.csv\")\n",
        "fake = pd.read_csv(\"/content/drive/MyDrive/Colab Notebooks/Fake-1K.csv\")\n",
        "\n",
        "df = auth[:fake.shape[0]* 9]\n",
        "df = df.append(fake)\n",
        "df = df.sample(frac=1).reset_index(drop=True)\n",
        "len(df) , len(auth)\n"
      ]
    },
    {
      "cell_type": "code",
      "execution_count": 34,
      "metadata": {
        "colab": {
          "base_uri": "https://localhost:8080/",
          "height": 250
        },
        "id": "Pi5xx0fghw2A",
        "outputId": "05f7a030-e587-4e51-9009-5b2856e0794c"
      },
      "outputs": [
        {
          "output_type": "execute_result",
          "data": {
            "text/plain": [
              "   articleID                domain                 date       category  \\\n",
              "0       7335      banglanews24.com  2018-09-22 16:18:01       National   \n",
              "1       3592  dailynayadiganta.com  2018-09-20 17:14:54  Miscellaneous   \n",
              "2      13745       kalerkantho.com  2018-09-24 14:15:41  Entertainment   \n",
              "3       3813        prothomalo.com  2018-09-20 18:25:42  International   \n",
              "4       2855        prothomalo.com  2018-09-20 13:37:47       National   \n",
              "\n",
              "                                       headline  \\\n",
              "0  তাঁতশিল্প আধুনিকায়নে বিশেষ উদ্যোগ, বাড়ছে ঋণ    \n",
              "1    সোনার খনি খুঁড়তে গিয়ে মিলল আরো দামি সম্পদ   \n",
              "2                 দয়াবেনের পারিশ্রমিক কত জানেন?   \n",
              "3     বাংলাদেশকে সহায়তার আশ্বাস নেদারল্যান্ডসের   \n",
              "4       কামাল হোসেনের নেতৃত্ব মানতে রাজি বিএনপি   \n",
              "\n",
              "                                             content  label  \n",
              "0  ঢাকা: সংস্কারের অভাবে হারিয়ে যেতে থাকা তাঁত ইউ...      1  \n",
              "1  কানাডার উত্তর-পশ্চিমে সোনার খনি। আর ইয়ুকুনের এ...      1  \n",
              "2   বেশ কিছুদিনের জন্য পর্দায় তাঁকে দেখা যায়নি। ম...      1  \n",
              "3  ডেলটা প্ল্যান ২১০০ বাস্তবায়নে বাংলাদেশকে প্রয়ো...      1  \n",
              "4  বৃহত্তর জোট গঠনের চূড়ান্ত পর্যায়ে বিএনপি দুঃসম...      1  "
            ],
            "text/html": [
              "\n",
              "  <div id=\"df-afd30352-6bf7-4d3b-9c05-ba6731cbb211\">\n",
              "    <div class=\"colab-df-container\">\n",
              "      <div>\n",
              "<style scoped>\n",
              "    .dataframe tbody tr th:only-of-type {\n",
              "        vertical-align: middle;\n",
              "    }\n",
              "\n",
              "    .dataframe tbody tr th {\n",
              "        vertical-align: top;\n",
              "    }\n",
              "\n",
              "    .dataframe thead th {\n",
              "        text-align: right;\n",
              "    }\n",
              "</style>\n",
              "<table border=\"1\" class=\"dataframe\">\n",
              "  <thead>\n",
              "    <tr style=\"text-align: right;\">\n",
              "      <th></th>\n",
              "      <th>articleID</th>\n",
              "      <th>domain</th>\n",
              "      <th>date</th>\n",
              "      <th>category</th>\n",
              "      <th>headline</th>\n",
              "      <th>content</th>\n",
              "      <th>label</th>\n",
              "    </tr>\n",
              "  </thead>\n",
              "  <tbody>\n",
              "    <tr>\n",
              "      <th>0</th>\n",
              "      <td>7335</td>\n",
              "      <td>banglanews24.com</td>\n",
              "      <td>2018-09-22 16:18:01</td>\n",
              "      <td>National</td>\n",
              "      <td>তাঁতশিল্প আধুনিকায়নে বিশেষ উদ্যোগ, বাড়ছে ঋণ</td>\n",
              "      <td>ঢাকা: সংস্কারের অভাবে হারিয়ে যেতে থাকা তাঁত ইউ...</td>\n",
              "      <td>1</td>\n",
              "    </tr>\n",
              "    <tr>\n",
              "      <th>1</th>\n",
              "      <td>3592</td>\n",
              "      <td>dailynayadiganta.com</td>\n",
              "      <td>2018-09-20 17:14:54</td>\n",
              "      <td>Miscellaneous</td>\n",
              "      <td>সোনার খনি খুঁড়তে গিয়ে মিলল আরো দামি সম্পদ</td>\n",
              "      <td>কানাডার উত্তর-পশ্চিমে সোনার খনি। আর ইয়ুকুনের এ...</td>\n",
              "      <td>1</td>\n",
              "    </tr>\n",
              "    <tr>\n",
              "      <th>2</th>\n",
              "      <td>13745</td>\n",
              "      <td>kalerkantho.com</td>\n",
              "      <td>2018-09-24 14:15:41</td>\n",
              "      <td>Entertainment</td>\n",
              "      <td>দয়াবেনের পারিশ্রমিক কত জানেন?</td>\n",
              "      <td>বেশ কিছুদিনের জন্য পর্দায় তাঁকে দেখা যায়নি। ম...</td>\n",
              "      <td>1</td>\n",
              "    </tr>\n",
              "    <tr>\n",
              "      <th>3</th>\n",
              "      <td>3813</td>\n",
              "      <td>prothomalo.com</td>\n",
              "      <td>2018-09-20 18:25:42</td>\n",
              "      <td>International</td>\n",
              "      <td>বাংলাদেশকে সহায়তার আশ্বাস নেদারল্যান্ডসের</td>\n",
              "      <td>ডেলটা প্ল্যান ২১০০ বাস্তবায়নে বাংলাদেশকে প্রয়ো...</td>\n",
              "      <td>1</td>\n",
              "    </tr>\n",
              "    <tr>\n",
              "      <th>4</th>\n",
              "      <td>2855</td>\n",
              "      <td>prothomalo.com</td>\n",
              "      <td>2018-09-20 13:37:47</td>\n",
              "      <td>National</td>\n",
              "      <td>কামাল হোসেনের নেতৃত্ব মানতে রাজি বিএনপি</td>\n",
              "      <td>বৃহত্তর জোট গঠনের চূড়ান্ত পর্যায়ে বিএনপি দুঃসম...</td>\n",
              "      <td>1</td>\n",
              "    </tr>\n",
              "  </tbody>\n",
              "</table>\n",
              "</div>\n",
              "      <button class=\"colab-df-convert\" onclick=\"convertToInteractive('df-afd30352-6bf7-4d3b-9c05-ba6731cbb211')\"\n",
              "              title=\"Convert this dataframe to an interactive table.\"\n",
              "              style=\"display:none;\">\n",
              "        \n",
              "  <svg xmlns=\"http://www.w3.org/2000/svg\" height=\"24px\"viewBox=\"0 0 24 24\"\n",
              "       width=\"24px\">\n",
              "    <path d=\"M0 0h24v24H0V0z\" fill=\"none\"/>\n",
              "    <path d=\"M18.56 5.44l.94 2.06.94-2.06 2.06-.94-2.06-.94-.94-2.06-.94 2.06-2.06.94zm-11 1L8.5 8.5l.94-2.06 2.06-.94-2.06-.94L8.5 2.5l-.94 2.06-2.06.94zm10 10l.94 2.06.94-2.06 2.06-.94-2.06-.94-.94-2.06-.94 2.06-2.06.94z\"/><path d=\"M17.41 7.96l-1.37-1.37c-.4-.4-.92-.59-1.43-.59-.52 0-1.04.2-1.43.59L10.3 9.45l-7.72 7.72c-.78.78-.78 2.05 0 2.83L4 21.41c.39.39.9.59 1.41.59.51 0 1.02-.2 1.41-.59l7.78-7.78 2.81-2.81c.8-.78.8-2.07 0-2.86zM5.41 20L4 18.59l7.72-7.72 1.47 1.35L5.41 20z\"/>\n",
              "  </svg>\n",
              "      </button>\n",
              "      \n",
              "  <style>\n",
              "    .colab-df-container {\n",
              "      display:flex;\n",
              "      flex-wrap:wrap;\n",
              "      gap: 12px;\n",
              "    }\n",
              "\n",
              "    .colab-df-convert {\n",
              "      background-color: #E8F0FE;\n",
              "      border: none;\n",
              "      border-radius: 50%;\n",
              "      cursor: pointer;\n",
              "      display: none;\n",
              "      fill: #1967D2;\n",
              "      height: 32px;\n",
              "      padding: 0 0 0 0;\n",
              "      width: 32px;\n",
              "    }\n",
              "\n",
              "    .colab-df-convert:hover {\n",
              "      background-color: #E2EBFA;\n",
              "      box-shadow: 0px 1px 2px rgba(60, 64, 67, 0.3), 0px 1px 3px 1px rgba(60, 64, 67, 0.15);\n",
              "      fill: #174EA6;\n",
              "    }\n",
              "\n",
              "    [theme=dark] .colab-df-convert {\n",
              "      background-color: #3B4455;\n",
              "      fill: #D2E3FC;\n",
              "    }\n",
              "\n",
              "    [theme=dark] .colab-df-convert:hover {\n",
              "      background-color: #434B5C;\n",
              "      box-shadow: 0px 1px 3px 1px rgba(0, 0, 0, 0.15);\n",
              "      filter: drop-shadow(0px 1px 2px rgba(0, 0, 0, 0.3));\n",
              "      fill: #FFFFFF;\n",
              "    }\n",
              "  </style>\n",
              "\n",
              "      <script>\n",
              "        const buttonEl =\n",
              "          document.querySelector('#df-afd30352-6bf7-4d3b-9c05-ba6731cbb211 button.colab-df-convert');\n",
              "        buttonEl.style.display =\n",
              "          google.colab.kernel.accessAllowed ? 'block' : 'none';\n",
              "\n",
              "        async function convertToInteractive(key) {\n",
              "          const element = document.querySelector('#df-afd30352-6bf7-4d3b-9c05-ba6731cbb211');\n",
              "          const dataTable =\n",
              "            await google.colab.kernel.invokeFunction('convertToInteractive',\n",
              "                                                     [key], {});\n",
              "          if (!dataTable) return;\n",
              "\n",
              "          const docLinkHtml = 'Like what you see? Visit the ' +\n",
              "            '<a target=\"_blank\" href=https://colab.research.google.com/notebooks/data_table.ipynb>data table notebook</a>'\n",
              "            + ' to learn more about interactive tables.';\n",
              "          element.innerHTML = '';\n",
              "          dataTable['output_type'] = 'display_data';\n",
              "          await google.colab.output.renderOutput(dataTable, element);\n",
              "          const docLink = document.createElement('div');\n",
              "          docLink.innerHTML = docLinkHtml;\n",
              "          element.appendChild(docLink);\n",
              "        }\n",
              "      </script>\n",
              "    </div>\n",
              "  </div>\n",
              "  "
            ]
          },
          "metadata": {},
          "execution_count": 34
        }
      ],
      "source": [
        "df.head()"
      ]
    },
    {
      "cell_type": "code",
      "execution_count": 35,
      "metadata": {
        "colab": {
          "base_uri": "https://localhost:8080/"
        },
        "id": "Hvu0eCiwt-q8",
        "outputId": "5d12023b-06f2-4377-96a0-30e0a6c87175"
      },
      "outputs": [
        {
          "output_type": "stream",
          "name": "stdout",
          "text": [
            "********** Before ***************\n",
            "কানাডার উত্তর-পশ্চিমে সোনার খনি। আর ইয়ুকুনের এই সোনার খনি নিয়েই চলছিল তথ্যচিত্র নির্মাণের কাজ। ছিল খনির কর্মীরাও। সেই সময় মিলল ৫০ হাজার বছরেরও বেশি প্রাচীন দুটি পশুর মমি। একটি নেকড়ের ছানা আর একটি ক্যারিবু হরিণের শাবকের মমি মিলেছিল ২০১৬ সালেই। বৃহস্পতিবার একটি অনুষ্ঠানে প্রকাশ্যে এলো সেই প্রাণীদের মমিগুলোর ছবি। রোম, ত্বক, পেশী এগুলো জীবাশ্মের মধ্যে পাওয়া অত্যন্ত বিরল ঘটনা। কিন্তু এ ক্ষেত্রে তা নষ্ট হয়নি। স্তন্যপায়ী প্রাণীদের ধরলে বিশ্বের প্রাচীনতম ‘মামিফায়েড টিস্যু’-র মধ্যে পড়বে এটি। ক্যারিবু শাবকটির ক্ষেত্রে মাথা, দুটি পা ও এবং হাত ও মাথা বাদ দিয়ে ধড়ের সম্পূর্ণ অংশটিই প্রায় এক রকম রয়ে গিয়েছে। আর নেকড়ের ছানাটির ক্ষেত্রে একটুও নষ্ট হয়নি পেশী কিংবা রোম। যেন সদ্য মারা গেছে এই দুটি প্রাণী। বিজ্ঞানীরা বলছেন, এই প্রাণীগুলো তুষার যুগে বিরাজ করত পৃথিবীতে, ঠিক যখন ম্যামথের মতো প্রাগৈতিহাসিক প্রাণী, প্রাচীন আমলের গন্ডার ও হাতি ছিল পৃথিবীতে। প্রাচীন যুগের এই প্রাণীগুলো আবিষ্কার কিন্তু ডিসকভারি চ্যানেলের গোল্ড রাশ শোয়ের টোনি বিটসের দল । ফেসবুকে এ কথা তিনি শেয়ারও করে নিয়েছেন। নিমেষের মধ্যে তা ভাইরাল হয়ে যায়। দেড় হাজার জন তা লাইক করেন। ডেস মোয়েনেস বিশ্ববিদ্যালয়ের প্রাণীবিদ জুলিয়ে মিয়েশেন গবেষণা করেছেন এই প্রাণীগুলি নিয়ে। বছর দুয়েক গবেষণার পর এ গুলিকে প্রকাশ্যে নিয়ে আসা হল। এই পশুগুলোর বয়স ৫০ হাজার বছরের বেশি, তা রেডিও-কার্বন ডেটিং পদ্ধতির মাধ্যমে বলা গেলেও তা নিশ্চিত করতে ডিএনএ পরীক্ষা করা হবে। এই প্রাণীগুলির খাদ্যনালীতে যদি প্রাচীন কোনও ব্যাকটিরিয়া থাকে, করা হবে তার সন্ধান। একটি প্রাণী অপর প্রাণীটির শিকারই ছিল এ ক্ষেত্রে। তবুও কবে তাদের মৃত্যু হয়েছিল, কী খেত তারা, জিনের গঠনই বা কেমন, এ গুলি জানতে পারলে প্রাচীন স্তন্যপায়ী প্রাণীদের সম্পর্কে আরো অনেক কিছু জানা সম্ভব হবে। ডওসন সিটির সংগ্রহশালায় রাখা রয়েছে এই প্রাচীন প্রাণীগুলি। এরা ঘুরত-ফিরত বেরিঞ্জিয়ায়। বেরিঞ্জিয়া প্রাগৈতিহাসিক যুগের একটি স্থলভাগ যা এশিয়া ও উত্তর আমেরিকাকে সংযুক্ত করেছিল। প্লিস্টোসিন যুগের কিছু পর্বে পৃথিবীর তাপমাত্রা এত নিচে নেমে গিয়েছিল যে ভূ-পৃষ্ঠের বেশির ভাগ জল বরফে পরিণত হয়েছিল। সেই তুষার যুগের (চতুর্থ পর্যায়) প্রাণীগুলোকে দেখতে ভিড় জমছে সংগ্রহশালায়। আরো পড়ুন : বিড়াল নিষিদ্ধ করা নিয়ে এত কাণ্ড! বিবিসি ও গার্ডিয়ান নিউজিল্যান্ডের একটি গ্রামে বিড়াল পোষা নিষিদ্ধ করা নিয়ে চলছে ব্যাপক হৈ চৈ। কর্তৃপক্ষ চাইছে আইন করে ওই গ্রামে বিড়াল পোষা নিষিদ্ধ করবে, কিন্তু গ্রামবাসীদের কেউ কেউ এর বিরুদ্ধে হয়েছেন সােচ্চার। ঘটনা নিউজিল্যান্ডের দক্ষিণ উপকূলের একটি গ্রামের। ওমাওই নামের ওই গ্রামটির বাসিন্দাদের প্রায় সবারই এক বা একাধিক পোষা বিড়াল রয়েছে। ফসল ও বাড়ি ঘরে ইঁদুরের উৎপাত থেকে রক্ষা পেতে, কেউ বা শখের বসে বিড়াল পোষেন। কিন্তু কর্তৃপক্ষ বলছে, বিড়ালের কারণে এলাকাটিতে জীব বৈচিত্র্য ক্ষতিগ্রস্ত হচ্ছে। তাই বিড়াল পোষা নিষিদ্ধ করতে চান তারা। এ বিষয়ে নতুন একটি আইন করা হবে। আইনটির প্রস্তাব করেছেন নিউজিল্যান্ডের দক্ষিণ দ্বীপের (সাউথল্যান্ড) পরিবেশ দফতর। আইন অনুযায়ী সবার পোষা বিড়ালকে জন্মনিরোধক টিকা দেয়া হবে এবং কারো বিড়াল মারা গেলে নতুন করে সে আর বিড়াল সংগ্রহ করতে পারবে না। কর্তৃপক্ষ বলছে, বিড়ালের কারণে প্রতিবছর এলাকাটিতে লাখ লাখ পাখি ও ছোট স্তন্যপায়ী প্রাণী মারা যায়। তারা বলছে, আমরা বিড়াল বিরোধী নই, কিন্তু পোষা বিড়াল বাড়ির বাইরে এসে কেন পশু-পাখির ক্ষতি করবে। ২০৫০ সাল নাগাদ নিউজিল্যান্ডকে প্রাণীদের জন্য নিরাপদ জায়গা হিসেবে গড়ে তোলার একটি পরিকল্পনার অংশ হিসেবে এই উদ্যোগ নেয়া হচ্ছে। যদিও বাসিন্দাদের কেউ কেউ এই যুক্তি মানতে রাজি নন। নিকো জারভিস নামে এক বাসিন্দা বলেন, তিনটি পোষা বিড়ালের কারণে আমি ইদুরের উৎপাত থেকে রক্ষা পাই। বিড়াল তিনটি না থাকলে আমার বাড়ি ঘরে থাকা দায় হবে। তিনি কর্তৃপক্ষের এই পরিকল্পনাকে ‘পুলিশি রাষ্ট্র’ হিসেবে আখ্যায়িত করেন। কর্তৃপক্ষের এই সিদ্ধান্তকে চ্যালেঞ্জ জানাতে আদালতে যাওয়ার হুমকি দিয়েছেন তিনি।\n",
            "\n",
            "********** After ***************\n",
            "কানাডার পশ্চিমে সোনার খনি ইয়ুকুনের সোনার খনি নিয়েই চলছিল তথ্যচিত্র নির্মাণের খনির কর্মীরাও সময় মিলল ৫০ বছরেরও প্রাচীন পশুর মমি নেকড়ের ছানা ক্যারিবু হরিণের শাবকের মমি মিলেছিল ২০১৬ সালেই বৃহস্পতিবার অনুষ্ঠানে প্রকাশ্যে এলো প্রাণীদের মমিগুলোর ছবি রোম ত্বক পেশী এগুলো জীবাশ্মের পাওয়া অত্যন্ত বিরল ঘটনা নষ্ট হয়নি স্তন্যপায়ী প্রাণীদের ধরলে বিশ্বের প্রাচীনতম মামিফায়েড টিস্যু পড়বে ক্যারিবু শাবকটির মাথা পা হাত মাথা বাদ দিয়ে ধড়ের সম্পূর্ণ অংশটিই এক রয়ে গিয়েছে নেকড়ের ছানাটির একটুও নষ্ট হয়নি পেশী রোম সদ্য মারা প্রাণী বিজ্ঞানীরা বলছেন প্রাণীগুলো তুষার যুগে বিরাজ করত পৃথিবীতে ম্যামথের মতো প্রাগৈতিহাসিক প্রাণী প্রাচীন আমলের গন্ডার হাতি পৃথিবীতে প্রাচীন যুগের প্রাণীগুলো আবিষ্কার ডিসকভারি চ্যানেলের গোল্ড রাশ শোয়ের টোনি বিটসের দল ফেসবুকে কথা শেয়ারও নিয়েছেন নিমেষের ভাইরাল হয়ে যায় দেড় লাইক ডেস মোয়েনেস বিশ্ববিদ্যালয়ের প্রাণীবিদ জুলিয়ে মিয়েশেন গবেষণা প্রাণীগুলি বছর দুয়েক গবেষণার গুলিকে প্রকাশ্যে আসা পশুগুলোর বয়স ৫০ বছরের রেডিও কার্বন ডেটিং পদ্ধতির গেলেও নিশ্চিত ডিএনএ পরীক্ষা প্রাণীগুলির খাদ্যনালীতে প্রাচীন ব্যাকটিরিয়া সন্ধান প্রাণী অপর প্রাণীটির শিকারই তবুও মৃত্যু হয়েছিল খেত জিনের গঠনই কেমন পারলে প্রাচীন স্তন্যপায়ী প্রাণীদের সম্পর্কে আরো সম্ভব ডওসন সিটির সংগ্রহশালায় রয়েছে প্রাচীন প্রাণীগুলি ঘুরত ফিরত বেরিঞ্জিয়ায় বেরিঞ্জিয়া প্রাগৈতিহাসিক যুগের স্থলভাগ এশিয়া আমেরিকাকে সংযুক্ত করেছিল প্লিস্টোসিন যুগের পর্বে পৃথিবীর তাপমাত্রা নিচে নেমে গিয়েছিল ভূ পৃষ্ঠের বেশির ভাগ জল বরফে পরিণত হয়েছিল তুষার যুগের চতুর্থ পর্যায় প্রাণীগুলোকে ভিড় জমছে সংগ্রহশালায় আরো পড়ুন বিড়াল নিষিদ্ধ কাণ্ড বিবিসি গার্ডিয়ান নিউজিল্যান্ডের গ্রামে বিড়াল পোষা নিষিদ্ধ চলছে ব্যাপক হৈ চৈ কর্তৃপক্ষ চাইছে আইন গ্রামে বিড়াল পোষা নিষিদ্ধ গ্রামবাসীদের বিরুদ্ধে হয়েছেন সােচ্চার ঘটনা নিউজিল্যান্ডের দক্ষিণ উপকূলের গ্রামের ওমাওই নামের গ্রামটির বাসিন্দাদের সবারই এক একাধিক পোষা বিড়াল রয়েছে ফসল বাড়ি ঘরে ইঁদুরের উৎপাত রক্ষা পেতে শখের বিড়াল পোষেন কর্তৃপক্ষ বলছে বিড়ালের কারণে এলাকাটিতে জীব বৈচিত্র্য ক্ষতিগ্রস্ত বিড়াল পোষা নিষিদ্ধ বিষয়ে আইন আইনটির প্রস্তাব নিউজিল্যান্ডের দক্ষিণ দ্বীপের সাউথল্যান্ড পরিবেশ দফতর আইন অনুযায়ী পোষা বিড়ালকে জন্মনিরোধক টিকা দেয়া কারো বিড়াল মারা বিড়াল সংগ্রহ পারবে কর্তৃপক্ষ বলছে বিড়ালের কারণে প্রতিবছর এলাকাটিতে লাখ লাখ পাখি ছোট স্তন্যপায়ী প্রাণী মারা যায় বলছে বিড়াল বিরোধী নই পোষা বিড়াল বাড়ির বাইরে পশু পাখির ক্ষতি ২০৫০ সাল নিউজিল্যান্ডকে প্রাণীদের নিরাপদ জায়গা হিসেবে গড়ে তোলার পরিকল্পনার অংশ হিসেবে উদ্যোগ নেয়া বাসিন্দাদের যুক্তি মানতে রাজি নন নিকো জারভিস নামে এক বাসিন্দা তিনটি পোষা বিড়ালের কারণে ইদুরের উৎপাত রক্ষা পাই বিড়াল তিনটি থাকলে বাড়ি ঘরে দায় কর্তৃপক্ষের পরিকল্পনাকে পুলিশি রাষ্ট্র হিসেবে আখ্যায়িত কর্তৃপক্ষের সিদ্ধান্তকে চ্যালেঞ্জ জানাতে আদালতে যাওয়ার হুমকি দিয়েছেন\n"
          ]
        }
      ],
      "source": [
        "from bnlp import BasicTokenizer\n",
        "from bnlp.corpus import stopwords, punctuations, letters, digits\n",
        "from nltk.stem.porter import PorterStemmer\n",
        "ps = PorterStemmer()\n",
        "\n",
        "\n",
        "btokenizer = BasicTokenizer()\n",
        "\n",
        "def clean_text(text):\n",
        "    tokens = btokenizer.tokenize(text)\n",
        "    filtered = []\n",
        "    for i in tokens:\n",
        "        i= ps.stem(i)\n",
        "        if i in stopwords:\n",
        "            continue\n",
        "    \n",
        "        if i in punctuations + '‘' + '’':\n",
        "            continue\n",
        "    \n",
        "        filtered.append(i)\n",
        "    \n",
        "    return \" \".join(filtered)\n",
        "\n",
        "print(\"********** Before ***************\")\n",
        "text = df.iloc[1]['content']\n",
        "print(text)\n",
        "print(\"\\n********** After ***************\")\n",
        "print(clean_text(text))"
      ]
    },
    {
      "cell_type": "code",
      "execution_count": 36,
      "metadata": {
        "id": "QvoIyi5pt-q8"
      },
      "outputs": [],
      "source": [
        "df['head'] = df.headline.apply(clean_text)\n",
        "df['con'] = df.content.apply(clean_text)"
      ]
    },
    {
      "cell_type": "code",
      "execution_count": 36,
      "metadata": {
        "id": "P-5_8yFvvoNp"
      },
      "outputs": [],
      "source": []
    },
    {
      "cell_type": "code",
      "execution_count": 37,
      "metadata": {
        "id": "Z1mhLdstt-q8"
      },
      "outputs": [],
      "source": [
        "from sklearn.model_selection import train_test_split\n",
        "\n",
        "train_df, test_df = train_test_split(df, test_size=0.2, random_state=121, stratify=df['label'])"
      ]
    },
    {
      "cell_type": "code",
      "execution_count": 38,
      "metadata": {
        "colab": {
          "base_uri": "https://localhost:8080/"
        },
        "id": "JK5i6wdtt-q9",
        "outputId": "4a0cfce3-3e13-446d-d6f5-326a881f85fb"
      },
      "outputs": [
        {
          "output_type": "execute_result",
          "data": {
            "text/plain": [
              "(10392, 2598)"
            ]
          },
          "metadata": {},
          "execution_count": 38
        }
      ],
      "source": [
        "len(train_df), len(test_df)"
      ]
    },
    {
      "cell_type": "code",
      "execution_count": 39,
      "metadata": {
        "id": "LFu1KgY7t-q9"
      },
      "outputs": [],
      "source": [
        "training_data = NewsDatasets(train_df)\n",
        "train_dataloader = DataLoader(training_data, batch_size=16, shuffle=True)"
      ]
    },
    {
      "cell_type": "code",
      "execution_count": 40,
      "metadata": {
        "id": "gZquroqWt-q9"
      },
      "outputs": [],
      "source": [
        "test_data = NewsDatasets(test_df)\n",
        "test_dataloader = DataLoader(test_data, batch_size=16, shuffle=True)"
      ]
    },
    {
      "cell_type": "markdown",
      "metadata": {
        "id": "5kU96uqat-q9"
      },
      "source": [
        "# Define Model\n",
        " `Bert` stands for Bidirectional Encoder Representations from Transformers used in this experiment with two additional `Fully Connected` Layers. \n",
        " \n",
        " For this experiment, [Bangla Bert](https://huggingface.co/sagorsarker/bangla-bert-base) pretrained model was used.\n",
        "\n",
        "#### FC layers\n",
        "- First Linear Layer: IO(768 -> 128)\n",
        "- Second Linear Layer: IO(128 -> 2)\n",
        "\n",
        "#### Additionals\n",
        "- Activation Fuction: Relu\n",
        "- Dropout: 20%\n",
        "- Optimizer: AdamW\n",
        "- Loss: CrossEntropyLoss\n",
        "- Scheduler: StepLR"
      ]
    },
    {
      "cell_type": "code",
      "execution_count": 41,
      "metadata": {
        "id": "WV7I7l0Qt-q-"
      },
      "outputs": [],
      "source": [
        "class NewsBert(nn.Module):\n",
        "\n",
        "    def __init__(self, bert):\n",
        "        super(NewsBert, self).__init__()\n",
        "\n",
        "        self.bert = bert\n",
        "\n",
        "        # dropout layer\n",
        "        self.dropout = nn.Dropout(0.2)\n",
        "\n",
        "        # relu activation function\n",
        "        self.relu = nn.ReLU()\n",
        "\n",
        "        # dense layer 1\n",
        "        self.fc1 = nn.Linear(768, 256)\n",
        "        # self.relu = nn.ReLU()\n",
        "        self.fc2 = nn.Linear(256, 128)\n",
        "        self.fc3 = nn.Linear(128, 256)\n",
        "        self.fc4 = nn.Linear(256, 128)\n",
        "\n",
        "        # dense layer 2 (Output layer)\n",
        "        self.fc5 = nn.Linear(128, 2)  \n",
        "\n",
        "    # define the forward pass\n",
        "    def forward(self, input_ids, token_type_ids, attention_mask):\n",
        "        # pass the inputs to the model\n",
        "        out = self.bert(input_ids, attention_mask=attention_mask, token_type_ids=token_type_ids)\n",
        "\n",
        "        x = self.fc1(out[1])\n",
        "        x = self.relu(x)\n",
        "        x = self.fc2(x)\n",
        "        x = self.relu(x)\n",
        "        x = self.fc3(self.dropout(x))\n",
        "        x = self.relu(x)\n",
        "        x = self.fc4(self.dropout(x))\n",
        "        x = self.relu(x)\n",
        "\n",
        "        # output layer\n",
        "        x = self.fc5(self.dropout(x))\n",
        "        \n",
        "        return x"
      ]
    },
    {
      "cell_type": "code",
      "execution_count": 42,
      "metadata": {
        "colab": {
          "base_uri": "https://localhost:8080/"
        },
        "id": "8HahzNkKt-q-",
        "outputId": "d22db006-9c04-4f1a-fee6-51d573651873"
      },
      "outputs": [
        {
          "output_type": "stream",
          "name": "stderr",
          "text": [
            "Some weights of the model checkpoint at sagorsarker/bangla-bert-base were not used when initializing BertModel: ['cls.seq_relationship.bias', 'cls.seq_relationship.weight', 'cls.predictions.transform.dense.weight', 'cls.predictions.decoder.weight', 'cls.predictions.bias', 'cls.predictions.transform.dense.bias', 'cls.predictions.transform.LayerNorm.weight', 'cls.predictions.transform.LayerNorm.bias']\n",
            "- This IS expected if you are initializing BertModel from the checkpoint of a model trained on another task or with another architecture (e.g. initializing a BertForSequenceClassification model from a BertForPreTraining model).\n",
            "- This IS NOT expected if you are initializing BertModel from the checkpoint of a model that you expect to be exactly identical (initializing a BertForSequenceClassification model from a BertForSequenceClassification model).\n"
          ]
        }
      ],
      "source": [
        "bert_model_name = \"sagorsarker/bangla-bert-base\"\n",
        "bert = BertModel.from_pretrained(bert_model_name)\n",
        "tokenizer = BertTokenizer.from_pretrained(bert_model_name)"
      ]
    },
    {
      "cell_type": "code",
      "execution_count": 43,
      "metadata": {
        "id": "hQ4622dQt-q-"
      },
      "outputs": [],
      "source": [
        "# for param in bert.parameters():\n",
        "#     param.requires_grad = False"
      ]
    },
    {
      "cell_type": "code",
      "execution_count": 44,
      "metadata": {
        "id": "7di6rhnft-q-"
      },
      "outputs": [],
      "source": [
        "device = torch.device(\"cuda\" if torch.cuda.is_available() else \"cpu\")\n",
        "model = NewsBert(bert)\n",
        "model.to(device);"
      ]
    },
    {
      "cell_type": "code",
      "execution_count": 45,
      "metadata": {
        "colab": {
          "base_uri": "https://localhost:8080/"
        },
        "id": "7WqsPJ7ft-q_",
        "outputId": "74b5768f-ecbf-46c4-d8de-5eb4841b22c8"
      },
      "outputs": [
        {
          "output_type": "stream",
          "name": "stdout",
          "text": [
            "{'input_ids': tensor([[  101,  2169,  2492,  9294,  2552, 13985,  1014,   102,   102]],\n",
            "       device='cuda:0'), 'token_type_ids': tensor([[0, 0, 0, 0, 0, 0, 0, 0, 0]], device='cuda:0'), 'attention_mask': tensor([[1, 1, 1, 1, 1, 1, 1, 1, 1]], device='cuda:0')}\n",
            "tensor([[-0.0381,  0.0876]], device='cuda:0', grad_fn=<AddmmBackward0>)\n"
          ]
        }
      ],
      "source": [
        "s = \"আমি বাংলায় গান গাই। [SEP]\"\n",
        "t = tokenizer.encode_plus(s, return_tensors=\"pt\").to(device)\n",
        "print(t)\n",
        "out = model(**t)\n",
        "print(out)"
      ]
    },
    {
      "cell_type": "code",
      "execution_count": 46,
      "metadata": {
        "id": "kWM_gmkRt-q_"
      },
      "outputs": [],
      "source": [
        "from torch.optim.lr_scheduler import StepLR\n",
        "\n",
        "optimizer = AdamW(model.parameters(), lr=1e-5)\n",
        "criterion = nn.CrossEntropyLoss()\n",
        "scheduler = StepLR(optimizer, step_size=2, gamma=0.1)"
      ]
    },
    {
      "cell_type": "markdown",
      "metadata": {
        "id": "4xm50QL2t-q_"
      },
      "source": [
        "# Lets Train"
      ]
    },
    {
      "cell_type": "code",
      "execution_count": 47,
      "metadata": {
        "id": "XDBANVZyt-q_"
      },
      "outputs": [],
      "source": [
        "def train(model, dataloader, optimizer, criterion, config):\n",
        "    model.train()  # prep model for training\n",
        "    train_loss = 0\n",
        "    for batch in tqdm(dataloader):\n",
        "        text, labels = batch\n",
        "\n",
        "        model.zero_grad()\n",
        "\n",
        "        inputs = tokenizer.batch_encode_plus(\n",
        "            text, **config\n",
        "        )\n",
        "        input_ids = inputs['input_ids'].to(device)\n",
        "        token_type_ids = inputs['token_type_ids'].to(device)\n",
        "        attention_mask = inputs['attention_mask'].to(device)\n",
        "        labels = labels.to(device)\n",
        "\n",
        "        # move things to model\n",
        "        logs = model(token_type_ids=token_type_ids, input_ids=input_ids, attention_mask=attention_mask)\n",
        "\n",
        "        loss = criterion(logs, labels)\n",
        "        train_loss += loss.item() * input_ids.size(0)\n",
        "        loss.backward()\n",
        "\n",
        "        # clip the the gradients to 1.0. It helps in preventing the exploding gradient problem\n",
        "        nn.utils.clip_grad_norm_(model.parameters(), 1.0)\n",
        "        optimizer.step()\n",
        "\n",
        "    return train_loss"
      ]
    },
    {
      "cell_type": "code",
      "execution_count": 48,
      "metadata": {
        "id": "hDhha_-xt-rM"
      },
      "outputs": [],
      "source": [
        "def evaluate(model, dataloader, criterion, config):\n",
        "    total = 0\n",
        "    correct = 0\n",
        "    valid_loss = 0.0\n",
        "\n",
        "    model.eval()  # prep model for evaluation\n",
        "    for batch in dataloader:\n",
        "        text, labels = batch\n",
        "        inputs = tokenizer.batch_encode_plus(\n",
        "            text, **config\n",
        "        )\n",
        "        input_ids = inputs['input_ids'].to(device)\n",
        "        token_type_ids = inputs['token_type_ids'].to(device)\n",
        "        attention_mask = inputs['attention_mask'].to(device)\n",
        "        labels = labels.to(device)\n",
        "\n",
        "        # move things to model\n",
        "        output = model(token_type_ids=token_type_ids, input_ids=input_ids, attention_mask=attention_mask)\n",
        "\n",
        "        loss_p = criterion(output, labels)\n",
        "        # update running validation loss\n",
        "        valid_loss += loss_p.item() * input_ids.size(0)\n",
        "        # calculate accuracy\n",
        "        proba = torch.exp(output)\n",
        "        top_p, top_class = proba.topk(1, dim=1)\n",
        "        equals = top_class == labels.view(*top_class.shape)\n",
        "        # accuracy += torch.mean(equals.type(torch.FloatTensor)).item()\n",
        "\n",
        "        _, predicted = torch.max(output.data, 1)\n",
        "        total += labels.size(0)\n",
        "        correct += (predicted == labels).sum().item()\n",
        "\n",
        "    return total, correct, valid_loss"
      ]
    },
    {
      "cell_type": "code",
      "execution_count": 49,
      "metadata": {
        "id": "uLNTskRNt-rN"
      },
      "outputs": [],
      "source": [
        "epochs = 10\n",
        "tokenizer_config = {\n",
        "    \"max_length\": 100,\n",
        "    \"padding\": \"max_length\",\n",
        "    \"return_tensors\": \"pt\",\n",
        "    \"truncation\": True,\n",
        "    \"add_special_tokens\": True\n",
        "}"
      ]
    },
    {
      "cell_type": "code",
      "execution_count": 50,
      "metadata": {
        "colab": {
          "base_uri": "https://localhost:8080/",
          "height": 702,
          "referenced_widgets": [
            "5b0f1e637ff841269dfc8651504d3e36",
            "76d8b0542d5242fb9e8b2cf2b0c4fe90",
            "01fc1ef5337b4a0c9558c9c6dbb6df62",
            "d2ff39cbef1442f9b7729c6715fe8b13",
            "e5b749c99ccd4fcdb345f299fb4de0d9",
            "a08f9d4060c64bce975eb44912460dd4",
            "a92b5d8bf9124a108fc57a11daaf3bfa",
            "8b4f2e8306d54b8d9b72f0cb996ec6fa",
            "2dcc846bfaf144df9d8b3a56267fa22e",
            "c62a03e6e9ef4dc5b955887c88d33f23",
            "a622f1845a5243219dc44c1132120cfd",
            "bd0c87a986c84a7fa3a3a51e8424c132",
            "42b26f65d2964cd8a29ffa91c622b662",
            "b019416182cb4492a3f6a10ce610cc42",
            "599b8e1420a64bf5969ff6b05ef02ec4",
            "074a547c24a3469f9c24240b6ae4cd94",
            "960c7036981b4ce1aba48c46d810c783",
            "9ce8f4e51ca04166a7cf3d2cd27a55d1",
            "19cf5066fbed4693b32ac0eeef3991d6",
            "8f6f9cfacd6f40478257f8c2e084728b",
            "44c34d52d1ec4469b362dc8e9463bef2",
            "8300bec0cde141ad9273ff3f37d2867b",
            "1d5f25bfe0764aba8dc26b95d2e35733",
            "9cc06cc86a854bf3b4ef73b880134dfd",
            "c086b1a0af8d4227921dac03bb3e7dc9",
            "6bbe1e0c528946c096eab4db328b5f1a",
            "7ac0ac5ced0547e3af6c772b1472514c",
            "0199dd35313a4fbbad8e1eb2e2251ea4",
            "3d72d5254c7c45f4a07616ea0b114bbe",
            "517b817b32ab40c7878c207cbc390159",
            "ab3ab7793362456a9bc9dd10872d89cd",
            "26eab4dbd8ad4e7ba9f26e645c201ff3",
            "2df59b1807b54382983173002fd30ebc",
            "921bc1620a554a75b8365affdbe519fb",
            "3c8832c0c497460ab32c9caaef2bfe28",
            "c0597ccc212a431aba4bb271bc0bf3be",
            "2d09bf99ae0840a0bc0502b59706a7a7",
            "5bea9447fc5849a48704b3901523e632",
            "129bf698f3ad464d9f190283def3efaa",
            "123bad913f3f4ae3b1ce2a1d6adc4a91",
            "238e36beb9bf41a5b9f0df0074cee47e",
            "6e8e74a2f40345e694489fd1e346bbfc",
            "004cf92cbff342f2b00710aa73710bdb",
            "7c379979190046cc8bb2b03e955627fe",
            "38c9e2fafeae46aab436cffbbbfed0f8",
            "efe98fb0733445259bfda62725f9518d",
            "7651663302f746aba45ae0b4a9d660d1",
            "9b5d871823b7485e93a62278a988e772",
            "f49f94fd1db2426c9dd6210475b6f586",
            "be144e8b960b4a98a47724248702a50e",
            "9e4a759617bb4c40b146e67d68b4b458",
            "974b319f2a854597bba2d779555e4746",
            "6a5f86f1bd234215988f4b25cf808c70",
            "6818c7ccaa714de994a4e7bd1aa49210",
            "957247a920e346dc8252d2b60e98c6eb",
            "df12332ecc4c4abab7601201e186aa37",
            "146b29c32f9c4063b1bc5546cdb9aaa5",
            "061e4d7b513b40ceb6b9c895c0d4a911",
            "a0f18562f35940ba84bd73baa0f82acf",
            "a6d4fe5c91954b56bf349f68c52cb153",
            "0709b5623baf4e56b5226d48038a2357",
            "8bb4959182ed42bba7e240670a728e89",
            "e99332557ba84e778c8258e46a2932c4",
            "381b42b7a2bf4f97845f954256fc0b55",
            "c92d37e4b7b0454293701d1ba6c67933",
            "3244258304324af8915f762937e48ab1",
            "8962172daa8f41d4809085bcec041037",
            "f05e70c3e49d4140b043ae0c39dce5aa",
            "dccd758cc0004c2cb816f8ddf7a1e908",
            "b9f1f33ec5314cc9b5fe26b1da9561aa",
            "7e2e0bec59c54ee391e4dc823787305d",
            "8296f3af01b242b68baa69c5ee1acefb",
            "b07b6878174e420bad36111e93a87429",
            "bea6b8d239ce460094fb9eac9305f376",
            "ea85954d271d46009a88283994fc6e2d",
            "78c5385996c348d3bd606f5d76aa9ce3",
            "b087458fcbe848559317b075c7ddfbb4",
            "b3c54a76b1b54b85b24f395c4d2906cb",
            "b3bb5ff51d344875b5f14f49a99d2e08",
            "2d95e04869d548778cbce2e675d37c92",
            "fb06f61ebe8640fa8d8555af6d884824",
            "e40a2b30748e48909ae570a8d54cfa90",
            "094864380120455284e71275a5bc7eb2",
            "04ea069e03d44b90946ec66ed3d2a60c",
            "dd390d2213944d25bbbfdeb1e7d165a6",
            "6b9b40d6efaf43709dd2cd379b4e4ec9",
            "b3bb31c2d2d34d9b91e8c85859187481",
            "9defc33c44cb451f8dc6b3dfe5701aee",
            "340862be965d423fb6c28465f219c405",
            "1210b38743a4480e93d6d907106f10f8",
            "2378c18791714d9dbe1821444f64aef8",
            "64a46e9fd2854ffb93e96fbccf9a45a5",
            "4f64ae2be7f948828495abd1d50c4446",
            "9b1dde94e6b041a987c726653a9426b3",
            "8e65c7d8cf7042fca55537f0190f3c76",
            "0965f3357aaf4d9ab01e11e53a5d6423",
            "58b7d034a0f14ce582f502a99a80c27b",
            "5c1db11edf5e4bd798b5231e140312d4",
            "4b17de99e6d8411c96d9e8741726d2f4",
            "69a6753cbb8e43b8b79424960d336796",
            "1a04878280df49e1aa49804baeeecdd4",
            "b19b6f9c5f0744b196dfe09cbfb27b71",
            "8d35edc3248a453798e991c66da78c55",
            "8d065f01a65046fc890c874b2e3f34ce",
            "698286bc9dd648118c493ed866e64f29",
            "79422ac3534846879e8df9781945f759",
            "b0cf6240630c41ccb6a3a43ea868e95f",
            "c73ad683a473497ea639074d10bc140f",
            "534fae87ee68419eb3b8d8a5a6957fd4",
            "bf148ea3ff9841b4aaaa61e902abebe1"
          ]
        },
        "id": "-CBrul-St-rN",
        "outputId": "00ec1976-1d48-43b9-f25c-d5ae461b987b"
      },
      "outputs": [
        {
          "output_type": "stream",
          "name": "stdout",
          "text": [
            "Epoch: 1/10\n"
          ]
        },
        {
          "output_type": "display_data",
          "data": {
            "text/plain": [
              "  0%|          | 0/650 [00:00<?, ?it/s]"
            ],
            "application/vnd.jupyter.widget-view+json": {
              "version_major": 2,
              "version_minor": 0,
              "model_id": "5b0f1e637ff841269dfc8651504d3e36"
            }
          },
          "metadata": {}
        },
        {
          "output_type": "stream",
          "name": "stdout",
          "text": [
            "\tTrain loss:0.331845.. \tValid Loss:0.170376.. \tAccuracy: 89.9923\n",
            "Epoch: 2/10\n"
          ]
        },
        {
          "output_type": "display_data",
          "data": {
            "text/plain": [
              "  0%|          | 0/650 [00:00<?, ?it/s]"
            ],
            "application/vnd.jupyter.widget-view+json": {
              "version_major": 2,
              "version_minor": 0,
              "model_id": "bd0c87a986c84a7fa3a3a51e8424c132"
            }
          },
          "metadata": {}
        },
        {
          "output_type": "stream",
          "name": "stdout",
          "text": [
            "\tTrain loss:0.165276.. \tValid Loss:0.146079.. \tAccuracy: 95.9584\n",
            "Epoch: 3/10\n"
          ]
        },
        {
          "output_type": "display_data",
          "data": {
            "text/plain": [
              "  0%|          | 0/650 [00:00<?, ?it/s]"
            ],
            "application/vnd.jupyter.widget-view+json": {
              "version_major": 2,
              "version_minor": 0,
              "model_id": "1d5f25bfe0764aba8dc26b95d2e35733"
            }
          },
          "metadata": {}
        },
        {
          "output_type": "stream",
          "name": "stdout",
          "text": [
            "\tTrain loss:0.089924.. \tValid Loss:0.153670.. \tAccuracy: 96.1124\n",
            "Epoch: 4/10\n"
          ]
        },
        {
          "output_type": "display_data",
          "data": {
            "text/plain": [
              "  0%|          | 0/650 [00:00<?, ?it/s]"
            ],
            "application/vnd.jupyter.widget-view+json": {
              "version_major": 2,
              "version_minor": 0,
              "model_id": "921bc1620a554a75b8365affdbe519fb"
            }
          },
          "metadata": {}
        },
        {
          "output_type": "stream",
          "name": "stdout",
          "text": [
            "\tTrain loss:0.079308.. \tValid Loss:0.170955.. \tAccuracy: 96.0739\n",
            "Epoch: 5/10\n"
          ]
        },
        {
          "output_type": "display_data",
          "data": {
            "text/plain": [
              "  0%|          | 0/650 [00:00<?, ?it/s]"
            ],
            "application/vnd.jupyter.widget-view+json": {
              "version_major": 2,
              "version_minor": 0,
              "model_id": "38c9e2fafeae46aab436cffbbbfed0f8"
            }
          },
          "metadata": {}
        },
        {
          "output_type": "stream",
          "name": "stdout",
          "text": [
            "\tTrain loss:0.068970.. \tValid Loss:0.166030.. \tAccuracy: 96.1509\n",
            "Epoch: 6/10\n"
          ]
        },
        {
          "output_type": "display_data",
          "data": {
            "text/plain": [
              "  0%|          | 0/650 [00:00<?, ?it/s]"
            ],
            "application/vnd.jupyter.widget-view+json": {
              "version_major": 2,
              "version_minor": 0,
              "model_id": "df12332ecc4c4abab7601201e186aa37"
            }
          },
          "metadata": {}
        },
        {
          "output_type": "stream",
          "name": "stdout",
          "text": [
            "\tTrain loss:0.064966.. \tValid Loss:0.165845.. \tAccuracy: 96.1894\n",
            "Epoch: 7/10\n"
          ]
        },
        {
          "output_type": "display_data",
          "data": {
            "text/plain": [
              "  0%|          | 0/650 [00:00<?, ?it/s]"
            ],
            "application/vnd.jupyter.widget-view+json": {
              "version_major": 2,
              "version_minor": 0,
              "model_id": "8962172daa8f41d4809085bcec041037"
            }
          },
          "metadata": {}
        },
        {
          "output_type": "stream",
          "name": "stdout",
          "text": [
            "\tTrain loss:0.065124.. \tValid Loss:0.167060.. \tAccuracy: 96.1894\n",
            "Epoch: 8/10\n"
          ]
        },
        {
          "output_type": "display_data",
          "data": {
            "text/plain": [
              "  0%|          | 0/650 [00:00<?, ?it/s]"
            ],
            "application/vnd.jupyter.widget-view+json": {
              "version_major": 2,
              "version_minor": 0,
              "model_id": "b3c54a76b1b54b85b24f395c4d2906cb"
            }
          },
          "metadata": {}
        },
        {
          "output_type": "stream",
          "name": "stdout",
          "text": [
            "\tTrain loss:0.063877.. \tValid Loss:0.167683.. \tAccuracy: 96.1894\n",
            "Epoch: 9/10\n"
          ]
        },
        {
          "output_type": "display_data",
          "data": {
            "text/plain": [
              "  0%|          | 0/650 [00:00<?, ?it/s]"
            ],
            "application/vnd.jupyter.widget-view+json": {
              "version_major": 2,
              "version_minor": 0,
              "model_id": "340862be965d423fb6c28465f219c405"
            }
          },
          "metadata": {}
        },
        {
          "output_type": "stream",
          "name": "stdout",
          "text": [
            "\tTrain loss:0.068157.. \tValid Loss:0.167655.. \tAccuracy: 96.1894\n",
            "Epoch: 10/10\n"
          ]
        },
        {
          "output_type": "display_data",
          "data": {
            "text/plain": [
              "  0%|          | 0/650 [00:00<?, ?it/s]"
            ],
            "application/vnd.jupyter.widget-view+json": {
              "version_major": 2,
              "version_minor": 0,
              "model_id": "69a6753cbb8e43b8b79424960d336796"
            }
          },
          "metadata": {}
        },
        {
          "output_type": "stream",
          "name": "stdout",
          "text": [
            "\tTrain loss:0.065289.. \tValid Loss:0.167644.. \tAccuracy: 96.1894\n",
            "Training completed in 49m 34s\n"
          ]
        }
      ],
      "source": [
        "train_loss_data, valid_loss_data = [], []\n",
        "valid_loss_min = np.Inf\n",
        "since = time.time()\n",
        "best_loss = np.inf\n",
        "\n",
        "for epoch in range(epochs):\n",
        "    print(\"Epoch: {}/{}\".format(epoch + 1, epochs))\n",
        "    # monitor training loss\n",
        "    train_loss = 0.0\n",
        "    valid_loss = 0.0\n",
        "    total = 0\n",
        "    correct = 0\n",
        "    e_since = time.time()\n",
        "\n",
        "    # Train Model\n",
        "    train_loss += train(model, train_dataloader, optimizer, criterion, tokenizer_config)\n",
        "    # Now Evaluate\n",
        "    out = evaluate(model, test_dataloader, criterion, tokenizer_config)\n",
        "    total += out[0]\n",
        "    correct += out[1]\n",
        "    valid_loss += out[2]\n",
        "    \n",
        "    scheduler.step()\n",
        "\n",
        "    # print training/validation statistics\n",
        "    # calculate average loss over an epoch\n",
        "    train_loss = train_loss / len(train_dataloader.dataset)\n",
        "    valid_loss = valid_loss / len(test_dataloader.dataset)\n",
        "\n",
        "    # calculate train loss and running loss\n",
        "    train_loss_data.append(train_loss * 100)\n",
        "    valid_loss_data.append(valid_loss * 100)\n",
        "    \n",
        "    if valid_loss < best_loss:\n",
        "        best_loss = valid_loss\n",
        "        torch.save(model.state_dict(), \"news_model1.pth\")\n",
        "\n",
        "    print(\"\\tTrain loss:{:.6f}..\".format(train_loss),\n",
        "          \"\\tValid Loss:{:.6f}..\".format(valid_loss),\n",
        "          \"\\tAccuracy: {:.4f}\".format(correct / total * 100))\n",
        "\n",
        "time_elapsed = time.time() - since\n",
        "print('Training completed in {:.0f}m {:.0f}s'.format(\n",
        "    time_elapsed // 60, time_elapsed % 60))"
      ]
    },
    {
      "cell_type": "code",
      "execution_count": 51,
      "metadata": {
        "id": "N11LpPuRt-rN",
        "colab": {
          "base_uri": "https://localhost:8080/",
          "height": 281
        },
        "outputId": "3174d951-6fb7-4934-eab4-763062cb2525"
      },
      "outputs": [
        {
          "output_type": "execute_result",
          "data": {
            "text/plain": [
              "<matplotlib.legend.Legend at 0x7f10cb909850>"
            ]
          },
          "metadata": {},
          "execution_count": 51
        },
        {
          "output_type": "display_data",
          "data": {
            "text/plain": [
              "<Figure size 432x288 with 1 Axes>"
            ],
            "image/png": "[encoded data removed]"
          },
          "metadata": {
            "needs_background": "light"
          }
        }
      ],
      "source": [
        "from matplotlib import pyplot as plt\n",
        "\n",
        "plt.plot(train_loss_data, label=\"Training loss\")\n",
        "plt.plot(valid_loss_data, label=\"validation loss\")\n",
        "plt.legend(frameon=False)"
      ]
    },
    {
      "cell_type": "markdown",
      "metadata": {
        "id": "Z2uyFW4Jt-rN"
      },
      "source": [
        "# Testing\n",
        "To test this model, the left 15% data was used."
      ]
    },
    {
      "cell_type": "code",
      "execution_count": 52,
      "metadata": {
        "id": "r4mKzImRt-rO",
        "colab": {
          "base_uri": "https://localhost:8080/"
        },
        "outputId": "f7ebbd55-019b-4c72-b3f5-0aedf41832be"
      },
      "outputs": [
        {
          "output_type": "execute_result",
          "data": {
            "text/plain": [
              "<All keys matched successfully>"
            ]
          },
          "metadata": {},
          "execution_count": 52
        }
      ],
      "source": [
        "model.load_state_dict(torch.load(\"./news_model1.pth\", map_location = device))"
      ]
    },
    {
      "cell_type": "code",
      "execution_count": 53,
      "metadata": {
        "id": "U_oXOWzWt-rO"
      },
      "outputs": [],
      "source": [
        "all_preds = []\n",
        "all_labels = []\n",
        "\n",
        "for batch in test_dataloader:\n",
        "    text, labels = batch\n",
        "    inputs = tokenizer.batch_encode_plus(\n",
        "        text, **tokenizer_config\n",
        "    )\n",
        "    input_ids = inputs['input_ids'].to(device)\n",
        "    token_type_ids = inputs['token_type_ids'].to(device)\n",
        "    attention_mask = inputs['attention_mask'].to(device)\n",
        "    labels = labels.to(device)\n",
        "\n",
        "    # move things to model\n",
        "    output = model(token_type_ids=token_type_ids, input_ids=input_ids, attention_mask=attention_mask)\n",
        "    preds = output.detach().cpu().numpy()\n",
        "    preds = np.argmax(preds, axis = 1)\n",
        "    all_preds.extend(preds)\n",
        "    all_labels.extend(labels.cpu().numpy())"
      ]
    },
    {
      "cell_type": "code",
      "execution_count": 54,
      "metadata": {
        "id": "-2t0JhnLt-rO",
        "colab": {
          "base_uri": "https://localhost:8080/"
        },
        "outputId": "f0697cc2-8933-4639-ffd6-c22265caac25"
      },
      "outputs": [
        {
          "output_type": "stream",
          "name": "stdout",
          "text": [
            "              precision    recall  f1-score   support\n",
            "\n",
            "           0       0.86      0.72      0.78       260\n",
            "           1       0.97      0.99      0.98      2338\n",
            "\n",
            "    accuracy                           0.96      2598\n",
            "   macro avg       0.91      0.85      0.88      2598\n",
            "weighted avg       0.96      0.96      0.96      2598\n",
            "\n"
          ]
        }
      ],
      "source": [
        "from sklearn.metrics import classification_report\n",
        "\n",
        "# preds = np.argmax(preds, axis = 1)\n",
        "print(classification_report(all_labels, all_preds))"
      ]
    },
    {
      "cell_type": "markdown",
      "metadata": {
        "id": "tzwArZ3ot-rO"
      },
      "source": [
        "#### Thank you very much for reading.\n",
        "### পড়ার জন্য আপনাকে অনেক ধন্যবাদ।"
      ]
    },
    {
      "cell_type": "code",
      "execution_count": 54,
      "metadata": {
        "id": "JXVVKwek3dlP"
      },
      "outputs": [],
      "source": [
        " "
      ]
    }
  ],
  "metadata": {
    "accelerator": "GPU",
    "colab": {
      "provenance": []
    },
    "gpuClass": "standard",
    "kernelspec": {
      "display_name": "Python 3 (ipykernel)",
      "language": "python",
      "name": "python3"
    },
    "language_info": {
      "codemirror_mode": {
        "name": "ipython",
        "version": 3
      },
      "file_extension": ".py",
      "mimetype": "text/x-python",
      "name": "python",
      "nbconvert_exporter": "python",
      "pygments_lexer": "ipython3",
      "version": "3.9.13"
    },
    "widgets": {
      "application/vnd.jupyter.widget-state+json": {
        "5b0f1e637ff841269dfc8651504d3e36": {
          "model_module": "@jupyter-widgets/controls",
          "model_name": "HBoxModel",
          "model_module_version": "1.5.0",
          "state": {
            "_dom_classes": [],
            "_model_module": "@jupyter-widgets/controls",
            "_model_module_version": "1.5.0",
            "_model_name": "HBoxModel",
            "_view_count": null,
            "_view_module": "@jupyter-widgets/controls",
            "_view_module_version": "1.5.0",
            "_view_name": "HBoxView",
            "box_style": "",
            "children": [
              "IPY_MODEL_76d8b0542d5242fb9e8b2cf2b0c4fe90",
              "IPY_MODEL_01fc1ef5337b4a0c9558c9c6dbb6df62",
              "IPY_MODEL_d2ff39cbef1442f9b7729c6715fe8b13"
            ],
            "layout": "IPY_MODEL_e5b749c99ccd4fcdb345f299fb4de0d9"
          }
        },
        "76d8b0542d5242fb9e8b2cf2b0c4fe90": {
          "model_module": "@jupyter-widgets/controls",
          "model_name": "HTMLModel",
          "model_module_version": "1.5.0",
          "state": {
            "_dom_classes": [],
            "_model_module": "@jupyter-widgets/controls",
            "_model_module_version": "1.5.0",
            "_model_name": "HTMLModel",
            "_view_count": null,
            "_view_module": "@jupyter-widgets/controls",
            "_view_module_version": "1.5.0",
            "_view_name": "HTMLView",
            "description": "",
            "description_tooltip": null,
            "layout": "IPY_MODEL_a08f9d4060c64bce975eb44912460dd4",
            "placeholder": "​",
            "style": "IPY_MODEL_a92b5d8bf9124a108fc57a11daaf3bfa",
            "value": "100%"
          }
        },
        "01fc1ef5337b4a0c9558c9c6dbb6df62": {
          "model_module": "@jupyter-widgets/controls",
          "model_name": "FloatProgressModel",
          "model_module_version": "1.5.0",
          "state": {
            "_dom_classes": [],
            "_model_module": "@jupyter-widgets/controls",
            "_model_module_version": "1.5.0",
            "_model_name": "FloatProgressModel",
            "_view_count": null,
            "_view_module": "@jupyter-widgets/controls",
            "_view_module_version": "1.5.0",
            "_view_name": "ProgressView",
            "bar_style": "success",
            "description": "",
            "description_tooltip": null,
            "layout": "IPY_MODEL_8b4f2e8306d54b8d9b72f0cb996ec6fa",
            "max": 650,
            "min": 0,
            "orientation": "horizontal",
            "style": "IPY_MODEL_2dcc846bfaf144df9d8b3a56267fa22e",
            "value": 650
          }
        },
        "d2ff39cbef1442f9b7729c6715fe8b13": {
          "model_module": "@jupyter-widgets/controls",
          "model_name": "HTMLModel",
          "model_module_version": "1.5.0",
          "state": {
            "_dom_classes": [],
            "_model_module": "@jupyter-widgets/controls",
            "_model_module_version": "1.5.0",
            "_model_name": "HTMLModel",
            "_view_count": null,
            "_view_module": "@jupyter-widgets/controls",
            "_view_module_version": "1.5.0",
            "_view_name": "HTMLView",
            "description": "",
            "description_tooltip": null,
            "layout": "IPY_MODEL_c62a03e6e9ef4dc5b955887c88d33f23",
            "placeholder": "​",
            "style": "IPY_MODEL_a622f1845a5243219dc44c1132120cfd",
            "value": " 650/650 [04:26&lt;00:00,  2.81it/s]"
          }
        },
        "e5b749c99ccd4fcdb345f299fb4de0d9": {
          "model_module": "@jupyter-widgets/base",
          "model_name": "LayoutModel",
          "model_module_version": "1.2.0",
          "state": {
            "_model_module": "@jupyter-widgets/base",
            "_model_module_version": "1.2.0",
            "_model_name": "LayoutModel",
            "_view_count": null,
            "_view_module": "@jupyter-widgets/base",
            "_view_module_version": "1.2.0",
            "_view_name": "LayoutView",
            "align_content": null,
            "align_items": null,
            "align_self": null,
            "border": null,
            "bottom": null,
            "display": null,
            "flex": null,
            "flex_flow": null,
            "grid_area": null,
            "grid_auto_columns": null,
            "grid_auto_flow": null,
            "grid_auto_rows": null,
            "grid_column": null,
            "grid_gap": null,
            "grid_row": null,
            "grid_template_areas": null,
            "grid_template_columns": null,
            "grid_template_rows": null,
            "height": null,
            "justify_content": null,
            "justify_items": null,
            "left": null,
            "margin": null,
            "max_height": null,
            "max_width": null,
            "min_height": null,
            "min_width": null,
            "object_fit": null,
            "object_position": null,
            "order": null,
            "overflow": null,
            "overflow_x": null,
            "overflow_y": null,
            "padding": null,
            "right": null,
            "top": null,
            "visibility": null,
            "width": null
          }
        },
        "a08f9d4060c64bce975eb44912460dd4": {
          "model_module": "@jupyter-widgets/base",
          "model_name": "LayoutModel",
          "model_module_version": "1.2.0",
          "state": {
            "_model_module": "@jupyter-widgets/base",
            "_model_module_version": "1.2.0",
            "_model_name": "LayoutModel",
            "_view_count": null,
            "_view_module": "@jupyter-widgets/base",
            "_view_module_version": "1.2.0",
            "_view_name": "LayoutView",
            "align_content": null,
            "align_items": null,
            "align_self": null,
            "border": null,
            "bottom": null,
            "display": null,
            "flex": null,
            "flex_flow": null,
            "grid_area": null,
            "grid_auto_columns": null,
            "grid_auto_flow": null,
            "grid_auto_rows": null,
            "grid_column": null,
            "grid_gap": null,
            "grid_row": null,
            "grid_template_areas": null,
            "grid_template_columns": null,
            "grid_template_rows": null,
            "height": null,
            "justify_content": null,
            "justify_items": null,
            "left": null,
            "margin": null,
            "max_height": null,
            "max_width": null,
            "min_height": null,
            "min_width": null,
            "object_fit": null,
            "object_position": null,
            "order": null,
            "overflow": null,
            "overflow_x": null,
            "overflow_y": null,
            "padding": null,
            "right": null,
            "top": null,
            "visibility": null,
            "width": null
          }
        },
        "a92b5d8bf9124a108fc57a11daaf3bfa": {
          "model_module": "@jupyter-widgets/controls",
          "model_name": "DescriptionStyleModel",
          "model_module_version": "1.5.0",
          "state": {
            "_model_module": "@jupyter-widgets/controls",
            "_model_module_version": "1.5.0",
            "_model_name": "DescriptionStyleModel",
            "_view_count": null,
            "_view_module": "@jupyter-widgets/base",
            "_view_module_version": "1.2.0",
            "_view_name": "StyleView",
            "description_width": ""
          }
        },
        "8b4f2e8306d54b8d9b72f0cb996ec6fa": {
          "model_module": "@jupyter-widgets/base",
          "model_name": "LayoutModel",
          "model_module_version": "1.2.0",
          "state": {
            "_model_module": "@jupyter-widgets/base",
            "_model_module_version": "1.2.0",
            "_model_name": "LayoutModel",
            "_view_count": null,
            "_view_module": "@jupyter-widgets/base",
            "_view_module_version": "1.2.0",
            "_view_name": "LayoutView",
            "align_content": null,
            "align_items": null,
            "align_self": null,
            "border": null,
            "bottom": null,
            "display": null,
            "flex": null,
            "flex_flow": null,
            "grid_area": null,
            "grid_auto_columns": null,
            "grid_auto_flow": null,
            "grid_auto_rows": null,
            "grid_column": null,
            "grid_gap": null,
            "grid_row": null,
            "grid_template_areas": null,
            "grid_template_columns": null,
            "grid_template_rows": null,
            "height": null,
            "justify_content": null,
            "justify_items": null,
            "left": null,
            "margin": null,
            "max_height": null,
            "max_width": null,
            "min_height": null,
            "min_width": null,
            "object_fit": null,
            "object_position": null,
            "order": null,
            "overflow": null,
            "overflow_x": null,
            "overflow_y": null,
            "padding": null,
            "right": null,
            "top": null,
            "visibility": null,
            "width": null
          }
        },
        "2dcc846bfaf144df9d8b3a56267fa22e": {
          "model_module": "@jupyter-widgets/controls",
          "model_name": "ProgressStyleModel",
          "model_module_version": "1.5.0",
          "state": {
            "_model_module": "@jupyter-widgets/controls",
            "_model_module_version": "1.5.0",
            "_model_name": "ProgressStyleModel",
            "_view_count": null,
            "_view_module": "@jupyter-widgets/base",
            "_view_module_version": "1.2.0",
            "_view_name": "StyleView",
            "bar_color": null,
            "description_width": ""
          }
        },
        "c62a03e6e9ef4dc5b955887c88d33f23": {
          "model_module": "@jupyter-widgets/base",
          "model_name": "LayoutModel",
          "model_module_version": "1.2.0",
          "state": {
            "_model_module": "@jupyter-widgets/base",
            "_model_module_version": "1.2.0",
            "_model_name": "LayoutModel",
            "_view_count": null,
            "_view_module": "@jupyter-widgets/base",
            "_view_module_version": "1.2.0",
            "_view_name": "LayoutView",
            "align_content": null,
            "align_items": null,
            "align_self": null,
            "border": null,
            "bottom": null,
            "display": null,
            "flex": null,
            "flex_flow": null,
            "grid_area": null,
            "grid_auto_columns": null,
            "grid_auto_flow": null,
            "grid_auto_rows": null,
            "grid_column": null,
            "grid_gap": null,
            "grid_row": null,
            "grid_template_areas": null,
            "grid_template_columns": null,
            "grid_template_rows": null,
            "height": null,
            "justify_content": null,
            "justify_items": null,
            "left": null,
            "margin": null,
            "max_height": null,
            "max_width": null,
            "min_height": null,
            "min_width": null,
            "object_fit": null,
            "object_position": null,
            "order": null,
            "overflow": null,
            "overflow_x": null,
            "overflow_y": null,
            "padding": null,
            "right": null,
            "top": null,
            "visibility": null,
            "width": null
          }
        },
        "a622f1845a5243219dc44c1132120cfd": {
          "model_module": "@jupyter-widgets/controls",
          "model_name": "DescriptionStyleModel",
          "model_module_version": "1.5.0",
          "state": {
            "_model_module": "@jupyter-widgets/controls",
            "_model_module_version": "1.5.0",
            "_model_name": "DescriptionStyleModel",
            "_view_count": null,
            "_view_module": "@jupyter-widgets/base",
            "_view_module_version": "1.2.0",
            "_view_name": "StyleView",
            "description_width": ""
          }
        },
        "bd0c87a986c84a7fa3a3a51e8424c132": {
          "model_module": "@jupyter-widgets/controls",
          "model_name": "HBoxModel",
          "model_module_version": "1.5.0",
          "state": {
            "_dom_classes": [],
            "_model_module": "@jupyter-widgets/controls",
            "_model_module_version": "1.5.0",
            "_model_name": "HBoxModel",
            "_view_count": null,
            "_view_module": "@jupyter-widgets/controls",
            "_view_module_version": "1.5.0",
            "_view_name": "HBoxView",
            "box_style": "",
            "children": [
              "IPY_MODEL_42b26f65d2964cd8a29ffa91c622b662",
              "IPY_MODEL_b019416182cb4492a3f6a10ce610cc42",
              "IPY_MODEL_599b8e1420a64bf5969ff6b05ef02ec4"
            ],
            "layout": "IPY_MODEL_074a547c24a3469f9c24240b6ae4cd94"
          }
        },
        "42b26f65d2964cd8a29ffa91c622b662": {
          "model_module": "@jupyter-widgets/controls",
          "model_name": "HTMLModel",
          "model_module_version": "1.5.0",
          "state": {
            "_dom_classes": [],
            "_model_module": "@jupyter-widgets/controls",
            "_model_module_version": "1.5.0",
            "_model_name": "HTMLModel",
            "_view_count": null,
            "_view_module": "@jupyter-widgets/controls",
            "_view_module_version": "1.5.0",
            "_view_name": "HTMLView",
            "description": "",
            "description_tooltip": null,
            "layout": "IPY_MODEL_960c7036981b4ce1aba48c46d810c783",
            "placeholder": "​",
            "style": "IPY_MODEL_9ce8f4e51ca04166a7cf3d2cd27a55d1",
            "value": "100%"
          }
        },
        "b019416182cb4492a3f6a10ce610cc42": {
          "model_module": "@jupyter-widgets/controls",
          "model_name": "FloatProgressModel",
          "model_module_version": "1.5.0",
          "state": {
            "_dom_classes": [],
            "_model_module": "@jupyter-widgets/controls",
            "_model_module_version": "1.5.0",
            "_model_name": "FloatProgressModel",
            "_view_count": null,
            "_view_module": "@jupyter-widgets/controls",
            "_view_module_version": "1.5.0",
            "_view_name": "ProgressView",
            "bar_style": "success",
            "description": "",
            "description_tooltip": null,
            "layout": "IPY_MODEL_19cf5066fbed4693b32ac0eeef3991d6",
            "max": 650,
            "min": 0,
            "orientation": "horizontal",
            "style": "IPY_MODEL_8f6f9cfacd6f40478257f8c2e084728b",
            "value": 650
          }
        },
        "599b8e1420a64bf5969ff6b05ef02ec4": {
          "model_module": "@jupyter-widgets/controls",
          "model_name": "HTMLModel",
          "model_module_version": "1.5.0",
          "state": {
            "_dom_classes": [],
            "_model_module": "@jupyter-widgets/controls",
            "_model_module_version": "1.5.0",
            "_model_name": "HTMLModel",
            "_view_count": null,
            "_view_module": "@jupyter-widgets/controls",
            "_view_module_version": "1.5.0",
            "_view_name": "HTMLView",
            "description": "",
            "description_tooltip": null,
            "layout": "IPY_MODEL_44c34d52d1ec4469b362dc8e9463bef2",
            "placeholder": "​",
            "style": "IPY_MODEL_8300bec0cde141ad9273ff3f37d2867b",
            "value": " 650/650 [04:30&lt;00:00,  2.85it/s]"
          }
        },
        "074a547c24a3469f9c24240b6ae4cd94": {
          "model_module": "@jupyter-widgets/base",
          "model_name": "LayoutModel",
          "model_module_version": "1.2.0",
          "state": {
            "_model_module": "@jupyter-widgets/base",
            "_model_module_version": "1.2.0",
            "_model_name": "LayoutModel",
            "_view_count": null,
            "_view_module": "@jupyter-widgets/base",
            "_view_module_version": "1.2.0",
            "_view_name": "LayoutView",
            "align_content": null,
            "align_items": null,
            "align_self": null,
            "border": null,
            "bottom": null,
            "display": null,
            "flex": null,
            "flex_flow": null,
            "grid_area": null,
            "grid_auto_columns": null,
            "grid_auto_flow": null,
            "grid_auto_rows": null,
            "grid_column": null,
            "grid_gap": null,
            "grid_row": null,
            "grid_template_areas": null,
            "grid_template_columns": null,
            "grid_template_rows": null,
            "height": null,
            "justify_content": null,
            "justify_items": null,
            "left": null,
            "margin": null,
            "max_height": null,
            "max_width": null,
            "min_height": null,
            "min_width": null,
            "object_fit": null,
            "object_position": null,
            "order": null,
            "overflow": null,
            "overflow_x": null,
            "overflow_y": null,
            "padding": null,
            "right": null,
            "top": null,
            "visibility": null,
            "width": null
          }
        },
        "960c7036981b4ce1aba48c46d810c783": {
          "model_module": "@jupyter-widgets/base",
          "model_name": "LayoutModel",
          "model_module_version": "1.2.0",
          "state": {
            "_model_module": "@jupyter-widgets/base",
            "_model_module_version": "1.2.0",
            "_model_name": "LayoutModel",
            "_view_count": null,
            "_view_module": "@jupyter-widgets/base",
            "_view_module_version": "1.2.0",
            "_view_name": "LayoutView",
            "align_content": null,
            "align_items": null,
            "align_self": null,
            "border": null,
            "bottom": null,
            "display": null,
            "flex": null,
            "flex_flow": null,
            "grid_area": null,
            "grid_auto_columns": null,
            "grid_auto_flow": null,
            "grid_auto_rows": null,
            "grid_column": null,
            "grid_gap": null,
            "grid_row": null,
            "grid_template_areas": null,
            "grid_template_columns": null,
            "grid_template_rows": null,
            "height": null,
            "justify_content": null,
            "justify_items": null,
            "left": null,
            "margin": null,
            "max_height": null,
            "max_width": null,
            "min_height": null,
            "min_width": null,
            "object_fit": null,
            "object_position": null,
            "order": null,
            "overflow": null,
            "overflow_x": null,
            "overflow_y": null,
            "padding": null,
            "right": null,
            "top": null,
            "visibility": null,
            "width": null
          }
        },
        "9ce8f4e51ca04166a7cf3d2cd27a55d1": {
          "model_module": "@jupyter-widgets/controls",
          "model_name": "DescriptionStyleModel",
          "model_module_version": "1.5.0",
          "state": {
            "_model_module": "@jupyter-widgets/controls",
            "_model_module_version": "1.5.0",
            "_model_name": "DescriptionStyleModel",
            "_view_count": null,
            "_view_module": "@jupyter-widgets/base",
            "_view_module_version": "1.2.0",
            "_view_name": "StyleView",
            "description_width": ""
          }
        },
        "19cf5066fbed4693b32ac0eeef3991d6": {
          "model_module": "@jupyter-widgets/base",
          "model_name": "LayoutModel",
          "model_module_version": "1.2.0",
          "state": {
            "_model_module": "@jupyter-widgets/base",
            "_model_module_version": "1.2.0",
            "_model_name": "LayoutModel",
            "_view_count": null,
            "_view_module": "@jupyter-widgets/base",
            "_view_module_version": "1.2.0",
            "_view_name": "LayoutView",
            "align_content": null,
            "align_items": null,
            "align_self": null,
            "border": null,
            "bottom": null,
            "display": null,
            "flex": null,
            "flex_flow": null,
            "grid_area": null,
            "grid_auto_columns": null,
            "grid_auto_flow": null,
            "grid_auto_rows": null,
            "grid_column": null,
            "grid_gap": null,
            "grid_row": null,
            "grid_template_areas": null,
            "grid_template_columns": null,
            "grid_template_rows": null,
            "height": null,
            "justify_content": null,
            "justify_items": null,
            "left": null,
            "margin": null,
            "max_height": null,
            "max_width": null,
            "min_height": null,
            "min_width": null,
            "object_fit": null,
            "object_position": null,
            "order": null,
            "overflow": null,
            "overflow_x": null,
            "overflow_y": null,
            "padding": null,
            "right": null,
            "top": null,
            "visibility": null,
            "width": null
          }
        },
        "8f6f9cfacd6f40478257f8c2e084728b": {
          "model_module": "@jupyter-widgets/controls",
          "model_name": "ProgressStyleModel",
          "model_module_version": "1.5.0",
          "state": {
            "_model_module": "@jupyter-widgets/controls",
            "_model_module_version": "1.5.0",
            "_model_name": "ProgressStyleModel",
            "_view_count": null,
            "_view_module": "@jupyter-widgets/base",
            "_view_module_version": "1.2.0",
            "_view_name": "StyleView",
            "bar_color": null,
            "description_width": ""
          }
        },
        "44c34d52d1ec4469b362dc8e9463bef2": {
          "model_module": "@jupyter-widgets/base",
          "model_name": "LayoutModel",
          "model_module_version": "1.2.0",
          "state": {
            "_model_module": "@jupyter-widgets/base",
            "_model_module_version": "1.2.0",
            "_model_name": "LayoutModel",
            "_view_count": null,
            "_view_module": "@jupyter-widgets/base",
            "_view_module_version": "1.2.0",
            "_view_name": "LayoutView",
            "align_content": null,
            "align_items": null,
            "align_self": null,
            "border": null,
            "bottom": null,
            "display": null,
            "flex": null,
            "flex_flow": null,
            "grid_area": null,
            "grid_auto_columns": null,
            "grid_auto_flow": null,
            "grid_auto_rows": null,
            "grid_column": null,
            "grid_gap": null,
            "grid_row": null,
            "grid_template_areas": null,
            "grid_template_columns": null,
            "grid_template_rows": null,
            "height": null,
            "justify_content": null,
            "justify_items": null,
            "left": null,
            "margin": null,
            "max_height": null,
            "max_width": null,
            "min_height": null,
            "min_width": null,
            "object_fit": null,
            "object_position": null,
            "order": null,
            "overflow": null,
            "overflow_x": null,
            "overflow_y": null,
            "padding": null,
            "right": null,
            "top": null,
            "visibility": null,
            "width": null
          }
        },
        "8300bec0cde141ad9273ff3f37d2867b": {
          "model_module": "@jupyter-widgets/controls",
          "model_name": "DescriptionStyleModel",
          "model_module_version": "1.5.0",
          "state": {
            "_model_module": "@jupyter-widgets/controls",
            "_model_module_version": "1.5.0",
            "_model_name": "DescriptionStyleModel",
            "_view_count": null,
            "_view_module": "@jupyter-widgets/base",
            "_view_module_version": "1.2.0",
            "_view_name": "StyleView",
            "description_width": ""
          }
        },
        "1d5f25bfe0764aba8dc26b95d2e35733": {
          "model_module": "@jupyter-widgets/controls",
          "model_name": "HBoxModel",
          "model_module_version": "1.5.0",
          "state": {
            "_dom_classes": [],
            "_model_module": "@jupyter-widgets/controls",
            "_model_module_version": "1.5.0",
            "_model_name": "HBoxModel",
            "_view_count": null,
            "_view_module": "@jupyter-widgets/controls",
            "_view_module_version": "1.5.0",
            "_view_name": "HBoxView",
            "box_style": "",
            "children": [
              "IPY_MODEL_9cc06cc86a854bf3b4ef73b880134dfd",
              "IPY_MODEL_c086b1a0af8d4227921dac03bb3e7dc9",
              "IPY_MODEL_6bbe1e0c528946c096eab4db328b5f1a"
            ],
            "layout": "IPY_MODEL_7ac0ac5ced0547e3af6c772b1472514c"
          }
        },
        "9cc06cc86a854bf3b4ef73b880134dfd": {
          "model_module": "@jupyter-widgets/controls",
          "model_name": "HTMLModel",
          "model_module_version": "1.5.0",
          "state": {
            "_dom_classes": [],
            "_model_module": "@jupyter-widgets/controls",
            "_model_module_version": "1.5.0",
            "_model_name": "HTMLModel",
            "_view_count": null,
            "_view_module": "@jupyter-widgets/controls",
            "_view_module_version": "1.5.0",
            "_view_name": "HTMLView",
            "description": "",
            "description_tooltip": null,
            "layout": "IPY_MODEL_0199dd35313a4fbbad8e1eb2e2251ea4",
            "placeholder": "​",
            "style": "IPY_MODEL_3d72d5254c7c45f4a07616ea0b114bbe",
            "value": "100%"
          }
        },
        "c086b1a0af8d4227921dac03bb3e7dc9": {
          "model_module": "@jupyter-widgets/controls",
          "model_name": "FloatProgressModel",
          "model_module_version": "1.5.0",
          "state": {
            "_dom_classes": [],
            "_model_module": "@jupyter-widgets/controls",
            "_model_module_version": "1.5.0",
            "_model_name": "FloatProgressModel",
            "_view_count": null,
            "_view_module": "@jupyter-widgets/controls",
            "_view_module_version": "1.5.0",
            "_view_name": "ProgressView",
            "bar_style": "success",
            "description": "",
            "description_tooltip": null,
            "layout": "IPY_MODEL_517b817b32ab40c7878c207cbc390159",
            "max": 650,
            "min": 0,
            "orientation": "horizontal",
            "style": "IPY_MODEL_ab3ab7793362456a9bc9dd10872d89cd",
            "value": 650
          }
        },
        "6bbe1e0c528946c096eab4db328b5f1a": {
          "model_module": "@jupyter-widgets/controls",
          "model_name": "HTMLModel",
          "model_module_version": "1.5.0",
          "state": {
            "_dom_classes": [],
            "_model_module": "@jupyter-widgets/controls",
            "_model_module_version": "1.5.0",
            "_model_name": "HTMLModel",
            "_view_count": null,
            "_view_module": "@jupyter-widgets/controls",
            "_view_module_version": "1.5.0",
            "_view_name": "HTMLView",
            "description": "",
            "description_tooltip": null,
            "layout": "IPY_MODEL_26eab4dbd8ad4e7ba9f26e645c201ff3",
            "placeholder": "​",
            "style": "IPY_MODEL_2df59b1807b54382983173002fd30ebc",
            "value": " 650/650 [04:28&lt;00:00,  2.85it/s]"
          }
        },
        "7ac0ac5ced0547e3af6c772b1472514c": {
          "model_module": "@jupyter-widgets/base",
          "model_name": "LayoutModel",
          "model_module_version": "1.2.0",
          "state": {
            "_model_module": "@jupyter-widgets/base",
            "_model_module_version": "1.2.0",
            "_model_name": "LayoutModel",
            "_view_count": null,
            "_view_module": "@jupyter-widgets/base",
            "_view_module_version": "1.2.0",
            "_view_name": "LayoutView",
            "align_content": null,
            "align_items": null,
            "align_self": null,
            "border": null,
            "bottom": null,
            "display": null,
            "flex": null,
            "flex_flow": null,
            "grid_area": null,
            "grid_auto_columns": null,
            "grid_auto_flow": null,
            "grid_auto_rows": null,
            "grid_column": null,
            "grid_gap": null,
            "grid_row": null,
            "grid_template_areas": null,
            "grid_template_columns": null,
            "grid_template_rows": null,
            "height": null,
            "justify_content": null,
            "justify_items": null,
            "left": null,
            "margin": null,
            "max_height": null,
            "max_width": null,
            "min_height": null,
            "min_width": null,
            "object_fit": null,
            "object_position": null,
            "order": null,
            "overflow": null,
            "overflow_x": null,
            "overflow_y": null,
            "padding": null,
            "right": null,
            "top": null,
            "visibility": null,
            "width": null
          }
        },
        "0199dd35313a4fbbad8e1eb2e2251ea4": {
          "model_module": "@jupyter-widgets/base",
          "model_name": "LayoutModel",
          "model_module_version": "1.2.0",
          "state": {
            "_model_module": "@jupyter-widgets/base",
            "_model_module_version": "1.2.0",
            "_model_name": "LayoutModel",
            "_view_count": null,
            "_view_module": "@jupyter-widgets/base",
            "_view_module_version": "1.2.0",
            "_view_name": "LayoutView",
            "align_content": null,
            "align_items": null,
            "align_self": null,
            "border": null,
            "bottom": null,
            "display": null,
            "flex": null,
            "flex_flow": null,
            "grid_area": null,
            "grid_auto_columns": null,
            "grid_auto_flow": null,
            "grid_auto_rows": null,
            "grid_column": null,
            "grid_gap": null,
            "grid_row": null,
            "grid_template_areas": null,
            "grid_template_columns": null,
            "grid_template_rows": null,
            "height": null,
            "justify_content": null,
            "justify_items": null,
            "left": null,
            "margin": null,
            "max_height": null,
            "max_width": null,
            "min_height": null,
            "min_width": null,
            "object_fit": null,
            "object_position": null,
            "order": null,
            "overflow": null,
            "overflow_x": null,
            "overflow_y": null,
            "padding": null,
            "right": null,
            "top": null,
            "visibility": null,
            "width": null
          }
        },
        "3d72d5254c7c45f4a07616ea0b114bbe": {
          "model_module": "@jupyter-widgets/controls",
          "model_name": "DescriptionStyleModel",
          "model_module_version": "1.5.0",
          "state": {
            "_model_module": "@jupyter-widgets/controls",
            "_model_module_version": "1.5.0",
            "_model_name": "DescriptionStyleModel",
            "_view_count": null,
            "_view_module": "@jupyter-widgets/base",
            "_view_module_version": "1.2.0",
            "_view_name": "StyleView",
            "description_width": ""
          }
        },
        "517b817b32ab40c7878c207cbc390159": {
          "model_module": "@jupyter-widgets/base",
          "model_name": "LayoutModel",
          "model_module_version": "1.2.0",
          "state": {
            "_model_module": "@jupyter-widgets/base",
            "_model_module_version": "1.2.0",
            "_model_name": "LayoutModel",
            "_view_count": null,
            "_view_module": "@jupyter-widgets/base",
            "_view_module_version": "1.2.0",
            "_view_name": "LayoutView",
            "align_content": null,
            "align_items": null,
            "align_self": null,
            "border": null,
            "bottom": null,
            "display": null,
            "flex": null,
            "flex_flow": null,
            "grid_area": null,
            "grid_auto_columns": null,
            "grid_auto_flow": null,
            "grid_auto_rows": null,
            "grid_column": null,
            "grid_gap": null,
            "grid_row": null,
            "grid_template_areas": null,
            "grid_template_columns": null,
            "grid_template_rows": null,
            "height": null,
            "justify_content": null,
            "justify_items": null,
            "left": null,
            "margin": null,
            "max_height": null,
            "max_width": null,
            "min_height": null,
            "min_width": null,
            "object_fit": null,
            "object_position": null,
            "order": null,
            "overflow": null,
            "overflow_x": null,
            "overflow_y": null,
            "padding": null,
            "right": null,
            "top": null,
            "visibility": null,
            "width": null
          }
        },
        "ab3ab7793362456a9bc9dd10872d89cd": {
          "model_module": "@jupyter-widgets/controls",
          "model_name": "ProgressStyleModel",
          "model_module_version": "1.5.0",
          "state": {
            "_model_module": "@jupyter-widgets/controls",
            "_model_module_version": "1.5.0",
            "_model_name": "ProgressStyleModel",
            "_view_count": null,
            "_view_module": "@jupyter-widgets/base",
            "_view_module_version": "1.2.0",
            "_view_name": "StyleView",
            "bar_color": null,
            "description_width": ""
          }
        },
        "26eab4dbd8ad4e7ba9f26e645c201ff3": {
          "model_module": "@jupyter-widgets/base",
          "model_name": "LayoutModel",
          "model_module_version": "1.2.0",
          "state": {
            "_model_module": "@jupyter-widgets/base",
            "_model_module_version": "1.2.0",
            "_model_name": "LayoutModel",
            "_view_count": null,
            "_view_module": "@jupyter-widgets/base",
            "_view_module_version": "1.2.0",
            "_view_name": "LayoutView",
            "align_content": null,
            "align_items": null,
            "align_self": null,
            "border": null,
            "bottom": null,
            "display": null,
            "flex": null,
            "flex_flow": null,
            "grid_area": null,
            "grid_auto_columns": null,
            "grid_auto_flow": null,
            "grid_auto_rows": null,
            "grid_column": null,
            "grid_gap": null,
            "grid_row": null,
            "grid_template_areas": null,
            "grid_template_columns": null,
            "grid_template_rows": null,
            "height": null,
            "justify_content": null,
            "justify_items": null,
            "left": null,
            "margin": null,
            "max_height": null,
            "max_width": null,
            "min_height": null,
            "min_width": null,
            "object_fit": null,
            "object_position": null,
            "order": null,
            "overflow": null,
            "overflow_x": null,
            "overflow_y": null,
            "padding": null,
            "right": null,
            "top": null,
            "visibility": null,
            "width": null
          }
        },
        "2df59b1807b54382983173002fd30ebc": {
          "model_module": "@jupyter-widgets/controls",
          "model_name": "DescriptionStyleModel",
          "model_module_version": "1.5.0",
          "state": {
            "_model_module": "@jupyter-widgets/controls",
            "_model_module_version": "1.5.0",
            "_model_name": "DescriptionStyleModel",
            "_view_count": null,
            "_view_module": "@jupyter-widgets/base",
            "_view_module_version": "1.2.0",
            "_view_name": "StyleView",
            "description_width": ""
          }
        },
        "921bc1620a554a75b8365affdbe519fb": {
          "model_module": "@jupyter-widgets/controls",
          "model_name": "HBoxModel",
          "model_module_version": "1.5.0",
          "state": {
            "_dom_classes": [],
            "_model_module": "@jupyter-widgets/controls",
            "_model_module_version": "1.5.0",
            "_model_name": "HBoxModel",
            "_view_count": null,
            "_view_module": "@jupyter-widgets/controls",
            "_view_module_version": "1.5.0",
            "_view_name": "HBoxView",
            "box_style": "",
            "children": [
              "IPY_MODEL_3c8832c0c497460ab32c9caaef2bfe28",
              "IPY_MODEL_c0597ccc212a431aba4bb271bc0bf3be",
              "IPY_MODEL_2d09bf99ae0840a0bc0502b59706a7a7"
            ],
            "layout": "IPY_MODEL_5bea9447fc5849a48704b3901523e632"
          }
        },
        "3c8832c0c497460ab32c9caaef2bfe28": {
          "model_module": "@jupyter-widgets/controls",
          "model_name": "HTMLModel",
          "model_module_version": "1.5.0",
          "state": {
            "_dom_classes": [],
            "_model_module": "@jupyter-widgets/controls",
            "_model_module_version": "1.5.0",
            "_model_name": "HTMLModel",
            "_view_count": null,
            "_view_module": "@jupyter-widgets/controls",
            "_view_module_version": "1.5.0",
            "_view_name": "HTMLView",
            "description": "",
            "description_tooltip": null,
            "layout": "IPY_MODEL_129bf698f3ad464d9f190283def3efaa",
            "placeholder": "​",
            "style": "IPY_MODEL_123bad913f3f4ae3b1ce2a1d6adc4a91",
            "value": "100%"
          }
        },
        "c0597ccc212a431aba4bb271bc0bf3be": {
          "model_module": "@jupyter-widgets/controls",
          "model_name": "FloatProgressModel",
          "model_module_version": "1.5.0",
          "state": {
            "_dom_classes": [],
            "_model_module": "@jupyter-widgets/controls",
            "_model_module_version": "1.5.0",
            "_model_name": "FloatProgressModel",
            "_view_count": null,
            "_view_module": "@jupyter-widgets/controls",
            "_view_module_version": "1.5.0",
            "_view_name": "ProgressView",
            "bar_style": "success",
            "description": "",
            "description_tooltip": null,
            "layout": "IPY_MODEL_238e36beb9bf41a5b9f0df0074cee47e",
            "max": 650,
            "min": 0,
            "orientation": "horizontal",
            "style": "IPY_MODEL_6e8e74a2f40345e694489fd1e346bbfc",
            "value": 650
          }
        },
        "2d09bf99ae0840a0bc0502b59706a7a7": {
          "model_module": "@jupyter-widgets/controls",
          "model_name": "HTMLModel",
          "model_module_version": "1.5.0",
          "state": {
            "_dom_classes": [],
            "_model_module": "@jupyter-widgets/controls",
            "_model_module_version": "1.5.0",
            "_model_name": "HTMLModel",
            "_view_count": null,
            "_view_module": "@jupyter-widgets/controls",
            "_view_module_version": "1.5.0",
            "_view_name": "HTMLView",
            "description": "",
            "description_tooltip": null,
            "layout": "IPY_MODEL_004cf92cbff342f2b00710aa73710bdb",
            "placeholder": "​",
            "style": "IPY_MODEL_7c379979190046cc8bb2b03e955627fe",
            "value": " 650/650 [04:27&lt;00:00,  2.85it/s]"
          }
        },
        "5bea9447fc5849a48704b3901523e632": {
          "model_module": "@jupyter-widgets/base",
          "model_name": "LayoutModel",
          "model_module_version": "1.2.0",
          "state": {
            "_model_module": "@jupyter-widgets/base",
            "_model_module_version": "1.2.0",
            "_model_name": "LayoutModel",
            "_view_count": null,
            "_view_module": "@jupyter-widgets/base",
            "_view_module_version": "1.2.0",
            "_view_name": "LayoutView",
            "align_content": null,
            "align_items": null,
            "align_self": null,
            "border": null,
            "bottom": null,
            "display": null,
            "flex": null,
            "flex_flow": null,
            "grid_area": null,
            "grid_auto_columns": null,
            "grid_auto_flow": null,
            "grid_auto_rows": null,
            "grid_column": null,
            "grid_gap": null,
            "grid_row": null,
            "grid_template_areas": null,
            "grid_template_columns": null,
            "grid_template_rows": null,
            "height": null,
            "justify_content": null,
            "justify_items": null,
            "left": null,
            "margin": null,
            "max_height": null,
            "max_width": null,
            "min_height": null,
            "min_width": null,
            "object_fit": null,
            "object_position": null,
            "order": null,
            "overflow": null,
            "overflow_x": null,
            "overflow_y": null,
            "padding": null,
            "right": null,
            "top": null,
            "visibility": null,
            "width": null
          }
        },
        "129bf698f3ad464d9f190283def3efaa": {
          "model_module": "@jupyter-widgets/base",
          "model_name": "LayoutModel",
          "model_module_version": "1.2.0",
          "state": {
            "_model_module": "@jupyter-widgets/base",
            "_model_module_version": "1.2.0",
            "_model_name": "LayoutModel",
            "_view_count": null,
            "_view_module": "@jupyter-widgets/base",
            "_view_module_version": "1.2.0",
            "_view_name": "LayoutView",
            "align_content": null,
            "align_items": null,
            "align_self": null,
            "border": null,
            "bottom": null,
            "display": null,
            "flex": null,
            "flex_flow": null,
            "grid_area": null,
            "grid_auto_columns": null,
            "grid_auto_flow": null,
            "grid_auto_rows": null,
            "grid_column": null,
            "grid_gap": null,
            "grid_row": null,
            "grid_template_areas": null,
            "grid_template_columns": null,
            "grid_template_rows": null,
            "height": null,
            "justify_content": null,
            "justify_items": null,
            "left": null,
            "margin": null,
            "max_height": null,
            "max_width": null,
            "min_height": null,
            "min_width": null,
            "object_fit": null,
            "object_position": null,
            "order": null,
            "overflow": null,
            "overflow_x": null,
            "overflow_y": null,
            "padding": null,
            "right": null,
            "top": null,
            "visibility": null,
            "width": null
          }
        },
        "123bad913f3f4ae3b1ce2a1d6adc4a91": {
          "model_module": "@jupyter-widgets/controls",
          "model_name": "DescriptionStyleModel",
          "model_module_version": "1.5.0",
          "state": {
            "_model_module": "@jupyter-widgets/controls",
            "_model_module_version": "1.5.0",
            "_model_name": "DescriptionStyleModel",
            "_view_count": null,
            "_view_module": "@jupyter-widgets/base",
            "_view_module_version": "1.2.0",
            "_view_name": "StyleView",
            "description_width": ""
          }
        },
        "238e36beb9bf41a5b9f0df0074cee47e": {
          "model_module": "@jupyter-widgets/base",
          "model_name": "LayoutModel",
          "model_module_version": "1.2.0",
          "state": {
            "_model_module": "@jupyter-widgets/base",
            "_model_module_version": "1.2.0",
            "_model_name": "LayoutModel",
            "_view_count": null,
            "_view_module": "@jupyter-widgets/base",
            "_view_module_version": "1.2.0",
            "_view_name": "LayoutView",
            "align_content": null,
            "align_items": null,
            "align_self": null,
            "border": null,
            "bottom": null,
            "display": null,
            "flex": null,
            "flex_flow": null,
            "grid_area": null,
            "grid_auto_columns": null,
            "grid_auto_flow": null,
            "grid_auto_rows": null,
            "grid_column": null,
            "grid_gap": null,
            "grid_row": null,
            "grid_template_areas": null,
            "grid_template_columns": null,
            "grid_template_rows": null,
            "height": null,
            "justify_content": null,
            "justify_items": null,
            "left": null,
            "margin": null,
            "max_height": null,
            "max_width": null,
            "min_height": null,
            "min_width": null,
            "object_fit": null,
            "object_position": null,
            "order": null,
            "overflow": null,
            "overflow_x": null,
            "overflow_y": null,
            "padding": null,
            "right": null,
            "top": null,
            "visibility": null,
            "width": null
          }
        },
        "6e8e74a2f40345e694489fd1e346bbfc": {
          "model_module": "@jupyter-widgets/controls",
          "model_name": "ProgressStyleModel",
          "model_module_version": "1.5.0",
          "state": {
            "_model_module": "@jupyter-widgets/controls",
            "_model_module_version": "1.5.0",
            "_model_name": "ProgressStyleModel",
            "_view_count": null,
            "_view_module": "@jupyter-widgets/base",
            "_view_module_version": "1.2.0",
            "_view_name": "StyleView",
            "bar_color": null,
            "description_width": ""
          }
        },
        "004cf92cbff342f2b00710aa73710bdb": {
          "model_module": "@jupyter-widgets/base",
          "model_name": "LayoutModel",
          "model_module_version": "1.2.0",
          "state": {
            "_model_module": "@jupyter-widgets/base",
            "_model_module_version": "1.2.0",
            "_model_name": "LayoutModel",
            "_view_count": null,
            "_view_module": "@jupyter-widgets/base",
            "_view_module_version": "1.2.0",
            "_view_name": "LayoutView",
            "align_content": null,
            "align_items": null,
            "align_self": null,
            "border": null,
            "bottom": null,
            "display": null,
            "flex": null,
            "flex_flow": null,
            "grid_area": null,
            "grid_auto_columns": null,
            "grid_auto_flow": null,
            "grid_auto_rows": null,
            "grid_column": null,
            "grid_gap": null,
            "grid_row": null,
            "grid_template_areas": null,
            "grid_template_columns": null,
            "grid_template_rows": null,
            "height": null,
            "justify_content": null,
            "justify_items": null,
            "left": null,
            "margin": null,
            "max_height": null,
            "max_width": null,
            "min_height": null,
            "min_width": null,
            "object_fit": null,
            "object_position": null,
            "order": null,
            "overflow": null,
            "overflow_x": null,
            "overflow_y": null,
            "padding": null,
            "right": null,
            "top": null,
            "visibility": null,
            "width": null
          }
        },
        "7c379979190046cc8bb2b03e955627fe": {
          "model_module": "@jupyter-widgets/controls",
          "model_name": "DescriptionStyleModel",
          "model_module_version": "1.5.0",
          "state": {
            "_model_module": "@jupyter-widgets/controls",
            "_model_module_version": "1.5.0",
            "_model_name": "DescriptionStyleModel",
            "_view_count": null,
            "_view_module": "@jupyter-widgets/base",
            "_view_module_version": "1.2.0",
            "_view_name": "StyleView",
            "description_width": ""
          }
        },
        "38c9e2fafeae46aab436cffbbbfed0f8": {
          "model_module": "@jupyter-widgets/controls",
          "model_name": "HBoxModel",
          "model_module_version": "1.5.0",
          "state": {
            "_dom_classes": [],
            "_model_module": "@jupyter-widgets/controls",
            "_model_module_version": "1.5.0",
            "_model_name": "HBoxModel",
            "_view_count": null,
            "_view_module": "@jupyter-widgets/controls",
            "_view_module_version": "1.5.0",
            "_view_name": "HBoxView",
            "box_style": "",
            "children": [
              "IPY_MODEL_efe98fb0733445259bfda62725f9518d",
              "IPY_MODEL_7651663302f746aba45ae0b4a9d660d1",
              "IPY_MODEL_9b5d871823b7485e93a62278a988e772"
            ],
            "layout": "IPY_MODEL_f49f94fd1db2426c9dd6210475b6f586"
          }
        },
        "efe98fb0733445259bfda62725f9518d": {
          "model_module": "@jupyter-widgets/controls",
          "model_name": "HTMLModel",
          "model_module_version": "1.5.0",
          "state": {
            "_dom_classes": [],
            "_model_module": "@jupyter-widgets/controls",
            "_model_module_version": "1.5.0",
            "_model_name": "HTMLModel",
            "_view_count": null,
            "_view_module": "@jupyter-widgets/controls",
            "_view_module_version": "1.5.0",
            "_view_name": "HTMLView",
            "description": "",
            "description_tooltip": null,
            "layout": "IPY_MODEL_be144e8b960b4a98a47724248702a50e",
            "placeholder": "​",
            "style": "IPY_MODEL_9e4a759617bb4c40b146e67d68b4b458",
            "value": "100%"
          }
        },
        "7651663302f746aba45ae0b4a9d660d1": {
          "model_module": "@jupyter-widgets/controls",
          "model_name": "FloatProgressModel",
          "model_module_version": "1.5.0",
          "state": {
            "_dom_classes": [],
            "_model_module": "@jupyter-widgets/controls",
            "_model_module_version": "1.5.0",
            "_model_name": "FloatProgressModel",
            "_view_count": null,
            "_view_module": "@jupyter-widgets/controls",
            "_view_module_version": "1.5.0",
            "_view_name": "ProgressView",
            "bar_style": "success",
            "description": "",
            "description_tooltip": null,
            "layout": "IPY_MODEL_974b319f2a854597bba2d779555e4746",
            "max": 650,
            "min": 0,
            "orientation": "horizontal",
            "style": "IPY_MODEL_6a5f86f1bd234215988f4b25cf808c70",
            "value": 650
          }
        },
        "9b5d871823b7485e93a62278a988e772": {
          "model_module": "@jupyter-widgets/controls",
          "model_name": "HTMLModel",
          "model_module_version": "1.5.0",
          "state": {
            "_dom_classes": [],
            "_model_module": "@jupyter-widgets/controls",
            "_model_module_version": "1.5.0",
            "_model_name": "HTMLModel",
            "_view_count": null,
            "_view_module": "@jupyter-widgets/controls",
            "_view_module_version": "1.5.0",
            "_view_name": "HTMLView",
            "description": "",
            "description_tooltip": null,
            "layout": "IPY_MODEL_6818c7ccaa714de994a4e7bd1aa49210",
            "placeholder": "​",
            "style": "IPY_MODEL_957247a920e346dc8252d2b60e98c6eb",
            "value": " 650/650 [04:27&lt;00:00,  2.75it/s]"
          }
        },
        "f49f94fd1db2426c9dd6210475b6f586": {
          "model_module": "@jupyter-widgets/base",
          "model_name": "LayoutModel",
          "model_module_version": "1.2.0",
          "state": {
            "_model_module": "@jupyter-widgets/base",
            "_model_module_version": "1.2.0",
            "_model_name": "LayoutModel",
            "_view_count": null,
            "_view_module": "@jupyter-widgets/base",
            "_view_module_version": "1.2.0",
            "_view_name": "LayoutView",
            "align_content": null,
            "align_items": null,
            "align_self": null,
            "border": null,
            "bottom": null,
            "display": null,
            "flex": null,
            "flex_flow": null,
            "grid_area": null,
            "grid_auto_columns": null,
            "grid_auto_flow": null,
            "grid_auto_rows": null,
            "grid_column": null,
            "grid_gap": null,
            "grid_row": null,
            "grid_template_areas": null,
            "grid_template_columns": null,
            "grid_template_rows": null,
            "height": null,
            "justify_content": null,
            "justify_items": null,
            "left": null,
            "margin": null,
            "max_height": null,
            "max_width": null,
            "min_height": null,
            "min_width": null,
            "object_fit": null,
            "object_position": null,
            "order": null,
            "overflow": null,
            "overflow_x": null,
            "overflow_y": null,
            "padding": null,
            "right": null,
            "top": null,
            "visibility": null,
            "width": null
          }
        },
        "be144e8b960b4a98a47724248702a50e": {
          "model_module": "@jupyter-widgets/base",
          "model_name": "LayoutModel",
          "model_module_version": "1.2.0",
          "state": {
            "_model_module": "@jupyter-widgets/base",
            "_model_module_version": "1.2.0",
            "_model_name": "LayoutModel",
            "_view_count": null,
            "_view_module": "@jupyter-widgets/base",
            "_view_module_version": "1.2.0",
            "_view_name": "LayoutView",
            "align_content": null,
            "align_items": null,
            "align_self": null,
            "border": null,
            "bottom": null,
            "display": null,
            "flex": null,
            "flex_flow": null,
            "grid_area": null,
            "grid_auto_columns": null,
            "grid_auto_flow": null,
            "grid_auto_rows": null,
            "grid_column": null,
            "grid_gap": null,
            "grid_row": null,
            "grid_template_areas": null,
            "grid_template_columns": null,
            "grid_template_rows": null,
            "height": null,
            "justify_content": null,
            "justify_items": null,
            "left": null,
            "margin": null,
            "max_height": null,
            "max_width": null,
            "min_height": null,
            "min_width": null,
            "object_fit": null,
            "object_position": null,
            "order": null,
            "overflow": null,
            "overflow_x": null,
            "overflow_y": null,
            "padding": null,
            "right": null,
            "top": null,
            "visibility": null,
            "width": null
          }
        },
        "9e4a759617bb4c40b146e67d68b4b458": {
          "model_module": "@jupyter-widgets/controls",
          "model_name": "DescriptionStyleModel",
          "model_module_version": "1.5.0",
          "state": {
            "_model_module": "@jupyter-widgets/controls",
            "_model_module_version": "1.5.0",
            "_model_name": "DescriptionStyleModel",
            "_view_count": null,
            "_view_module": "@jupyter-widgets/base",
            "_view_module_version": "1.2.0",
            "_view_name": "StyleView",
            "description_width": ""
          }
        },
        "974b319f2a854597bba2d779555e4746": {
          "model_module": "@jupyter-widgets/base",
          "model_name": "LayoutModel",
          "model_module_version": "1.2.0",
          "state": {
            "_model_module": "@jupyter-widgets/base",
            "_model_module_version": "1.2.0",
            "_model_name": "LayoutModel",
            "_view_count": null,
            "_view_module": "@jupyter-widgets/base",
            "_view_module_version": "1.2.0",
            "_view_name": "LayoutView",
            "align_content": null,
            "align_items": null,
            "align_self": null,
            "border": null,
            "bottom": null,
            "display": null,
            "flex": null,
            "flex_flow": null,
            "grid_area": null,
            "grid_auto_columns": null,
            "grid_auto_flow": null,
            "grid_auto_rows": null,
            "grid_column": null,
            "grid_gap": null,
            "grid_row": null,
            "grid_template_areas": null,
            "grid_template_columns": null,
            "grid_template_rows": null,
            "height": null,
            "justify_content": null,
            "justify_items": null,
            "left": null,
            "margin": null,
            "max_height": null,
            "max_width": null,
            "min_height": null,
            "min_width": null,
            "object_fit": null,
            "object_position": null,
            "order": null,
            "overflow": null,
            "overflow_x": null,
            "overflow_y": null,
            "padding": null,
            "right": null,
            "top": null,
            "visibility": null,
            "width": null
          }
        },
        "6a5f86f1bd234215988f4b25cf808c70": {
          "model_module": "@jupyter-widgets/controls",
          "model_name": "ProgressStyleModel",
          "model_module_version": "1.5.0",
          "state": {
            "_model_module": "@jupyter-widgets/controls",
            "_model_module_version": "1.5.0",
            "_model_name": "ProgressStyleModel",
            "_view_count": null,
            "_view_module": "@jupyter-widgets/base",
            "_view_module_version": "1.2.0",
            "_view_name": "StyleView",
            "bar_color": null,
            "description_width": ""
          }
        },
        "6818c7ccaa714de994a4e7bd1aa49210": {
          "model_module": "@jupyter-widgets/base",
          "model_name": "LayoutModel",
          "model_module_version": "1.2.0",
          "state": {
            "_model_module": "@jupyter-widgets/base",
            "_model_module_version": "1.2.0",
            "_model_name": "LayoutModel",
            "_view_count": null,
            "_view_module": "@jupyter-widgets/base",
            "_view_module_version": "1.2.0",
            "_view_name": "LayoutView",
            "align_content": null,
            "align_items": null,
            "align_self": null,
            "border": null,
            "bottom": null,
            "display": null,
            "flex": null,
            "flex_flow": null,
            "grid_area": null,
            "grid_auto_columns": null,
            "grid_auto_flow": null,
            "grid_auto_rows": null,
            "grid_column": null,
            "grid_gap": null,
            "grid_row": null,
            "grid_template_areas": null,
            "grid_template_columns": null,
            "grid_template_rows": null,
            "height": null,
            "justify_content": null,
            "justify_items": null,
            "left": null,
            "margin": null,
            "max_height": null,
            "max_width": null,
            "min_height": null,
            "min_width": null,
            "object_fit": null,
            "object_position": null,
            "order": null,
            "overflow": null,
            "overflow_x": null,
            "overflow_y": null,
            "padding": null,
            "right": null,
            "top": null,
            "visibility": null,
            "width": null
          }
        },
        "957247a920e346dc8252d2b60e98c6eb": {
          "model_module": "@jupyter-widgets/controls",
          "model_name": "DescriptionStyleModel",
          "model_module_version": "1.5.0",
          "state": {
            "_model_module": "@jupyter-widgets/controls",
            "_model_module_version": "1.5.0",
            "_model_name": "DescriptionStyleModel",
            "_view_count": null,
            "_view_module": "@jupyter-widgets/base",
            "_view_module_version": "1.2.0",
            "_view_name": "StyleView",
            "description_width": ""
          }
        },
        "df12332ecc4c4abab7601201e186aa37": {
          "model_module": "@jupyter-widgets/controls",
          "model_name": "HBoxModel",
          "model_module_version": "1.5.0",
          "state": {
            "_dom_classes": [],
            "_model_module": "@jupyter-widgets/controls",
            "_model_module_version": "1.5.0",
            "_model_name": "HBoxModel",
            "_view_count": null,
            "_view_module": "@jupyter-widgets/controls",
            "_view_module_version": "1.5.0",
            "_view_name": "HBoxView",
            "box_style": "",
            "children": [
              "IPY_MODEL_146b29c32f9c4063b1bc5546cdb9aaa5",
              "IPY_MODEL_061e4d7b513b40ceb6b9c895c0d4a911",
              "IPY_MODEL_a0f18562f35940ba84bd73baa0f82acf"
            ],
            "layout": "IPY_MODEL_a6d4fe5c91954b56bf349f68c52cb153"
          }
        },
        "146b29c32f9c4063b1bc5546cdb9aaa5": {
          "model_module": "@jupyter-widgets/controls",
          "model_name": "HTMLModel",
          "model_module_version": "1.5.0",
          "state": {
            "_dom_classes": [],
            "_model_module": "@jupyter-widgets/controls",
            "_model_module_version": "1.5.0",
            "_model_name": "HTMLModel",
            "_view_count": null,
            "_view_module": "@jupyter-widgets/controls",
            "_view_module_version": "1.5.0",
            "_view_name": "HTMLView",
            "description": "",
            "description_tooltip": null,
            "layout": "IPY_MODEL_0709b5623baf4e56b5226d48038a2357",
            "placeholder": "​",
            "style": "IPY_MODEL_8bb4959182ed42bba7e240670a728e89",
            "value": "100%"
          }
        },
        "061e4d7b513b40ceb6b9c895c0d4a911": {
          "model_module": "@jupyter-widgets/controls",
          "model_name": "FloatProgressModel",
          "model_module_version": "1.5.0",
          "state": {
            "_dom_classes": [],
            "_model_module": "@jupyter-widgets/controls",
            "_model_module_version": "1.5.0",
            "_model_name": "FloatProgressModel",
            "_view_count": null,
            "_view_module": "@jupyter-widgets/controls",
            "_view_module_version": "1.5.0",
            "_view_name": "ProgressView",
            "bar_style": "success",
            "description": "",
            "description_tooltip": null,
            "layout": "IPY_MODEL_e99332557ba84e778c8258e46a2932c4",
            "max": 650,
            "min": 0,
            "orientation": "horizontal",
            "style": "IPY_MODEL_381b42b7a2bf4f97845f954256fc0b55",
            "value": 650
          }
        },
        "a0f18562f35940ba84bd73baa0f82acf": {
          "model_module": "@jupyter-widgets/controls",
          "model_name": "HTMLModel",
          "model_module_version": "1.5.0",
          "state": {
            "_dom_classes": [],
            "_model_module": "@jupyter-widgets/controls",
            "_model_module_version": "1.5.0",
            "_model_name": "HTMLModel",
            "_view_count": null,
            "_view_module": "@jupyter-widgets/controls",
            "_view_module_version": "1.5.0",
            "_view_name": "HTMLView",
            "description": "",
            "description_tooltip": null,
            "layout": "IPY_MODEL_c92d37e4b7b0454293701d1ba6c67933",
            "placeholder": "​",
            "style": "IPY_MODEL_3244258304324af8915f762937e48ab1",
            "value": " 650/650 [04:28&lt;00:00,  2.15it/s]"
          }
        },
        "a6d4fe5c91954b56bf349f68c52cb153": {
          "model_module": "@jupyter-widgets/base",
          "model_name": "LayoutModel",
          "model_module_version": "1.2.0",
          "state": {
            "_model_module": "@jupyter-widgets/base",
            "_model_module_version": "1.2.0",
            "_model_name": "LayoutModel",
            "_view_count": null,
            "_view_module": "@jupyter-widgets/base",
            "_view_module_version": "1.2.0",
            "_view_name": "LayoutView",
            "align_content": null,
            "align_items": null,
            "align_self": null,
            "border": null,
            "bottom": null,
            "display": null,
            "flex": null,
            "flex_flow": null,
            "grid_area": null,
            "grid_auto_columns": null,
            "grid_auto_flow": null,
            "grid_auto_rows": null,
            "grid_column": null,
            "grid_gap": null,
            "grid_row": null,
            "grid_template_areas": null,
            "grid_template_columns": null,
            "grid_template_rows": null,
            "height": null,
            "justify_content": null,
            "justify_items": null,
            "left": null,
            "margin": null,
            "max_height": null,
            "max_width": null,
            "min_height": null,
            "min_width": null,
            "object_fit": null,
            "object_position": null,
            "order": null,
            "overflow": null,
            "overflow_x": null,
            "overflow_y": null,
            "padding": null,
            "right": null,
            "top": null,
            "visibility": null,
            "width": null
          }
        },
        "0709b5623baf4e56b5226d48038a2357": {
          "model_module": "@jupyter-widgets/base",
          "model_name": "LayoutModel",
          "model_module_version": "1.2.0",
          "state": {
            "_model_module": "@jupyter-widgets/base",
            "_model_module_version": "1.2.0",
            "_model_name": "LayoutModel",
            "_view_count": null,
            "_view_module": "@jupyter-widgets/base",
            "_view_module_version": "1.2.0",
            "_view_name": "LayoutView",
            "align_content": null,
            "align_items": null,
            "align_self": null,
            "border": null,
            "bottom": null,
            "display": null,
            "flex": null,
            "flex_flow": null,
            "grid_area": null,
            "grid_auto_columns": null,
            "grid_auto_flow": null,
            "grid_auto_rows": null,
            "grid_column": null,
            "grid_gap": null,
            "grid_row": null,
            "grid_template_areas": null,
            "grid_template_columns": null,
            "grid_template_rows": null,
            "height": null,
            "justify_content": null,
            "justify_items": null,
            "left": null,
            "margin": null,
            "max_height": null,
            "max_width": null,
            "min_height": null,
            "min_width": null,
            "object_fit": null,
            "object_position": null,
            "order": null,
            "overflow": null,
            "overflow_x": null,
            "overflow_y": null,
            "padding": null,
            "right": null,
            "top": null,
            "visibility": null,
            "width": null
          }
        },
        "8bb4959182ed42bba7e240670a728e89": {
          "model_module": "@jupyter-widgets/controls",
          "model_name": "DescriptionStyleModel",
          "model_module_version": "1.5.0",
          "state": {
            "_model_module": "@jupyter-widgets/controls",
            "_model_module_version": "1.5.0",
            "_model_name": "DescriptionStyleModel",
            "_view_count": null,
            "_view_module": "@jupyter-widgets/base",
            "_view_module_version": "1.2.0",
            "_view_name": "StyleView",
            "description_width": ""
          }
        },
        "e99332557ba84e778c8258e46a2932c4": {
          "model_module": "@jupyter-widgets/base",
          "model_name": "LayoutModel",
          "model_module_version": "1.2.0",
          "state": {
            "_model_module": "@jupyter-widgets/base",
            "_model_module_version": "1.2.0",
            "_model_name": "LayoutModel",
            "_view_count": null,
            "_view_module": "@jupyter-widgets/base",
            "_view_module_version": "1.2.0",
            "_view_name": "LayoutView",
            "align_content": null,
            "align_items": null,
            "align_self": null,
            "border": null,
            "bottom": null,
            "display": null,
            "flex": null,
            "flex_flow": null,
            "grid_area": null,
            "grid_auto_columns": null,
            "grid_auto_flow": null,
            "grid_auto_rows": null,
            "grid_column": null,
            "grid_gap": null,
            "grid_row": null,
            "grid_template_areas": null,
            "grid_template_columns": null,
            "grid_template_rows": null,
            "height": null,
            "justify_content": null,
            "justify_items": null,
            "left": null,
            "margin": null,
            "max_height": null,
            "max_width": null,
            "min_height": null,
            "min_width": null,
            "object_fit": null,
            "object_position": null,
            "order": null,
            "overflow": null,
            "overflow_x": null,
            "overflow_y": null,
            "padding": null,
            "right": null,
            "top": null,
            "visibility": null,
            "width": null
          }
        },
        "381b42b7a2bf4f97845f954256fc0b55": {
          "model_module": "@jupyter-widgets/controls",
          "model_name": "ProgressStyleModel",
          "model_module_version": "1.5.0",
          "state": {
            "_model_module": "@jupyter-widgets/controls",
            "_model_module_version": "1.5.0",
            "_model_name": "ProgressStyleModel",
            "_view_count": null,
            "_view_module": "@jupyter-widgets/base",
            "_view_module_version": "1.2.0",
            "_view_name": "StyleView",
            "bar_color": null,
            "description_width": ""
          }
        },
        "c92d37e4b7b0454293701d1ba6c67933": {
          "model_module": "@jupyter-widgets/base",
          "model_name": "LayoutModel",
          "model_module_version": "1.2.0",
          "state": {
            "_model_module": "@jupyter-widgets/base",
            "_model_module_version": "1.2.0",
            "_model_name": "LayoutModel",
            "_view_count": null,
            "_view_module": "@jupyter-widgets/base",
            "_view_module_version": "1.2.0",
            "_view_name": "LayoutView",
            "align_content": null,
            "align_items": null,
            "align_self": null,
            "border": null,
            "bottom": null,
            "display": null,
            "flex": null,
            "flex_flow": null,
            "grid_area": null,
            "grid_auto_columns": null,
            "grid_auto_flow": null,
            "grid_auto_rows": null,
            "grid_column": null,
            "grid_gap": null,
            "grid_row": null,
            "grid_template_areas": null,
            "grid_template_columns": null,
            "grid_template_rows": null,
            "height": null,
            "justify_content": null,
            "justify_items": null,
            "left": null,
            "margin": null,
            "max_height": null,
            "max_width": null,
            "min_height": null,
            "min_width": null,
            "object_fit": null,
            "object_position": null,
            "order": null,
            "overflow": null,
            "overflow_x": null,
            "overflow_y": null,
            "padding": null,
            "right": null,
            "top": null,
            "visibility": null,
            "width": null
          }
        },
        "3244258304324af8915f762937e48ab1": {
          "model_module": "@jupyter-widgets/controls",
          "model_name": "DescriptionStyleModel",
          "model_module_version": "1.5.0",
          "state": {
            "_model_module": "@jupyter-widgets/controls",
            "_model_module_version": "1.5.0",
            "_model_name": "DescriptionStyleModel",
            "_view_count": null,
            "_view_module": "@jupyter-widgets/base",
            "_view_module_version": "1.2.0",
            "_view_name": "StyleView",
            "description_width": ""
          }
        },
        "8962172daa8f41d4809085bcec041037": {
          "model_module": "@jupyter-widgets/controls",
          "model_name": "HBoxModel",
          "model_module_version": "1.5.0",
          "state": {
            "_dom_classes": [],
            "_model_module": "@jupyter-widgets/controls",
            "_model_module_version": "1.5.0",
            "_model_name": "HBoxModel",
            "_view_count": null,
            "_view_module": "@jupyter-widgets/controls",
            "_view_module_version": "1.5.0",
            "_view_name": "HBoxView",
            "box_style": "",
            "children": [
              "IPY_MODEL_f05e70c3e49d4140b043ae0c39dce5aa",
              "IPY_MODEL_dccd758cc0004c2cb816f8ddf7a1e908",
              "IPY_MODEL_b9f1f33ec5314cc9b5fe26b1da9561aa"
            ],
            "layout": "IPY_MODEL_7e2e0bec59c54ee391e4dc823787305d"
          }
        },
        "f05e70c3e49d4140b043ae0c39dce5aa": {
          "model_module": "@jupyter-widgets/controls",
          "model_name": "HTMLModel",
          "model_module_version": "1.5.0",
          "state": {
            "_dom_classes": [],
            "_model_module": "@jupyter-widgets/controls",
            "_model_module_version": "1.5.0",
            "_model_name": "HTMLModel",
            "_view_count": null,
            "_view_module": "@jupyter-widgets/controls",
            "_view_module_version": "1.5.0",
            "_view_name": "HTMLView",
            "description": "",
            "description_tooltip": null,
            "layout": "IPY_MODEL_8296f3af01b242b68baa69c5ee1acefb",
            "placeholder": "​",
            "style": "IPY_MODEL_b07b6878174e420bad36111e93a87429",
            "value": "100%"
          }
        },
        "dccd758cc0004c2cb816f8ddf7a1e908": {
          "model_module": "@jupyter-widgets/controls",
          "model_name": "FloatProgressModel",
          "model_module_version": "1.5.0",
          "state": {
            "_dom_classes": [],
            "_model_module": "@jupyter-widgets/controls",
            "_model_module_version": "1.5.0",
            "_model_name": "FloatProgressModel",
            "_view_count": null,
            "_view_module": "@jupyter-widgets/controls",
            "_view_module_version": "1.5.0",
            "_view_name": "ProgressView",
            "bar_style": "success",
            "description": "",
            "description_tooltip": null,
            "layout": "IPY_MODEL_bea6b8d239ce460094fb9eac9305f376",
            "max": 650,
            "min": 0,
            "orientation": "horizontal",
            "style": "IPY_MODEL_ea85954d271d46009a88283994fc6e2d",
            "value": 650
          }
        },
        "b9f1f33ec5314cc9b5fe26b1da9561aa": {
          "model_module": "@jupyter-widgets/controls",
          "model_name": "HTMLModel",
          "model_module_version": "1.5.0",
          "state": {
            "_dom_classes": [],
            "_model_module": "@jupyter-widgets/controls",
            "_model_module_version": "1.5.0",
            "_model_name": "HTMLModel",
            "_view_count": null,
            "_view_module": "@jupyter-widgets/controls",
            "_view_module_version": "1.5.0",
            "_view_name": "HTMLView",
            "description": "",
            "description_tooltip": null,
            "layout": "IPY_MODEL_78c5385996c348d3bd606f5d76aa9ce3",
            "placeholder": "​",
            "style": "IPY_MODEL_b087458fcbe848559317b075c7ddfbb4",
            "value": " 650/650 [04:27&lt;00:00,  2.86it/s]"
          }
        },
        "7e2e0bec59c54ee391e4dc823787305d": {
          "model_module": "@jupyter-widgets/base",
          "model_name": "LayoutModel",
          "model_module_version": "1.2.0",
          "state": {
            "_model_module": "@jupyter-widgets/base",
            "_model_module_version": "1.2.0",
            "_model_name": "LayoutModel",
            "_view_count": null,
            "_view_module": "@jupyter-widgets/base",
            "_view_module_version": "1.2.0",
            "_view_name": "LayoutView",
            "align_content": null,
            "align_items": null,
            "align_self": null,
            "border": null,
            "bottom": null,
            "display": null,
            "flex": null,
            "flex_flow": null,
            "grid_area": null,
            "grid_auto_columns": null,
            "grid_auto_flow": null,
            "grid_auto_rows": null,
            "grid_column": null,
            "grid_gap": null,
            "grid_row": null,
            "grid_template_areas": null,
            "grid_template_columns": null,
            "grid_template_rows": null,
            "height": null,
            "justify_content": null,
            "justify_items": null,
            "left": null,
            "margin": null,
            "max_height": null,
            "max_width": null,
            "min_height": null,
            "min_width": null,
            "object_fit": null,
            "object_position": null,
            "order": null,
            "overflow": null,
            "overflow_x": null,
            "overflow_y": null,
            "padding": null,
            "right": null,
            "top": null,
            "visibility": null,
            "width": null
          }
        },
        "8296f3af01b242b68baa69c5ee1acefb": {
          "model_module": "@jupyter-widgets/base",
          "model_name": "LayoutModel",
          "model_module_version": "1.2.0",
          "state": {
            "_model_module": "@jupyter-widgets/base",
            "_model_module_version": "1.2.0",
            "_model_name": "LayoutModel",
            "_view_count": null,
            "_view_module": "@jupyter-widgets/base",
            "_view_module_version": "1.2.0",
            "_view_name": "LayoutView",
            "align_content": null,
            "align_items": null,
            "align_self": null,
            "border": null,
            "bottom": null,
            "display": null,
            "flex": null,
            "flex_flow": null,
            "grid_area": null,
            "grid_auto_columns": null,
            "grid_auto_flow": null,
            "grid_auto_rows": null,
            "grid_column": null,
            "grid_gap": null,
            "grid_row": null,
            "grid_template_areas": null,
            "grid_template_columns": null,
            "grid_template_rows": null,
            "height": null,
            "justify_content": null,
            "justify_items": null,
            "left": null,
            "margin": null,
            "max_height": null,
            "max_width": null,
            "min_height": null,
            "min_width": null,
            "object_fit": null,
            "object_position": null,
            "order": null,
            "overflow": null,
            "overflow_x": null,
            "overflow_y": null,
            "padding": null,
            "right": null,
            "top": null,
            "visibility": null,
            "width": null
          }
        },
        "b07b6878174e420bad36111e93a87429": {
          "model_module": "@jupyter-widgets/controls",
          "model_name": "DescriptionStyleModel",
          "model_module_version": "1.5.0",
          "state": {
            "_model_module": "@jupyter-widgets/controls",
            "_model_module_version": "1.5.0",
            "_model_name": "DescriptionStyleModel",
            "_view_count": null,
            "_view_module": "@jupyter-widgets/base",
            "_view_module_version": "1.2.0",
            "_view_name": "StyleView",
            "description_width": ""
          }
        },
        "bea6b8d239ce460094fb9eac9305f376": {
          "model_module": "@jupyter-widgets/base",
          "model_name": "LayoutModel",
          "model_module_version": "1.2.0",
          "state": {
            "_model_module": "@jupyter-widgets/base",
            "_model_module_version": "1.2.0",
            "_model_name": "LayoutModel",
            "_view_count": null,
            "_view_module": "@jupyter-widgets/base",
            "_view_module_version": "1.2.0",
            "_view_name": "LayoutView",
            "align_content": null,
            "align_items": null,
            "align_self": null,
            "border": null,
            "bottom": null,
            "display": null,
            "flex": null,
            "flex_flow": null,
            "grid_area": null,
            "grid_auto_columns": null,
            "grid_auto_flow": null,
            "grid_auto_rows": null,
            "grid_column": null,
            "grid_gap": null,
            "grid_row": null,
            "grid_template_areas": null,
            "grid_template_columns": null,
            "grid_template_rows": null,
            "height": null,
            "justify_content": null,
            "justify_items": null,
            "left": null,
            "margin": null,
            "max_height": null,
            "max_width": null,
            "min_height": null,
            "min_width": null,
            "object_fit": null,
            "object_position": null,
            "order": null,
            "overflow": null,
            "overflow_x": null,
            "overflow_y": null,
            "padding": null,
            "right": null,
            "top": null,
            "visibility": null,
            "width": null
          }
        },
        "ea85954d271d46009a88283994fc6e2d": {
          "model_module": "@jupyter-widgets/controls",
          "model_name": "ProgressStyleModel",
          "model_module_version": "1.5.0",
          "state": {
            "_model_module": "@jupyter-widgets/controls",
            "_model_module_version": "1.5.0",
            "_model_name": "ProgressStyleModel",
            "_view_count": null,
            "_view_module": "@jupyter-widgets/base",
            "_view_module_version": "1.2.0",
            "_view_name": "StyleView",
            "bar_color": null,
            "description_width": ""
          }
        },
        "78c5385996c348d3bd606f5d76aa9ce3": {
          "model_module": "@jupyter-widgets/base",
          "model_name": "LayoutModel",
          "model_module_version": "1.2.0",
          "state": {
            "_model_module": "@jupyter-widgets/base",
            "_model_module_version": "1.2.0",
            "_model_name": "LayoutModel",
            "_view_count": null,
            "_view_module": "@jupyter-widgets/base",
            "_view_module_version": "1.2.0",
            "_view_name": "LayoutView",
            "align_content": null,
            "align_items": null,
            "align_self": null,
            "border": null,
            "bottom": null,
            "display": null,
            "flex": null,
            "flex_flow": null,
            "grid_area": null,
            "grid_auto_columns": null,
            "grid_auto_flow": null,
            "grid_auto_rows": null,
            "grid_column": null,
            "grid_gap": null,
            "grid_row": null,
            "grid_template_areas": null,
            "grid_template_columns": null,
            "grid_template_rows": null,
            "height": null,
            "justify_content": null,
            "justify_items": null,
            "left": null,
            "margin": null,
            "max_height": null,
            "max_width": null,
            "min_height": null,
            "min_width": null,
            "object_fit": null,
            "object_position": null,
            "order": null,
            "overflow": null,
            "overflow_x": null,
            "overflow_y": null,
            "padding": null,
            "right": null,
            "top": null,
            "visibility": null,
            "width": null
          }
        },
        "b087458fcbe848559317b075c7ddfbb4": {
          "model_module": "@jupyter-widgets/controls",
          "model_name": "DescriptionStyleModel",
          "model_module_version": "1.5.0",
          "state": {
            "_model_module": "@jupyter-widgets/controls",
            "_model_module_version": "1.5.0",
            "_model_name": "DescriptionStyleModel",
            "_view_count": null,
            "_view_module": "@jupyter-widgets/base",
            "_view_module_version": "1.2.0",
            "_view_name": "StyleView",
            "description_width": ""
          }
        },
        "b3c54a76b1b54b85b24f395c4d2906cb": {
          "model_module": "@jupyter-widgets/controls",
          "model_name": "HBoxModel",
          "model_module_version": "1.5.0",
          "state": {
            "_dom_classes": [],
            "_model_module": "@jupyter-widgets/controls",
            "_model_module_version": "1.5.0",
            "_model_name": "HBoxModel",
            "_view_count": null,
            "_view_module": "@jupyter-widgets/controls",
            "_view_module_version": "1.5.0",
            "_view_name": "HBoxView",
            "box_style": "",
            "children": [
              "IPY_MODEL_b3bb5ff51d344875b5f14f49a99d2e08",
              "IPY_MODEL_2d95e04869d548778cbce2e675d37c92",
              "IPY_MODEL_fb06f61ebe8640fa8d8555af6d884824"
            ],
            "layout": "IPY_MODEL_e40a2b30748e48909ae570a8d54cfa90"
          }
        },
        "b3bb5ff51d344875b5f14f49a99d2e08": {
          "model_module": "@jupyter-widgets/controls",
          "model_name": "HTMLModel",
          "model_module_version": "1.5.0",
          "state": {
            "_dom_classes": [],
            "_model_module": "@jupyter-widgets/controls",
            "_model_module_version": "1.5.0",
            "_model_name": "HTMLModel",
            "_view_count": null,
            "_view_module": "@jupyter-widgets/controls",
            "_view_module_version": "1.5.0",
            "_view_name": "HTMLView",
            "description": "",
            "description_tooltip": null,
            "layout": "IPY_MODEL_094864380120455284e71275a5bc7eb2",
            "placeholder": "​",
            "style": "IPY_MODEL_04ea069e03d44b90946ec66ed3d2a60c",
            "value": "100%"
          }
        },
        "2d95e04869d548778cbce2e675d37c92": {
          "model_module": "@jupyter-widgets/controls",
          "model_name": "FloatProgressModel",
          "model_module_version": "1.5.0",
          "state": {
            "_dom_classes": [],
            "_model_module": "@jupyter-widgets/controls",
            "_model_module_version": "1.5.0",
            "_model_name": "FloatProgressModel",
            "_view_count": null,
            "_view_module": "@jupyter-widgets/controls",
            "_view_module_version": "1.5.0",
            "_view_name": "ProgressView",
            "bar_style": "success",
            "description": "",
            "description_tooltip": null,
            "layout": "IPY_MODEL_dd390d2213944d25bbbfdeb1e7d165a6",
            "max": 650,
            "min": 0,
            "orientation": "horizontal",
            "style": "IPY_MODEL_6b9b40d6efaf43709dd2cd379b4e4ec9",
            "value": 650
          }
        },
        "fb06f61ebe8640fa8d8555af6d884824": {
          "model_module": "@jupyter-widgets/controls",
          "model_name": "HTMLModel",
          "model_module_version": "1.5.0",
          "state": {
            "_dom_classes": [],
            "_model_module": "@jupyter-widgets/controls",
            "_model_module_version": "1.5.0",
            "_model_name": "HTMLModel",
            "_view_count": null,
            "_view_module": "@jupyter-widgets/controls",
            "_view_module_version": "1.5.0",
            "_view_name": "HTMLView",
            "description": "",
            "description_tooltip": null,
            "layout": "IPY_MODEL_b3bb31c2d2d34d9b91e8c85859187481",
            "placeholder": "​",
            "style": "IPY_MODEL_9defc33c44cb451f8dc6b3dfe5701aee",
            "value": " 650/650 [04:26&lt;00:00,  2.86it/s]"
          }
        },
        "e40a2b30748e48909ae570a8d54cfa90": {
          "model_module": "@jupyter-widgets/base",
          "model_name": "LayoutModel",
          "model_module_version": "1.2.0",
          "state": {
            "_model_module": "@jupyter-widgets/base",
            "_model_module_version": "1.2.0",
            "_model_name": "LayoutModel",
            "_view_count": null,
            "_view_module": "@jupyter-widgets/base",
            "_view_module_version": "1.2.0",
            "_view_name": "LayoutView",
            "align_content": null,
            "align_items": null,
            "align_self": null,
            "border": null,
            "bottom": null,
            "display": null,
            "flex": null,
            "flex_flow": null,
            "grid_area": null,
            "grid_auto_columns": null,
            "grid_auto_flow": null,
            "grid_auto_rows": null,
            "grid_column": null,
            "grid_gap": null,
            "grid_row": null,
            "grid_template_areas": null,
            "grid_template_columns": null,
            "grid_template_rows": null,
            "height": null,
            "justify_content": null,
            "justify_items": null,
            "left": null,
            "margin": null,
            "max_height": null,
            "max_width": null,
            "min_height": null,
            "min_width": null,
            "object_fit": null,
            "object_position": null,
            "order": null,
            "overflow": null,
            "overflow_x": null,
            "overflow_y": null,
            "padding": null,
            "right": null,
            "top": null,
            "visibility": null,
            "width": null
          }
        },
        "094864380120455284e71275a5bc7eb2": {
          "model_module": "@jupyter-widgets/base",
          "model_name": "LayoutModel",
          "model_module_version": "1.2.0",
          "state": {
            "_model_module": "@jupyter-widgets/base",
            "_model_module_version": "1.2.0",
            "_model_name": "LayoutModel",
            "_view_count": null,
            "_view_module": "@jupyter-widgets/base",
            "_view_module_version": "1.2.0",
            "_view_name": "LayoutView",
            "align_content": null,
            "align_items": null,
            "align_self": null,
            "border": null,
            "bottom": null,
            "display": null,
            "flex": null,
            "flex_flow": null,
            "grid_area": null,
            "grid_auto_columns": null,
            "grid_auto_flow": null,
            "grid_auto_rows": null,
            "grid_column": null,
            "grid_gap": null,
            "grid_row": null,
            "grid_template_areas": null,
            "grid_template_columns": null,
            "grid_template_rows": null,
            "height": null,
            "justify_content": null,
            "justify_items": null,
            "left": null,
            "margin": null,
            "max_height": null,
            "max_width": null,
            "min_height": null,
            "min_width": null,
            "object_fit": null,
            "object_position": null,
            "order": null,
            "overflow": null,
            "overflow_x": null,
            "overflow_y": null,
            "padding": null,
            "right": null,
            "top": null,
            "visibility": null,
            "width": null
          }
        },
        "04ea069e03d44b90946ec66ed3d2a60c": {
          "model_module": "@jupyter-widgets/controls",
          "model_name": "DescriptionStyleModel",
          "model_module_version": "1.5.0",
          "state": {
            "_model_module": "@jupyter-widgets/controls",
            "_model_module_version": "1.5.0",
            "_model_name": "DescriptionStyleModel",
            "_view_count": null,
            "_view_module": "@jupyter-widgets/base",
            "_view_module_version": "1.2.0",
            "_view_name": "StyleView",
            "description_width": ""
          }
        },
        "dd390d2213944d25bbbfdeb1e7d165a6": {
          "model_module": "@jupyter-widgets/base",
          "model_name": "LayoutModel",
          "model_module_version": "1.2.0",
          "state": {
            "_model_module": "@jupyter-widgets/base",
            "_model_module_version": "1.2.0",
            "_model_name": "LayoutModel",
            "_view_count": null,
            "_view_module": "@jupyter-widgets/base",
            "_view_module_version": "1.2.0",
            "_view_name": "LayoutView",
            "align_content": null,
            "align_items": null,
            "align_self": null,
            "border": null,
            "bottom": null,
            "display": null,
            "flex": null,
            "flex_flow": null,
            "grid_area": null,
            "grid_auto_columns": null,
            "grid_auto_flow": null,
            "grid_auto_rows": null,
            "grid_column": null,
            "grid_gap": null,
            "grid_row": null,
            "grid_template_areas": null,
            "grid_template_columns": null,
            "grid_template_rows": null,
            "height": null,
            "justify_content": null,
            "justify_items": null,
            "left": null,
            "margin": null,
            "max_height": null,
            "max_width": null,
            "min_height": null,
            "min_width": null,
            "object_fit": null,
            "object_position": null,
            "order": null,
            "overflow": null,
            "overflow_x": null,
            "overflow_y": null,
            "padding": null,
            "right": null,
            "top": null,
            "visibility": null,
            "width": null
          }
        },
        "6b9b40d6efaf43709dd2cd379b4e4ec9": {
          "model_module": "@jupyter-widgets/controls",
          "model_name": "ProgressStyleModel",
          "model_module_version": "1.5.0",
          "state": {
            "_model_module": "@jupyter-widgets/controls",
            "_model_module_version": "1.5.0",
            "_model_name": "ProgressStyleModel",
            "_view_count": null,
            "_view_module": "@jupyter-widgets/base",
            "_view_module_version": "1.2.0",
            "_view_name": "StyleView",
            "bar_color": null,
            "description_width": ""
          }
        },
        "b3bb31c2d2d34d9b91e8c85859187481": {
          "model_module": "@jupyter-widgets/base",
          "model_name": "LayoutModel",
          "model_module_version": "1.2.0",
          "state": {
            "_model_module": "@jupyter-widgets/base",
            "_model_module_version": "1.2.0",
            "_model_name": "LayoutModel",
            "_view_count": null,
            "_view_module": "@jupyter-widgets/base",
            "_view_module_version": "1.2.0",
            "_view_name": "LayoutView",
            "align_content": null,
            "align_items": null,
            "align_self": null,
            "border": null,
            "bottom": null,
            "display": null,
            "flex": null,
            "flex_flow": null,
            "grid_area": null,
            "grid_auto_columns": null,
            "grid_auto_flow": null,
            "grid_auto_rows": null,
            "grid_column": null,
            "grid_gap": null,
            "grid_row": null,
            "grid_template_areas": null,
            "grid_template_columns": null,
            "grid_template_rows": null,
            "height": null,
            "justify_content": null,
            "justify_items": null,
            "left": null,
            "margin": null,
            "max_height": null,
            "max_width": null,
            "min_height": null,
            "min_width": null,
            "object_fit": null,
            "object_position": null,
            "order": null,
            "overflow": null,
            "overflow_x": null,
            "overflow_y": null,
            "padding": null,
            "right": null,
            "top": null,
            "visibility": null,
            "width": null
          }
        },
        "9defc33c44cb451f8dc6b3dfe5701aee": {
          "model_module": "@jupyter-widgets/controls",
          "model_name": "DescriptionStyleModel",
          "model_module_version": "1.5.0",
          "state": {
            "_model_module": "@jupyter-widgets/controls",
            "_model_module_version": "1.5.0",
            "_model_name": "DescriptionStyleModel",
            "_view_count": null,
            "_view_module": "@jupyter-widgets/base",
            "_view_module_version": "1.2.0",
            "_view_name": "StyleView",
            "description_width": ""
          }
        },
        "340862be965d423fb6c28465f219c405": {
          "model_module": "@jupyter-widgets/controls",
          "model_name": "HBoxModel",
          "model_module_version": "1.5.0",
          "state": {
            "_dom_classes": [],
            "_model_module": "@jupyter-widgets/controls",
            "_model_module_version": "1.5.0",
            "_model_name": "HBoxModel",
            "_view_count": null,
            "_view_module": "@jupyter-widgets/controls",
            "_view_module_version": "1.5.0",
            "_view_name": "HBoxView",
            "box_style": "",
            "children": [
              "IPY_MODEL_1210b38743a4480e93d6d907106f10f8",
              "IPY_MODEL_2378c18791714d9dbe1821444f64aef8",
              "IPY_MODEL_64a46e9fd2854ffb93e96fbccf9a45a5"
            ],
            "layout": "IPY_MODEL_4f64ae2be7f948828495abd1d50c4446"
          }
        },
        "1210b38743a4480e93d6d907106f10f8": {
          "model_module": "@jupyter-widgets/controls",
          "model_name": "HTMLModel",
          "model_module_version": "1.5.0",
          "state": {
            "_dom_classes": [],
            "_model_module": "@jupyter-widgets/controls",
            "_model_module_version": "1.5.0",
            "_model_name": "HTMLModel",
            "_view_count": null,
            "_view_module": "@jupyter-widgets/controls",
            "_view_module_version": "1.5.0",
            "_view_name": "HTMLView",
            "description": "",
            "description_tooltip": null,
            "layout": "IPY_MODEL_9b1dde94e6b041a987c726653a9426b3",
            "placeholder": "​",
            "style": "IPY_MODEL_8e65c7d8cf7042fca55537f0190f3c76",
            "value": "100%"
          }
        },
        "2378c18791714d9dbe1821444f64aef8": {
          "model_module": "@jupyter-widgets/controls",
          "model_name": "FloatProgressModel",
          "model_module_version": "1.5.0",
          "state": {
            "_dom_classes": [],
            "_model_module": "@jupyter-widgets/controls",
            "_model_module_version": "1.5.0",
            "_model_name": "FloatProgressModel",
            "_view_count": null,
            "_view_module": "@jupyter-widgets/controls",
            "_view_module_version": "1.5.0",
            "_view_name": "ProgressView",
            "bar_style": "success",
            "description": "",
            "description_tooltip": null,
            "layout": "IPY_MODEL_0965f3357aaf4d9ab01e11e53a5d6423",
            "max": 650,
            "min": 0,
            "orientation": "horizontal",
            "style": "IPY_MODEL_58b7d034a0f14ce582f502a99a80c27b",
            "value": 650
          }
        },
        "64a46e9fd2854ffb93e96fbccf9a45a5": {
          "model_module": "@jupyter-widgets/controls",
          "model_name": "HTMLModel",
          "model_module_version": "1.5.0",
          "state": {
            "_dom_classes": [],
            "_model_module": "@jupyter-widgets/controls",
            "_model_module_version": "1.5.0",
            "_model_name": "HTMLModel",
            "_view_count": null,
            "_view_module": "@jupyter-widgets/controls",
            "_view_module_version": "1.5.0",
            "_view_name": "HTMLView",
            "description": "",
            "description_tooltip": null,
            "layout": "IPY_MODEL_5c1db11edf5e4bd798b5231e140312d4",
            "placeholder": "​",
            "style": "IPY_MODEL_4b17de99e6d8411c96d9e8741726d2f4",
            "value": " 650/650 [04:27&lt;00:00,  2.89it/s]"
          }
        },
        "4f64ae2be7f948828495abd1d50c4446": {
          "model_module": "@jupyter-widgets/base",
          "model_name": "LayoutModel",
          "model_module_version": "1.2.0",
          "state": {
            "_model_module": "@jupyter-widgets/base",
            "_model_module_version": "1.2.0",
            "_model_name": "LayoutModel",
            "_view_count": null,
            "_view_module": "@jupyter-widgets/base",
            "_view_module_version": "1.2.0",
            "_view_name": "LayoutView",
            "align_content": null,
            "align_items": null,
            "align_self": null,
            "border": null,
            "bottom": null,
            "display": null,
            "flex": null,
            "flex_flow": null,
            "grid_area": null,
            "grid_auto_columns": null,
            "grid_auto_flow": null,
            "grid_auto_rows": null,
            "grid_column": null,
            "grid_gap": null,
            "grid_row": null,
            "grid_template_areas": null,
            "grid_template_columns": null,
            "grid_template_rows": null,
            "height": null,
            "justify_content": null,
            "justify_items": null,
            "left": null,
            "margin": null,
            "max_height": null,
            "max_width": null,
            "min_height": null,
            "min_width": null,
            "object_fit": null,
            "object_position": null,
            "order": null,
            "overflow": null,
            "overflow_x": null,
            "overflow_y": null,
            "padding": null,
            "right": null,
            "top": null,
            "visibility": null,
            "width": null
          }
        },
        "9b1dde94e6b041a987c726653a9426b3": {
          "model_module": "@jupyter-widgets/base",
          "model_name": "LayoutModel",
          "model_module_version": "1.2.0",
          "state": {
            "_model_module": "@jupyter-widgets/base",
            "_model_module_version": "1.2.0",
            "_model_name": "LayoutModel",
            "_view_count": null,
            "_view_module": "@jupyter-widgets/base",
            "_view_module_version": "1.2.0",
            "_view_name": "LayoutView",
            "align_content": null,
            "align_items": null,
            "align_self": null,
            "border": null,
            "bottom": null,
            "display": null,
            "flex": null,
            "flex_flow": null,
            "grid_area": null,
            "grid_auto_columns": null,
            "grid_auto_flow": null,
            "grid_auto_rows": null,
            "grid_column": null,
            "grid_gap": null,
            "grid_row": null,
            "grid_template_areas": null,
            "grid_template_columns": null,
            "grid_template_rows": null,
            "height": null,
            "justify_content": null,
            "justify_items": null,
            "left": null,
            "margin": null,
            "max_height": null,
            "max_width": null,
            "min_height": null,
            "min_width": null,
            "object_fit": null,
            "object_position": null,
            "order": null,
            "overflow": null,
            "overflow_x": null,
            "overflow_y": null,
            "padding": null,
            "right": null,
            "top": null,
            "visibility": null,
            "width": null
          }
        },
        "8e65c7d8cf7042fca55537f0190f3c76": {
          "model_module": "@jupyter-widgets/controls",
          "model_name": "DescriptionStyleModel",
          "model_module_version": "1.5.0",
          "state": {
            "_model_module": "@jupyter-widgets/controls",
            "_model_module_version": "1.5.0",
            "_model_name": "DescriptionStyleModel",
            "_view_count": null,
            "_view_module": "@jupyter-widgets/base",
            "_view_module_version": "1.2.0",
            "_view_name": "StyleView",
            "description_width": ""
          }
        },
        "0965f3357aaf4d9ab01e11e53a5d6423": {
          "model_module": "@jupyter-widgets/base",
          "model_name": "LayoutModel",
          "model_module_version": "1.2.0",
          "state": {
            "_model_module": "@jupyter-widgets/base",
            "_model_module_version": "1.2.0",
            "_model_name": "LayoutModel",
            "_view_count": null,
            "_view_module": "@jupyter-widgets/base",
            "_view_module_version": "1.2.0",
            "_view_name": "LayoutView",
            "align_content": null,
            "align_items": null,
            "align_self": null,
            "border": null,
            "bottom": null,
            "display": null,
            "flex": null,
            "flex_flow": null,
            "grid_area": null,
            "grid_auto_columns": null,
            "grid_auto_flow": null,
            "grid_auto_rows": null,
            "grid_column": null,
            "grid_gap": null,
            "grid_row": null,
            "grid_template_areas": null,
            "grid_template_columns": null,
            "grid_template_rows": null,
            "height": null,
            "justify_content": null,
            "justify_items": null,
            "left": null,
            "margin": null,
            "max_height": null,
            "max_width": null,
            "min_height": null,
            "min_width": null,
            "object_fit": null,
            "object_position": null,
            "order": null,
            "overflow": null,
            "overflow_x": null,
            "overflow_y": null,
            "padding": null,
            "right": null,
            "top": null,
            "visibility": null,
            "width": null
          }
        },
        "58b7d034a0f14ce582f502a99a80c27b": {
          "model_module": "@jupyter-widgets/controls",
          "model_name": "ProgressStyleModel",
          "model_module_version": "1.5.0",
          "state": {
            "_model_module": "@jupyter-widgets/controls",
            "_model_module_version": "1.5.0",
            "_model_name": "ProgressStyleModel",
            "_view_count": null,
            "_view_module": "@jupyter-widgets/base",
            "_view_module_version": "1.2.0",
            "_view_name": "StyleView",
            "bar_color": null,
            "description_width": ""
          }
        },
        "5c1db11edf5e4bd798b5231e140312d4": {
          "model_module": "@jupyter-widgets/base",
          "model_name": "LayoutModel",
          "model_module_version": "1.2.0",
          "state": {
            "_model_module": "@jupyter-widgets/base",
            "_model_module_version": "1.2.0",
            "_model_name": "LayoutModel",
            "_view_count": null,
            "_view_module": "@jupyter-widgets/base",
            "_view_module_version": "1.2.0",
            "_view_name": "LayoutView",
            "align_content": null,
            "align_items": null,
            "align_self": null,
            "border": null,
            "bottom": null,
            "display": null,
            "flex": null,
            "flex_flow": null,
            "grid_area": null,
            "grid_auto_columns": null,
            "grid_auto_flow": null,
            "grid_auto_rows": null,
            "grid_column": null,
            "grid_gap": null,
            "grid_row": null,
            "grid_template_areas": null,
            "grid_template_columns": null,
            "grid_template_rows": null,
            "height": null,
            "justify_content": null,
            "justify_items": null,
            "left": null,
            "margin": null,
            "max_height": null,
            "max_width": null,
            "min_height": null,
            "min_width": null,
            "object_fit": null,
            "object_position": null,
            "order": null,
            "overflow": null,
            "overflow_x": null,
            "overflow_y": null,
            "padding": null,
            "right": null,
            "top": null,
            "visibility": null,
            "width": null
          }
        },
        "4b17de99e6d8411c96d9e8741726d2f4": {
          "model_module": "@jupyter-widgets/controls",
          "model_name": "DescriptionStyleModel",
          "model_module_version": "1.5.0",
          "state": {
            "_model_module": "@jupyter-widgets/controls",
            "_model_module_version": "1.5.0",
            "_model_name": "DescriptionStyleModel",
            "_view_count": null,
            "_view_module": "@jupyter-widgets/base",
            "_view_module_version": "1.2.0",
            "_view_name": "StyleView",
            "description_width": ""
          }
        },
        "69a6753cbb8e43b8b79424960d336796": {
          "model_module": "@jupyter-widgets/controls",
          "model_name": "HBoxModel",
          "model_module_version": "1.5.0",
          "state": {
            "_dom_classes": [],
            "_model_module": "@jupyter-widgets/controls",
            "_model_module_version": "1.5.0",
            "_model_name": "HBoxModel",
            "_view_count": null,
            "_view_module": "@jupyter-widgets/controls",
            "_view_module_version": "1.5.0",
            "_view_name": "HBoxView",
            "box_style": "",
            "children": [
              "IPY_MODEL_1a04878280df49e1aa49804baeeecdd4",
              "IPY_MODEL_b19b6f9c5f0744b196dfe09cbfb27b71",
              "IPY_MODEL_8d35edc3248a453798e991c66da78c55"
            ],
            "layout": "IPY_MODEL_8d065f01a65046fc890c874b2e3f34ce"
          }
        },
        "1a04878280df49e1aa49804baeeecdd4": {
          "model_module": "@jupyter-widgets/controls",
          "model_name": "HTMLModel",
          "model_module_version": "1.5.0",
          "state": {
            "_dom_classes": [],
            "_model_module": "@jupyter-widgets/controls",
            "_model_module_version": "1.5.0",
            "_model_name": "HTMLModel",
            "_view_count": null,
            "_view_module": "@jupyter-widgets/controls",
            "_view_module_version": "1.5.0",
            "_view_name": "HTMLView",
            "description": "",
            "description_tooltip": null,
            "layout": "IPY_MODEL_698286bc9dd648118c493ed866e64f29",
            "placeholder": "​",
            "style": "IPY_MODEL_79422ac3534846879e8df9781945f759",
            "value": "100%"
          }
        },
        "b19b6f9c5f0744b196dfe09cbfb27b71": {
          "model_module": "@jupyter-widgets/controls",
          "model_name": "FloatProgressModel",
          "model_module_version": "1.5.0",
          "state": {
            "_dom_classes": [],
            "_model_module": "@jupyter-widgets/controls",
            "_model_module_version": "1.5.0",
            "_model_name": "FloatProgressModel",
            "_view_count": null,
            "_view_module": "@jupyter-widgets/controls",
            "_view_module_version": "1.5.0",
            "_view_name": "ProgressView",
            "bar_style": "success",
            "description": "",
            "description_tooltip": null,
            "layout": "IPY_MODEL_b0cf6240630c41ccb6a3a43ea868e95f",
            "max": 650,
            "min": 0,
            "orientation": "horizontal",
            "style": "IPY_MODEL_c73ad683a473497ea639074d10bc140f",
            "value": 650
          }
        },
        "8d35edc3248a453798e991c66da78c55": {
          "model_module": "@jupyter-widgets/controls",
          "model_name": "HTMLModel",
          "model_module_version": "1.5.0",
          "state": {
            "_dom_classes": [],
            "_model_module": "@jupyter-widgets/controls",
            "_model_module_version": "1.5.0",
            "_model_name": "HTMLModel",
            "_view_count": null,
            "_view_module": "@jupyter-widgets/controls",
            "_view_module_version": "1.5.0",
            "_view_name": "HTMLView",
            "description": "",
            "description_tooltip": null,
            "layout": "IPY_MODEL_534fae87ee68419eb3b8d8a5a6957fd4",
            "placeholder": "​",
            "style": "IPY_MODEL_bf148ea3ff9841b4aaaa61e902abebe1",
            "value": " 650/650 [04:26&lt;00:00,  2.71it/s]"
          }
        },
        "8d065f01a65046fc890c874b2e3f34ce": {
          "model_module": "@jupyter-widgets/base",
          "model_name": "LayoutModel",
          "model_module_version": "1.2.0",
          "state": {
            "_model_module": "@jupyter-widgets/base",
            "_model_module_version": "1.2.0",
            "_model_name": "LayoutModel",
            "_view_count": null,
            "_view_module": "@jupyter-widgets/base",
            "_view_module_version": "1.2.0",
            "_view_name": "LayoutView",
            "align_content": null,
            "align_items": null,
            "align_self": null,
            "border": null,
            "bottom": null,
            "display": null,
            "flex": null,
            "flex_flow": null,
            "grid_area": null,
            "grid_auto_columns": null,
            "grid_auto_flow": null,
            "grid_auto_rows": null,
            "grid_column": null,
            "grid_gap": null,
            "grid_row": null,
            "grid_template_areas": null,
            "grid_template_columns": null,
            "grid_template_rows": null,
            "height": null,
            "justify_content": null,
            "justify_items": null,
            "left": null,
            "margin": null,
            "max_height": null,
            "max_width": null,
            "min_height": null,
            "min_width": null,
            "object_fit": null,
            "object_position": null,
            "order": null,
            "overflow": null,
            "overflow_x": null,
            "overflow_y": null,
            "padding": null,
            "right": null,
            "top": null,
            "visibility": null,
            "width": null
          }
        },
        "698286bc9dd648118c493ed866e64f29": {
          "model_module": "@jupyter-widgets/base",
          "model_name": "LayoutModel",
          "model_module_version": "1.2.0",
          "state": {
            "_model_module": "@jupyter-widgets/base",
            "_model_module_version": "1.2.0",
            "_model_name": "LayoutModel",
            "_view_count": null,
            "_view_module": "@jupyter-widgets/base",
            "_view_module_version": "1.2.0",
            "_view_name": "LayoutView",
            "align_content": null,
            "align_items": null,
            "align_self": null,
            "border": null,
            "bottom": null,
            "display": null,
            "flex": null,
            "flex_flow": null,
            "grid_area": null,
            "grid_auto_columns": null,
            "grid_auto_flow": null,
            "grid_auto_rows": null,
            "grid_column": null,
            "grid_gap": null,
            "grid_row": null,
            "grid_template_areas": null,
            "grid_template_columns": null,
            "grid_template_rows": null,
            "height": null,
            "justify_content": null,
            "justify_items": null,
            "left": null,
            "margin": null,
            "max_height": null,
            "max_width": null,
            "min_height": null,
            "min_width": null,
            "object_fit": null,
            "object_position": null,
            "order": null,
            "overflow": null,
            "overflow_x": null,
            "overflow_y": null,
            "padding": null,
            "right": null,
            "top": null,
            "visibility": null,
            "width": null
          }
        },
        "79422ac3534846879e8df9781945f759": {
          "model_module": "@jupyter-widgets/controls",
          "model_name": "DescriptionStyleModel",
          "model_module_version": "1.5.0",
          "state": {
            "_model_module": "@jupyter-widgets/controls",
            "_model_module_version": "1.5.0",
            "_model_name": "DescriptionStyleModel",
            "_view_count": null,
            "_view_module": "@jupyter-widgets/base",
            "_view_module_version": "1.2.0",
            "_view_name": "StyleView",
            "description_width": ""
          }
        },
        "b0cf6240630c41ccb6a3a43ea868e95f": {
          "model_module": "@jupyter-widgets/base",
          "model_name": "LayoutModel",
          "model_module_version": "1.2.0",
          "state": {
            "_model_module": "@jupyter-widgets/base",
            "_model_module_version": "1.2.0",
            "_model_name": "LayoutModel",
            "_view_count": null,
            "_view_module": "@jupyter-widgets/base",
            "_view_module_version": "1.2.0",
            "_view_name": "LayoutView",
            "align_content": null,
            "align_items": null,
            "align_self": null,
            "border": null,
            "bottom": null,
            "display": null,
            "flex": null,
            "flex_flow": null,
            "grid_area": null,
            "grid_auto_columns": null,
            "grid_auto_flow": null,
            "grid_auto_rows": null,
            "grid_column": null,
            "grid_gap": null,
            "grid_row": null,
            "grid_template_areas": null,
            "grid_template_columns": null,
            "grid_template_rows": null,
            "height": null,
            "justify_content": null,
            "justify_items": null,
            "left": null,
            "margin": null,
            "max_height": null,
            "max_width": null,
            "min_height": null,
            "min_width": null,
            "object_fit": null,
            "object_position": null,
            "order": null,
            "overflow": null,
            "overflow_x": null,
            "overflow_y": null,
            "padding": null,
            "right": null,
            "top": null,
            "visibility": null,
            "width": null
          }
        },
        "c73ad683a473497ea639074d10bc140f": {
          "model_module": "@jupyter-widgets/controls",
          "model_name": "ProgressStyleModel",
          "model_module_version": "1.5.0",
          "state": {
            "_model_module": "@jupyter-widgets/controls",
            "_model_module_version": "1.5.0",
            "_model_name": "ProgressStyleModel",
            "_view_count": null,
            "_view_module": "@jupyter-widgets/base",
            "_view_module_version": "1.2.0",
            "_view_name": "StyleView",
            "bar_color": null,
            "description_width": ""
          }
        },
        "534fae87ee68419eb3b8d8a5a6957fd4": {
          "model_module": "@jupyter-widgets/base",
          "model_name": "LayoutModel",
          "model_module_version": "1.2.0",
          "state": {
            "_model_module": "@jupyter-widgets/base",
            "_model_module_version": "1.2.0",
            "_model_name": "LayoutModel",
            "_view_count": null,
            "_view_module": "@jupyter-widgets/base",
            "_view_module_version": "1.2.0",
            "_view_name": "LayoutView",
            "align_content": null,
            "align_items": null,
            "align_self": null,
            "border": null,
            "bottom": null,
            "display": null,
            "flex": null,
            "flex_flow": null,
            "grid_area": null,
            "grid_auto_columns": null,
            "grid_auto_flow": null,
            "grid_auto_rows": null,
            "grid_column": null,
            "grid_gap": null,
            "grid_row": null,
            "grid_template_areas": null,
            "grid_template_columns": null,
            "grid_template_rows": null,
            "height": null,
            "justify_content": null,
            "justify_items": null,
            "left": null,
            "margin": null,
            "max_height": null,
            "max_width": null,
            "min_height": null,
            "min_width": null,
            "object_fit": null,
            "object_position": null,
            "order": null,
            "overflow": null,
            "overflow_x": null,
            "overflow_y": null,
            "padding": null,
            "right": null,
            "top": null,
            "visibility": null,
            "width": null
          }
        },
        "bf148ea3ff9841b4aaaa61e902abebe1": {
          "model_module": "@jupyter-widgets/controls",
          "model_name": "DescriptionStyleModel",
          "model_module_version": "1.5.0",
          "state": {
            "_model_module": "@jupyter-widgets/controls",
            "_model_module_version": "1.5.0",
            "_model_name": "DescriptionStyleModel",
            "_view_count": null,
            "_view_module": "@jupyter-widgets/base",
            "_view_module_version": "1.2.0",
            "_view_name": "StyleView",
            "description_width": ""
          }
        }
      }
    }
  },
  "nbformat": 4,
  "nbformat_minor": 0
}